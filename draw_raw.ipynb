{
 "cells": [
  {
   "cell_type": "code",
   "execution_count": 43,
   "metadata": {},
   "outputs": [],
   "source": [
    "import pandas as pd\n",
    "import numpy as np\n",
    "import json\n",
    "import cv2\n",
    "import matplotlib.pyplot as plt\n",
    "from sklearn.cluster import KMeans\n",
    "import glob\n",
    "from tqdm import tqdm_notebook\n",
    "import gc\n",
    "import ntpath\n",
    "import os\n",
    "import random\n",
    "from data import *\n",
    "import math"
   ]
  },
  {
   "cell_type": "code",
   "execution_count": null,
   "metadata": {},
   "outputs": [],
   "source": [
    "def path_leaf(path):\n",
    "    head, tail = ntpath.split(path)\n",
    "    return tail or ntpath.basename(head)\n",
    "\n",
    "def get_id_by_path(path):\n",
    "    return cat2id[path_leaf(path)[:-4]]"
   ]
  },
  {
   "cell_type": "code",
   "execution_count": null,
   "metadata": {},
   "outputs": [],
   "source": [
    "def get_color_from_lst(lst, maxlight = True):\n",
    "    min_value = min(lst)\n",
    "    max_value = max(lst)\n",
    "    colors = []\n",
    "    for value in lst:\n",
    "        if max_value == min_value:\n",
    "            color = 255\n",
    "        else:\n",
    "            if maxlight == False:\n",
    "                color = int((max_value - value) / (max_value - min_value) * 200 + 55)\n",
    "            else:\n",
    "                color = int((value - min_value) / (max_value - min_value) * 200 + 55)\n",
    "        colors.append(color)\n",
    "    return colors\n",
    "\n",
    "def get_scale_simple(stroke, pad = 5):\n",
    "    maxx = max([max(s[0]) for s in stroke])\n",
    "    maxy = max([max(s[1]) for s in stroke])\n",
    "    minx = min([min(s[0]) for s in stroke])\n",
    "    miny = min([min(s[1]) for s in stroke])\n",
    "\n",
    "    width = maxx - minx\n",
    "    height = maxy - miny\n",
    "#     print(width, height)\n",
    "    scale = BASE_SIZE / (width + 2 * pad) if width > height else BASE_SIZE / (height + 2 * pad)\n",
    "    return scale, minx, miny\n",
    "\n",
    "def draw_time_encoding(stroke, size=256, lw = 2):\n",
    "    BASE_SIZE = 256\n",
    "    pad = 5\n",
    "    timestamp = []\n",
    "    draw_time = []\n",
    "    pause_time = []\n",
    "    for idx,s in enumerate(stroke):\n",
    "        timestamp.append(s[2][0])\n",
    "        draw_time.append(s[2][-1] - s[2][0])\n",
    "        if idx > 0:\n",
    "            pause_time.append(stroke[idx][2][0] - stroke[idx-1][2][-1])\n",
    "    if len(pause_time) > 0:\n",
    "        pause_time = [min(pause_time)] + pause_time     \n",
    "    else:\n",
    "        pause_time = [0]\n",
    "\n",
    "    drawtime_color = get_color_from_lst(draw_time)\n",
    "    pausetime_color = get_color_from_lst(pause_time)\n",
    "    timestamp_color = get_color_from_lst(timestamp, maxlight=False)\n",
    "    \n",
    "    scale, minx, miny = get_scale_simple(stroke, pad)\n",
    "    \n",
    "    img = np.zeros((BASE_SIZE, BASE_SIZE, 3), np.uint8)\n",
    "    stroke_num = len(stroke)\n",
    "    for idx,s in enumerate(stroke):\n",
    "        time_start_color = timestamp_color[idx]\n",
    "        if idx == stroke_num - 1:\n",
    "            time_end_color = 55\n",
    "        else:\n",
    "            time_end_color = timestamp_color[idx + 1]\n",
    "            \n",
    "        ptr_num = len(s[0])\n",
    "        for i in range(ptr_num - 1):\n",
    "            x0 = int((s[0][i] - minx + pad) * scale)\n",
    "            y0 = int((s[1][i] - miny + pad) * scale)\n",
    "            x1 = int((s[0][i+1] - minx + pad) * scale)\n",
    "            y1 = int((s[1][i + 1] - miny + pad) * scale)\n",
    "            \n",
    "            ratio = i / ptr_num\n",
    "            timecolor = int(time_start_color * (1 - ratio) + time_end_color * ratio)\n",
    "            color = (timecolor, drawtime_color[idx], pausetime_color[idx])\n",
    "            cv2.line(img, (x0, y0), (x1, y1), color, lw)\n",
    "    \n",
    "    if size != BASE_SIZE:\n",
    "        img = cv2.resize(img, (size, size))\n",
    "    return img"
   ]
  },
  {
   "cell_type": "code",
   "execution_count": null,
   "metadata": {},
   "outputs": [],
   "source": [
    "\n",
    "def image_detail_generator(size, batchsize, lw = 6, preprocess_input = None):\n",
    "\n",
    "    np_classes = np.load('../input/classes.npy')\n",
    "    cat2id = {cat.replace(' ', '_'):k for k, cat in enumerate(np_classes)}\n",
    "\n",
    "    files = glob.glob('../input/train_raw/*.csv')\n",
    "\n",
    "    readers = []\n",
    "    for f in files:\n",
    "        readers.append(pd.read_csv(f, chunksize=1))\n",
    "\n",
    "    while True:\n",
    "        x = np.zeros((batchsize, size, size, 3), dtype=np.uint8)\n",
    "        y = np.zeros(batchsize, dtype=np.uint32)\n",
    "        for i in range(batchsize):\n",
    "            idx = random.randint(0, len(readers) - 1)\n",
    "            line = next(readers[idx])\n",
    "            stroke = json.loads(line['drawing'].values[0])\n",
    "            img = draw_time_encoding(stroke, size=size, lw=lw)\n",
    "\n",
    "            id = cat2id[line['word'].values[0].replace(' ', '_')]\n",
    "            x[i,...] = img\n",
    "            y[i] = id\n",
    "            \n",
    "        if preprocess_input is not None:\n",
    "            x = preprocess_input(x.astype(np.float32)).astype(np.float32)\n",
    "        y = keras.utils.to_categorical(y, num_classes=NCATS)\n",
    "        \n",
    "        yield x, y"
   ]
  },
  {
   "cell_type": "code",
   "execution_count": 2,
   "metadata": {},
   "outputs": [],
   "source": [
    "gen = image_detail_generator_temp(71, 16, draw_drawtime_parts, lw = 6)"
   ]
  },
  {
   "cell_type": "code",
   "execution_count": 3,
   "metadata": {},
   "outputs": [
    {
     "name": "stdout",
     "output_type": "stream",
     "text": [
      "gen inited\n"
     ]
    },
    {
     "data": {
      "text/plain": [
       "<Figure size 432x288 with 0 Axes>"
      ]
     },
     "metadata": {},
     "output_type": "display_data"
    },
    {
     "data": {
      "image/png": "[encoded data removed]",
      "text/plain": [
       "<Figure size 720x1080 with 16 Axes>"
      ]
     },
     "metadata": {},
     "output_type": "display_data"
    },
    {
     "name": "stdout",
     "output_type": "stream",
     "text": [
      "CPU times: user 812 ms, sys: 824 ms, total: 1.64 s\n",
      "Wall time: 1.09 s\n"
     ]
    }
   ],
   "source": [
    "%%time\n",
    "x, y = next(gen)\n",
    "plotDoodles(x)"
   ]
  },
  {
   "cell_type": "code",
   "execution_count": null,
   "metadata": {},
   "outputs": [],
   "source": [
    "df = pd.read_csv('../input/train_raw/airplane.csv', nrows=100)\n"
   ]
  },
  {
   "cell_type": "code",
   "execution_count": null,
   "metadata": {},
   "outputs": [],
   "source": [
    "df.head()"
   ]
  },
  {
   "cell_type": "code",
   "execution_count": null,
   "metadata": {},
   "outputs": [],
   "source": [
    "stroke = json.loads(df.iloc[4]['drawing'])"
   ]
  },
  {
   "cell_type": "code",
   "execution_count": null,
   "metadata": {},
   "outputs": [],
   "source": []
  },
  {
   "cell_type": "code",
   "execution_count": null,
   "metadata": {},
   "outputs": [],
   "source": [
    "def draw_drawtime_parts(stroke, size=256, lw = 2):\n",
    "    BASE_SIZE = 256\n",
    "    pad = 5\n",
    "    timestamp = []\n",
    "    draw_time = []\n",
    "    for idx,s in enumerate(stroke):\n",
    "        timestamp.append(s[2][0])\n",
    "        draw_time.append(s[2][-1] - s[2][0])\n",
    "    \n",
    "    if len(stroke) > 1:\n",
    "        log_draw_time = [math.log1p(t) for t in draw_time]\n",
    "        X = np.array(log_draw_time).reshape(-1,1)\n",
    "        kmeans = KMeans(n_clusters=2)\n",
    "        kmeans.fit(X)\n",
    "        y_kmeans = kmeans.predict(X)\n",
    "        draw_type = list(y_kmeans)\n",
    "\n",
    "        drawtime0 = []\n",
    "        drawtime1 = []\n",
    "        for idx,tag in enumerate(draw_type):\n",
    "            if tag == 0:\n",
    "                drawtime0.append(draw_time[idx])\n",
    "            else:\n",
    "                drawtime1.append(draw_time[idx])\n",
    "        mean0 = np.mean(drawtime0)\n",
    "        mean1 = np.mean(drawtime1)\n",
    "\n",
    "        if mean0 > mean1:\n",
    "            outline = 0\n",
    "            detail = 1\n",
    "        else:\n",
    "            outline = 1\n",
    "            detail = 0\n",
    "    else:\n",
    "        draw_type = [0]\n",
    "        outline = 0\n",
    "        detail = 1\n",
    "\n",
    "    timestamp_color = get_color_from_lst(timestamp, maxlight=False)\n",
    "    scale, minx, miny = get_scale_simple(stroke, pad)\n",
    "\n",
    "    img = np.zeros((BASE_SIZE, BASE_SIZE, 3), np.uint8)\n",
    "    stroke_num = len(stroke)\n",
    "    for idx,s in enumerate(stroke):\n",
    "        time_start_color = timestamp_color[idx]\n",
    "        if idx == stroke_num - 1:\n",
    "            time_end_color = 55\n",
    "        else:\n",
    "            time_end_color = timestamp_color[idx + 1]\n",
    "\n",
    "        ptr_num = len(s[0])\n",
    "        for i in range(ptr_num - 1):\n",
    "            x0 = int((s[0][i] - minx + pad) * scale)\n",
    "            y0 = int((s[1][i] - miny + pad) * scale)\n",
    "            x1 = int((s[0][i+1] - minx + pad) * scale)\n",
    "            y1 = int((s[1][i + 1] - miny + pad) * scale)\n",
    "\n",
    "            ratio = i / ptr_num\n",
    "            timecolor = int(time_start_color * (1 - ratio) + time_end_color * ratio)\n",
    "            color = (timecolor, \n",
    "                     255 if draw_type[idx] == outline else 0, \n",
    "                     255 if draw_type[idx] == detail else 0)\n",
    "            cv2.line(img, (x0, y0), (x1, y1), color, lw)\n",
    "            \n",
    "    if size != BASE_SIZE:\n",
    "        img = cv2.resize(img, (size, size))\n",
    "        \n",
    "    return img"
   ]
  },
  {
   "cell_type": "code",
   "execution_count": null,
   "metadata": {},
   "outputs": [],
   "source": [
    "stroke = json.loads(df.iloc[28]['drawing'])\n",
    "plt.imshow(draw_drawtime_parts(stroke, lw=2))"
   ]
  },
  {
   "cell_type": "code",
   "execution_count": null,
   "metadata": {},
   "outputs": [],
   "source": []
  },
  {
   "cell_type": "code",
   "execution_count": null,
   "metadata": {},
   "outputs": [],
   "source": [
    "\n"
   ]
  },
  {
   "cell_type": "code",
   "execution_count": null,
   "metadata": {},
   "outputs": [],
   "source": []
  },
  {
   "cell_type": "code",
   "execution_count": null,
   "metadata": {},
   "outputs": [],
   "source": []
  },
  {
   "cell_type": "code",
   "execution_count": null,
   "metadata": {},
   "outputs": [],
   "source": [
    "detail"
   ]
  },
  {
   "cell_type": "code",
   "execution_count": null,
   "metadata": {},
   "outputs": [],
   "source": [
    "def draw_drawtime_parts(stroke, size=256, lw = 2):\n",
    "    BASE_SIZE = 256\n",
    "    pad = 5\n",
    "    timestamp = []\n",
    "    draw_time = []\n",
    "    pause_time = []\n",
    "    for idx,s in enumerate(stroke):\n",
    "        timestamp.append(s[2][0])\n",
    "        draw_time.append(s[2][-1] - s[2][0])\n",
    "        if idx > 0:\n",
    "            pause_time.append(stroke[idx][2][0] - stroke[idx-1][2][-1])\n",
    "    if len(pause_time) > 0:\n",
    "        pause_time = [min(pause_time)] + pause_time     \n",
    "    else:\n",
    "        pause_time = [0]\n",
    "\n",
    "    if len(draw_time) > 1:\n",
    "        X = np.array(draw_time).reshape(-1,1)\n",
    "        kmeans = KMeans(n_clusters=2)\n",
    "        kmeans.fit(X)\n",
    "        y_kmeans = kmeans.predict(X)\n",
    "        draw_type = list(y_kmeans)\n",
    "\n",
    "    drawtime_color = get_color_from_lst(draw_time)\n",
    "    pausetime_color = get_color_from_lst(pause_time)\n",
    "    timestamp_color = get_color_from_lst(timestamp, maxlight=False)\n",
    "    \n",
    "    scale, minx, miny = get_scale_simple(stroke, pad)\n",
    "    \n",
    "    img = np.zeros((BASE_SIZE, BASE_SIZE, 3), np.uint8)\n",
    "    stroke_num = len(stroke)\n",
    "    for idx,s in enumerate(stroke):\n",
    "        time_start_color = timestamp_color[idx]\n",
    "        if idx == stroke_num - 1:\n",
    "            time_end_color = 55\n",
    "        else:\n",
    "            time_end_color = timestamp_color[idx + 1]\n",
    "            \n",
    "        ptr_num = len(s[0])\n",
    "        for i in range(ptr_num - 1):\n",
    "            x0 = int((s[0][i] - minx + pad) * scale)\n",
    "            y0 = int((s[1][i] - miny + pad) * scale)\n",
    "            x1 = int((s[0][i+1] - minx + pad) * scale)\n",
    "            y1 = int((s[1][i + 1] - miny + pad) * scale)\n",
    "            \n",
    "            ratio = i / ptr_num\n",
    "            timecolor = int(time_start_color * (1 - ratio) + time_end_color * ratio)\n",
    "            color = (timecolor, drawtime_color[idx], pausetime_color[idx])\n",
    "            cv2.line(img, (x0, y0), (x1, y1), color, lw)\n",
    "    \n",
    "    if size != BASE_SIZE:\n",
    "        img = cv2.resize(img, (size, size))\n",
    "    return img"
   ]
  },
  {
   "cell_type": "code",
   "execution_count": null,
   "metadata": {},
   "outputs": [],
   "source": [
    "img = draw_time_encoding(stroke)\n",
    "# "
   ]
  },
  {
   "cell_type": "code",
   "execution_count": null,
   "metadata": {},
   "outputs": [],
   "source": [
    "plt.imshow(img)"
   ]
  },
  {
   "cell_type": "code",
   "execution_count": null,
   "metadata": {},
   "outputs": [],
   "source": [
    "plt.imshow(img)"
   ]
  },
  {
   "cell_type": "code",
   "execution_count": null,
   "metadata": {},
   "outputs": [],
   "source": [
    "%%time\n",
    "get_scale_simple(stroke)"
   ]
  },
  {
   "cell_type": "code",
   "execution_count": null,
   "metadata": {},
   "outputs": [],
   "source": []
  },
  {
   "cell_type": "code",
   "execution_count": null,
   "metadata": {},
   "outputs": [],
   "source": [
    "valid_path = '../input/valid_raw.csv'\n",
    "if os.path.exists(valid_path):\n",
    "    df_valid_total = pd.read_csv(valid_path)\n",
    "else:\n",
    "    df_valid_total = pd.DataFrame(columns=['drawing','word'])\n",
    "for idx, file in tqdm_notebook(enumerate(files)):\n",
    "    \n",
    "    if path_leaf(file)[:-4] in df_valid_total.word.unique():\n",
    "        print('skip', file)\n",
    "        continue\n",
    "    \n",
    "    df = pd.read_csv(file)\n",
    "    valdf = df[-100:][['drawing','word']]\n",
    "    df_valid_total = df_valid_total.append(valdf, ignore_index=True)\n",
    "    df = df[:-100]\n",
    "    df.to_csv(file, index = False)\n",
    "    del df\n",
    "    gc.collect()\n",
    "    \n",
    "    df_valid_total.to_csv('../input/valid_raw.csv', index=False)\n",
    "#     if idx > 5:\n",
    "#         break\n"
   ]
  },
  {
   "cell_type": "code",
   "execution_count": null,
   "metadata": {},
   "outputs": [],
   "source": [
    "df_valid_total.shape"
   ]
  },
  {
   "cell_type": "code",
   "execution_count": null,
   "metadata": {},
   "outputs": [],
   "source": [
    "df_valid_total.word.unique()"
   ]
  },
  {
   "cell_type": "code",
   "execution_count": null,
   "metadata": {},
   "outputs": [],
   "source": [
    "raw = pd.read_csv('../input/train_raw/angel.csv')\n",
    "raw.shape"
   ]
  },
  {
   "cell_type": "code",
   "execution_count": null,
   "metadata": {},
   "outputs": [],
   "source": [
    "raw[-100:].shape"
   ]
  },
  {
   "cell_type": "code",
   "execution_count": null,
   "metadata": {},
   "outputs": [],
   "source": [
    "tmp = raw.iloc[0]"
   ]
  },
  {
   "cell_type": "code",
   "execution_count": null,
   "metadata": {},
   "outputs": [],
   "source": [
    "tmp = tmp.drawing"
   ]
  },
  {
   "cell_type": "code",
   "execution_count": null,
   "metadata": {},
   "outputs": [],
   "source": []
  },
  {
   "cell_type": "code",
   "execution_count": null,
   "metadata": {},
   "outputs": [],
   "source": [
    "pause_time = []\n",
    "for i in range(1,len(stroke)):\n",
    "    pause_time.append(stroke[i][2][0] - stroke[i-1][2][-1])\n",
    "pause_time = [min(pause_time)] + pause_time\n",
    "    \n",
    "X = np.array(pause_time[1:]).reshape(-1,1)\n",
    "kmeans = KMeans(n_clusters=2)\n",
    "kmeans.fit(X)\n",
    "y_kmeans = kmeans.predict(X)\n",
    "pause_type = [0] + list(y_kmeans)"
   ]
  },
  {
   "cell_type": "code",
   "execution_count": null,
   "metadata": {},
   "outputs": [],
   "source": [
    "pause_time"
   ]
  },
  {
   "cell_type": "code",
   "execution_count": null,
   "metadata": {},
   "outputs": [],
   "source": [
    "draw_time = []\n",
    "for s in stroke:\n",
    "    draw_time.append(s[2][-1] - s[2][0])\n",
    "    \n",
    "X = np.array(draw_time).reshape(-1,1)\n",
    "kmeans = KMeans(n_clusters=2)\n",
    "kmeans.fit(X)\n",
    "y_kmeans = kmeans.predict(X)\n",
    "draw_type = list(y_kmeans)"
   ]
  },
  {
   "cell_type": "code",
   "execution_count": null,
   "metadata": {},
   "outputs": [],
   "source": [
    "timestamp = []\n",
    "for s in stroke:\n",
    "    timestamp.append(s[2][0])\n",
    "max_timestamp = max(timestamp)"
   ]
  },
  {
   "cell_type": "code",
   "execution_count": null,
   "metadata": {},
   "outputs": [],
   "source": []
  },
  {
   "cell_type": "code",
   "execution_count": null,
   "metadata": {},
   "outputs": [],
   "source": []
  },
  {
   "cell_type": "code",
   "execution_count": null,
   "metadata": {},
   "outputs": [],
   "source": [
    "len(stroke)"
   ]
  },
  {
   "cell_type": "code",
   "execution_count": null,
   "metadata": {},
   "outputs": [],
   "source": [
    "stroke = json.loads(raw.iloc[14].drawing)\n",
    "img = draw_time_encoding(stroke)\n",
    "fig, axs = plt.subplots(1,4,figsize=(10,15))\n",
    "axs[0].imshow(img)\n",
    "axs[1].imshow(img[...,0].squeeze())\n",
    "axs[2].imshow(img[...,1].squeeze())\n",
    "axs[3].imshow(img[...,2].squeeze())"
   ]
  },
  {
   "cell_type": "code",
   "execution_count": null,
   "metadata": {},
   "outputs": [],
   "source": []
  },
  {
   "cell_type": "code",
   "execution_count": null,
   "metadata": {},
   "outputs": [],
   "source": [
    "img = np.zeros((BASE_SIZE, BASE_SIZE), np.uint8)"
   ]
  },
  {
   "cell_type": "code",
   "execution_count": null,
   "metadata": {},
   "outputs": [],
   "source": [
    "cv2.line(img, (0, 0), (100, 100), 255, 2)"
   ]
  },
  {
   "cell_type": "code",
   "execution_count": null,
   "metadata": {},
   "outputs": [],
   "source": [
    "drawtime_color = get_color_from_lst(draw_time)\n",
    "pausetime_color = get_color_from_lst(pause_time)\n",
    "timestamp_color = get_color_from_lst(timestamp, maxlight=False)"
   ]
  },
  {
   "cell_type": "code",
   "execution_count": null,
   "metadata": {},
   "outputs": [],
   "source": [
    "BASE_SIZE = 256\n",
    "\n",
    "minx = np.inf\n",
    "maxx = -np.inf\n",
    "miny = np.inf\n",
    "maxy = -np.inf\n",
    "for s in stroke:\n",
    "    mx = max(s[0])\n",
    "    ix = min(s[0])\n",
    "    my = max(s[1])\n",
    "    iy = min(s[1])\n",
    "    \n",
    "    maxx = mx if mx > maxx else maxx\n",
    "    minx = ix if ix < minx else minx\n",
    "    maxy = my if my > maxy else maxy\n",
    "    miny = iy if iy < miny else miny\n",
    "print(minx, maxx, miny, maxy)\n",
    "\n",
    "width = maxx - minx\n",
    "height = maxy - miny\n",
    "print(width, height)\n",
    "\n",
    "if width > height:\n",
    "    scale = BASE_SIZE / (width + 2 * pad)\n",
    "else:\n",
    "    scale = BASE_SIZE / (height + 2 * pad)\n",
    "print(scale)\n",
    "\n",
    "pad = 5\n",
    "lw = 2\n",
    "img = np.zeros((BASE_SIZE, BASE_SIZE), np.uint8)\n",
    "for idx,s in enumerate(stroke):\n",
    "#     color = 255 if draw_type[idx] == 0 else 50\n",
    "    color = pausetime_color[idx]\n",
    "    for i in range(len(s[0]) - 1):\n",
    "        x0 = int((s[0][i] - minx + pad) * scale)\n",
    "        y0 = int((s[1][i] - miny + pad) * scale)\n",
    "        x1 = int((s[0][i+1] - minx + pad) * scale)\n",
    "        y1 = int((s[1][i + 1] - miny + pad) * scale)\n",
    "        cv2.line(img, (x0, y0),\n",
    "                 (x1, y1), color, lw)\n",
    "    \n",
    "plt.imshow(img)"
   ]
  },
  {
   "cell_type": "code",
   "execution_count": null,
   "metadata": {},
   "outputs": [],
   "source": [
    "df_valid_total.shape"
   ]
  },
  {
   "cell_type": "code",
   "execution_count": null,
   "metadata": {},
   "outputs": [],
   "source": [
    "def df_to_image_array_timeencoding(df, size, lw=6, preprocess_input = None):\n",
    "    df['drawing'] = df['drawing'].apply(json.loads)\n",
    "    x = np.zeros((len(df), size, size, 3 ), dtype=np.uint8)\n",
    "    for i, raw_strokes in enumerate(df.drawing.values):\n",
    "        img = draw_time_encoding(raw_strokes, size=size, lw=lw)\n",
    "        x[i, ...] = img\n",
    "    if preprocess_input is not None:\n",
    "        print('x shape',x.shape, 'x max', x.max())\n",
    "        x = preprocess_input(x.astype(np.float32)).astype(np.float32)\n",
    "    return x "
   ]
  },
  {
   "cell_type": "code",
   "execution_count": null,
   "metadata": {},
   "outputs": [],
   "source": [
    "val_x = df_to_image_array_timeencoding(df_valid_total, 71, lw = 6)"
   ]
  },
  {
   "cell_type": "code",
   "execution_count": null,
   "metadata": {},
   "outputs": [],
   "source": [
    "valid_df = pd.read_csv('../input/valid_raw.csv')\n",
    "np_classes = np.load('../input/classes.npy')\n",
    "cat2id = {cat.replace(' ', '_'):k for k, cat in enumerate(np_classes)}\n",
    "valid_df.word = valid_df.word.apply(lambda x: cat2id[x.replace(' ', '_')])\n",
    "y_valid = keras.utils.to_categorical(valid_df.word, num_classes=NCATS)"
   ]
  },
  {
   "cell_type": "code",
   "execution_count": null,
   "metadata": {},
   "outputs": [],
   "source": [
    "y_valid.shape"
   ]
  },
  {
   "cell_type": "code",
   "execution_count": 75,
   "metadata": {},
   "outputs": [],
   "source": [
    "def angle_between(v1, v2):\n",
    "    import math\n",
    "    v1_theta = math.atan2(v1[1], v1[0])\n",
    "    v2_theta = math.atan2(v2[1], v2[0])\n",
    "    return (v2_theta - v1_theta) * (180.0 / math.pi)"
   ]
  },
  {
   "cell_type": "code",
   "execution_count": 8,
   "metadata": {},
   "outputs": [],
   "source": [
    "val_df = pd.read_csv('../input/valid.csv', nrows=10)"
   ]
  },
  {
   "cell_type": "code",
   "execution_count": null,
   "metadata": {},
   "outputs": [],
   "source": [
    "val_df.iloc[1]['drawing']"
   ]
  },
  {
   "cell_type": "code",
   "execution_count": 241,
   "metadata": {},
   "outputs": [
    {
     "name": "stdout",
     "output_type": "stream",
     "text": [
      "CPU times: user 280 ms, sys: 0 ns, total: 280 ms\n",
      "Wall time: 277 ms\n"
     ]
    }
   ],
   "source": [
    "%%time\n",
    "for i in range(100):\n",
    "    _stack_it(val_df.iloc[1]['drawing'])"
   ]
  },
  {
   "cell_type": "code",
   "execution_count": 242,
   "metadata": {},
   "outputs": [
    {
     "name": "stdout",
     "output_type": "stream",
     "text": [
      "CPU times: user 48 ms, sys: 0 ns, total: 48 ms\n",
      "Wall time: 48.6 ms\n"
     ]
    }
   ],
   "source": [
    "%%time\n",
    "for i in range(100):\n",
    "    _stack_it_opt(val_df.iloc[1]['drawing'])"
   ]
  },
  {
   "cell_type": "code",
   "execution_count": 181,
   "metadata": {},
   "outputs": [
    {
     "data": {
      "text/plain": [
       "array([[ 124,   78,    0,    1,    2,    0,  379,    0,    0],\n",
       "       [  62,   69,    0,    1,    1,   62,  379,    0,   62],\n",
       "       [  40,   72, -343,    1,    1,   22,  379, -343,   84],\n",
       "       [  24,   79,   15,    1,    1,   17,  379, -328,  101],\n",
       "       [   5,   99,   22,    1,    1,   27,  379, -306,  128],\n",
       "       [   0,  118,   28,    1,    1,   19,  379, -278,  147],\n",
       "       [   8,  135,   39,    1,    1,   18,  379, -239,  165],\n",
       "       [  31,  148,   35,    1,    1,   26,  379, -204,  191],\n",
       "       [  57,  152,   20,    1,    1,   26,  379, -184,  217],\n",
       "       [  94,  152,    8,    1,    1,   37,  379, -176,  254],\n",
       "       [ 117,  146,   14,    1,    1,   23,  379, -162,  277],\n",
       "       [ 132,  138,   13,    1,    1,   17,  379, -149,  294],\n",
       "       [ 146,  117,   28,    1,    1,   25,  379, -121,  319],\n",
       "       [ 145,   99,   36,    1,    1,   18,  379,  -85,  337],\n",
       "       [ 132,   83,   35,    1,    1,   20,  379,  -50,  357],\n",
       "       [ 111,   75,   30,    1,    1,   22,  379,  -20,  379],\n",
       "       [   6,  124,    0,    2,    2,    0,  275,    0,    0],\n",
       "       [  19,  158,    0,    2,    1,   36,  275,    0,   36],\n",
       "       [  26,  165,   24,    2,    1,    9,  275,   24,   45],\n",
       "       [  43,  171,   25,    2,    1,   18,  275,   49,   63],\n",
       "       [  74,  172,   17,    2,    1,   31,  275,   66,   94],\n",
       "       [ 106,  168,    8,    2,    1,   32,  275,   74,  126],\n",
       "       [ 123,  159,   20,    2,    1,   19,  275,   94,  145],\n",
       "       [ 132,  146,   27,    2,    1,   15,  275,  121,  160],\n",
       "       [ 142,   95,    0,    3,    2,    0,  366,    0,    0],\n",
       "       [ 216,   34,    0,    3,    1,   95,  366,    0,   95],\n",
       "       [ 250,    0,    5,    3,    1,   48,  366,    5,  143],\n",
       "       [ 255,   37, -127,    3,    1,   37,  366, -122,  180],\n",
       "       [ 253,   41,  -34,    3,    1,    4,  366, -156,  184],\n",
       "       [ 223,   57,  -35,    3,    1,   34,  366, -191,  218],\n",
       "       [ 185,   84,    7,    3,    1,   46,  366, -184,  264],\n",
       "       [ 140,  109,   -6,    3,    1,   51,  366, -190,  315]])"
      ]
     },
     "execution_count": 181,
     "metadata": {},
     "output_type": "execute_result"
    }
   ],
   "source": [
    "_stack_it8_new(val_df.iloc[1]['drawing'])"
   ]
  },
  {
   "cell_type": "code",
   "execution_count": 122,
   "metadata": {},
   "outputs": [],
   "source": [
    "stroke_vec = json.loads(val_df.iloc[1]['drawing'])"
   ]
  },
  {
   "cell_type": "code",
   "execution_count": 238,
   "metadata": {},
   "outputs": [],
   "source": [
    "def _stack_it(raw_strokes):\n",
    "    \"\"\"preprocess the string and make \n",
    "    a standard Nx3 stroke vector\"\"\"\n",
    "    stroke_vec = json.loads(raw_strokes) # string->list\n",
    "\n",
    "    # unwrap the list\n",
    "    in_strokes = [(xi,yi,i) for i,(x,y) in enumerate(stroke_vec) for xi,yi in zip(x,y)]\n",
    "    c_strokes = np.stack(in_strokes)\n",
    "    \n",
    "    # replace stroke id with 1 for continue, 2 for new\n",
    "    c_strokes[:,2] += 1 # since 0 is no stroke\n",
    "    new_flag = np.array([1]+np.diff(c_strokes[:,2]).tolist()) + 1\n",
    "\n",
    "    # calc distance \n",
    "    x_diff = [0] + np.diff(c_strokes[:,0]).tolist()\n",
    "    y_diff = [0] + np.diff(c_strokes[:,1]).tolist()\n",
    "    distance = np.sqrt(np.power(x_diff, 2) + np.power(y_diff, 2)).astype(np.uint32)\n",
    "    \n",
    "    # calc length for one stroke\n",
    "    length = np.bincount(c_strokes[:,2], weights=distance).astype(np.uint32)\n",
    "    leng = np.zeros_like(distance)\n",
    "    for i in range(1, len(length)):\n",
    "        leng[c_strokes[:,2] == i] = length[i]\n",
    "    \n",
    "    c_strokes = np.column_stack((c_strokes, new_flag, distance, leng))\n",
    "    c_strokes[c_strokes[:,3] == 2,4] = 0\n",
    "    \n",
    "#     length_cumsum = intervaled_cumsum(c_strokes[:,5],c_strokes[:,4])\n",
    "    df = pd.DataFrame(c_strokes[:,[2,4]])\n",
    "    len_cumsum = df.groupby(df.iloc[:,0]).agg('cumsum').iloc[:,1].values\n",
    "    c_strokes = np.column_stack((c_strokes, len_cumsum))\n",
    "\n",
    "    # pad the strokes with zeros\n",
    "    return c_strokes\n",
    "\n",
    "def _stack_it_opt(raw_strokes):\n",
    "    \"\"\"preprocess the string and make \n",
    "    a standard Nx3 stroke vector\"\"\"\n",
    "    stroke_vec = json.loads(raw_strokes) # string->list\n",
    "\n",
    "    # unwrap the list\n",
    "    in_strokes = [(xi,yi,i) for i,(x,y) in enumerate(stroke_vec) for xi,yi in zip(x,y)]\n",
    "    c_strokes = np.stack(in_strokes)\n",
    "    \n",
    "    # replace stroke id with 1 for continue, 2 for new\n",
    "    c_strokes[:,2] += 1 # since 0 is no stroke\n",
    "    new_flag = np.array([1]+np.diff(c_strokes[:,2]).tolist()) + 1\n",
    "\n",
    "    # calc distance \n",
    "    x_diff = [0] + np.diff(c_strokes[:,0]).tolist()\n",
    "    y_diff = [0] + np.diff(c_strokes[:,1]).tolist()\n",
    "    distance = np.sqrt(np.power(x_diff, 2) + np.power(y_diff, 2)).astype(np.uint32)\n",
    "    \n",
    "    # calc length for one stroke\n",
    "    length = np.bincount(c_strokes[:,2], weights=distance).astype(np.uint32)\n",
    "    leng = np.zeros_like(distance)\n",
    "    for i in range(1, len(length)):\n",
    "        leng[c_strokes[:,2] == i] = length[i]\n",
    "    \n",
    "    c_strokes = np.column_stack((c_strokes, new_flag, distance, leng))\n",
    "    c_strokes[c_strokes[:,3] == 2,4] = 0\n",
    "    \n",
    "    len_cumsum = intervaled_cumsum(c_strokes[:,4],c_strokes[:,2])\n",
    "#     df = pd.DataFrame(c_strokes[:,[2,4]])\n",
    "#     len_cumsum = df.groupby(df.iloc[:,0]).agg('cumsum').iloc[:,1].values\n",
    "    c_strokes = np.column_stack((c_strokes, len_cumsum))\n",
    "\n",
    "    # pad the strokes with zeros\n",
    "    return c_strokes"
   ]
  },
  {
   "cell_type": "code",
   "execution_count": 239,
   "metadata": {},
   "outputs": [
    {
     "data": {
      "text/plain": [
       "array([[124,  78,   1,   2,   0, 379,   0],\n",
       "       [ 62,  69,   1,   1,  62, 379,  62],\n",
       "       [ 40,  72,   1,   1,  22, 379,  84],\n",
       "       [ 24,  79,   1,   1,  17, 379, 101],\n",
       "       [  5,  99,   1,   1,  27, 379, 128],\n",
       "       [  0, 118,   1,   1,  19, 379, 147],\n",
       "       [  8, 135,   1,   1,  18, 379, 165],\n",
       "       [ 31, 148,   1,   1,  26, 379, 191],\n",
       "       [ 57, 152,   1,   1,  26, 379, 217],\n",
       "       [ 94, 152,   1,   1,  37, 379, 254]])"
      ]
     },
     "execution_count": 239,
     "metadata": {},
     "output_type": "execute_result"
    }
   ],
   "source": [
    "_stack_it(val_df.iloc[1]['drawing'])[:10]"
   ]
  },
  {
   "cell_type": "code",
   "execution_count": 240,
   "metadata": {},
   "outputs": [
    {
     "data": {
      "text/plain": [
       "array([[124,  78,   1,   2,   0, 379,   0],\n",
       "       [ 62,  69,   1,   1,  62, 379,  62],\n",
       "       [ 40,  72,   1,   1,  22, 379,  84],\n",
       "       [ 24,  79,   1,   1,  17, 379, 101],\n",
       "       [  5,  99,   1,   1,  27, 379, 128],\n",
       "       [  0, 118,   1,   1,  19, 379, 147],\n",
       "       [  8, 135,   1,   1,  18, 379, 165],\n",
       "       [ 31, 148,   1,   1,  26, 379, 191],\n",
       "       [ 57, 152,   1,   1,  26, 379, 217],\n",
       "       [ 94, 152,   1,   1,  37, 379, 254]])"
      ]
     },
     "execution_count": 240,
     "metadata": {},
     "output_type": "execute_result"
    }
   ],
   "source": [
    "_stack_it_opt(val_df.iloc[1]['drawing'])[:10]"
   ]
  },
  {
   "cell_type": "code",
   "execution_count": null,
   "metadata": {},
   "outputs": [],
   "source": []
  }
 ],
 "metadata": {
  "kernelspec": {
   "display_name": "Python 3",
   "language": "python",
   "name": "python3"
  },
  "language_info": {
   "codemirror_mode": {
    "name": "ipython",
    "version": 3
   },
   "file_extension": ".py",
   "mimetype": "text/x-python",
   "name": "python",
   "nbconvert_exporter": "python",
   "pygments_lexer": "ipython3",
   "version": "3.6.5"
  }
 },
 "nbformat": 4,
 "nbformat_minor": 2
}
