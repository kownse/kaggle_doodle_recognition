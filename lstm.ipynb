{
 "cells": [
  {
   "cell_type": "code",
   "execution_count": 1,
   "metadata": {},
   "outputs": [
    {
     "name": "stderr",
     "output_type": "stream",
     "text": [
      "Using TensorFlow backend.\n"
     ]
    }
   ],
   "source": [
    "import os\n",
    "os.environ[\"CUDA_VISIBLE_DEVICES\"]=\"1\" \n",
    "import numpy as np\n",
    "import tensorflow as tf\n",
    "import matplotlib.pyplot as plt\n",
    "import keras\n",
    "from keras.utils.np_utils import to_categorical\n",
    "from keras.preprocessing.sequence import pad_sequences\n",
    "from sklearn.preprocessing import LabelEncoder\n",
    "import pandas as pd\n",
    "from keras.metrics import top_k_categorical_accuracy\n",
    "\n",
    "from keras.callbacks import ModelCheckpoint, LearningRateScheduler, EarlyStopping, ReduceLROnPlateau\n",
    "from keras.callbacks import TensorBoard\n",
    "from keras.optimizers import Adam\n",
    "\n",
    "from glob import glob\n",
    "import json\n",
    "from keras_helper import *\n",
    "\n",
    "import gc\n",
    "gc.enable()\n"
   ]
  },
  {
   "cell_type": "code",
   "execution_count": 2,
   "metadata": {},
   "outputs": [],
   "source": [
    "def preds2catids(predictions):\n",
    "    return pd.DataFrame(np.argsort(-predictions, axis=1)[:, :3], columns=['a', 'b', 'c'])\n",
    "\n",
    "def top_3_accuracy(y_true, y_pred):\n",
    "    return top_k_categorical_accuracy(y_true, y_pred, k=3)\n",
    "\n",
    "def unit_vector(vector):\n",
    "    \"\"\" Returns the unit vector of the vector.  \"\"\"\n",
    "    return vector / np.linalg.norm(vector)\n",
    "\n",
    "def angle_between(v1, v2):\n",
    "    \"\"\" Returns the angle in radians between vectors 'v1' and 'v2'::\n",
    "\n",
    "            >>> angle_between((1, 0, 0), (0, 1, 0))\n",
    "            1.5707963267948966\n",
    "            >>> angle_between((1, 0, 0), (1, 0, 0))\n",
    "            0.0\n",
    "            >>> angle_between((1, 0, 0), (-1, 0, 0))\n",
    "            3.141592653589793\n",
    "    \"\"\"\n",
    "    if (v1[0] == 0 and v1[1] == 0) or (v2[0] == 0 and v2[1] == 0):\n",
    "        return 0\n",
    "    \n",
    "    v1_u = unit_vector(v1)\n",
    "    v2_u = unit_vector(v2)\n",
    "    return np.arccos(np.clip(np.dot(v1_u, v2_u), -1.0, 1.0))\n",
    "\n",
    "def intervaled_cumsum(ar, new_flag):\n",
    "    # Make a copy to be used as output array\n",
    "    out = ar.copy()\n",
    "\n",
    "    cumsum = 0\n",
    "    for i in range(len(ar)):\n",
    "        if new_flag[i] == 2:\n",
    "            cumsum = 0\n",
    "            out[i] = cumsum\n",
    "        else:\n",
    "            cumsum += ar[i]\n",
    "            out[i] = cumsum\n",
    "\n",
    "    return out\n",
    "\n",
    "def _stack_it(raw_strokes):\n",
    "    \"\"\"preprocess the string and make \n",
    "    a standard Nx3 stroke vector\"\"\"\n",
    "    stroke_vec = json.loads(raw_strokes) # string->list\n",
    "\n",
    "    # unwrap the list\n",
    "    in_strokes = [(xi,yi,i) for i,(x,y) in enumerate(stroke_vec) for xi,yi in zip(x,y)]\n",
    "    c_strokes = np.stack(in_strokes)\n",
    "    \n",
    "    # replace stroke id with 1 for continue, 2 for new\n",
    "    c_strokes[:,2] += 1 # since 0 is no stroke\n",
    "    new_flag = np.array([1]+np.diff(c_strokes[:,2]).tolist()) + 1\n",
    "\n",
    "    # calc distance \n",
    "    x_diff = [0] + np.diff(c_strokes[:,0]).tolist()\n",
    "    y_diff = [0] + np.diff(c_strokes[:,1]).tolist()\n",
    "    distance = np.sqrt(np.power(x_diff, 2) + np.power(y_diff, 2)).astype(np.uint32)\n",
    "    \n",
    "    # calc length for one stroke\n",
    "    length = np.bincount(c_strokes[:,2], weights=distance).astype(np.uint32)\n",
    "    leng = np.zeros_like(distance)\n",
    "    for i in range(1, len(length)):\n",
    "        leng[c_strokes[:,2] == i] = length[i]\n",
    "    \n",
    "    c_strokes = np.column_stack((c_strokes, new_flag, distance, leng))\n",
    "    c_strokes[c_strokes[:,3] == 2,4] = 0\n",
    "    \n",
    "    len_cumsum = intervaled_cumsum(c_strokes[:,4],c_strokes[:,2])  \n",
    "    c_strokes = np.column_stack((c_strokes, len_cumsum))\n",
    "\n",
    "    # pad the strokes with zeros\n",
    "    return pad_sequences(c_strokes.swapaxes(0, 1), \n",
    "                         maxlen=STROKE_COUNT, \n",
    "                         padding='post').swapaxes(0, 1)\n",
    " \n",
    "def _stack_it9(raw_strokes):\n",
    "    stroke_vec = json.loads(raw_strokes)\n",
    "    for d in stroke_vec:\n",
    "        angle = []\n",
    "        for i in range(len(d[0])):\n",
    "            if i < 2:\n",
    "                angle.append(0)\n",
    "            else:\n",
    "                v1 = (d[0][i-1] - d[0][i-2],d[1][i-1] - d[1][i-2])\n",
    "                v2 = (d[0][i] - d[0][i-1],d[1][i] - d[1][i-1])\n",
    "                a = angle_between(v1,v2)\n",
    "                a = int(a)\n",
    "                angle.append(a)\n",
    "\n",
    "        d.append(angle)\n",
    "\n",
    "    # unwrap the list\n",
    "    in_strokes = [(xi,yi,ai,i) for i,(x,y,a) in enumerate(stroke_vec) for xi,yi,ai in zip(x,y,a)]\n",
    "    c_strokes = np.stack(in_strokes)\n",
    "\n",
    "    # replace stroke id with 1 for continue, 2 for new\n",
    "    c_strokes[:,3] += 1 # since 0 is no stroke\n",
    "    new_flag = np.array([1]+np.diff(c_strokes[:,3]).tolist()) + 1\n",
    "\n",
    "    # calc distance \n",
    "    x_diff = [0] + np.diff(c_strokes[:,0]).tolist()\n",
    "    y_diff = [0] + np.diff(c_strokes[:,1]).tolist()\n",
    "    distance = np.sqrt(np.power(x_diff, 2) + np.power(y_diff, 2)).astype(np.uint32)\n",
    "\n",
    "    # calc length for one stroke\n",
    "    length = np.bincount(c_strokes[:,3], weights=distance).astype(np.uint32)\n",
    "    leng = np.zeros_like(distance)\n",
    "    for i in range(1, len(length)):\n",
    "        leng[c_strokes[:,3] == i] = length[i]\n",
    "\n",
    "    c_strokes = np.column_stack((c_strokes, new_flag, distance, leng))\n",
    "    c_strokes[c_strokes[:,4] == 2,5] = 0\n",
    "\n",
    "    angle_cumsum = intervaled_cumsum(c_strokes[:,2],c_strokes[:,4])\n",
    "    length_cumsum = intervaled_cumsum(c_strokes[:,5],c_strokes[:,4])\n",
    "    c_strokes = np.column_stack((c_strokes, angle_cumsum, length_cumsum))\n",
    "\n",
    "    # pad the strokes with zeros\n",
    "    return pad_sequences(c_strokes.swapaxes(0, 1), \n",
    "                         maxlen=STROKE_COUNT, \n",
    "                         padding='post').swapaxes(0, 1)"
   ]
  },
  {
   "cell_type": "code",
   "execution_count": 3,
   "metadata": {},
   "outputs": [],
   "source": [
    "# val_df = pd.read_csv('../input/valid.csv', nrows=10)\n",
    "# _stack_it(val_df.iloc[1]['drawing'])[:30]"
   ]
  },
  {
   "cell_type": "code",
   "execution_count": 4,
   "metadata": {},
   "outputs": [],
   "source": [
    "def image_generator_xd(batchsize, df_path = '../input/train_all.csv'):\n",
    "    while True:\n",
    "        for df in pd.read_csv(df_path, chunksize=batchsize):\n",
    "            df['drawing'] = df['drawing'].map(_stack_it9)\n",
    "            x2 = np.stack(df['drawing'], 0)\n",
    "            y = keras.utils.to_categorical(df['word'], num_classes=NCATS)\n",
    "            yield x2, y\n",
    "\n",
    "def df_to_image_array_xd(df):\n",
    "    df['drawing'] = df['drawing'].map(_stack_it9)\n",
    "    x2 = np.stack(df['drawing'], 0)\n",
    "    return x2"
   ]
  },
  {
   "cell_type": "code",
   "execution_count": 5,
   "metadata": {},
   "outputs": [
    {
     "name": "stdout",
     "output_type": "stream",
     "text": [
      "lstm_conv64_units384_layer3_dropout0.2_feats9_smallconv\n"
     ]
    }
   ],
   "source": [
    "STROKE_COUNT = 100\n",
    "NCATS = 340\n",
    "TOT = 46613580 - 340000\n",
    "EPOCHS = 70\n",
    "batchsize = 512\n",
    "STEPS = TOT / EPOCHS / batchsize \n",
    "\n",
    "conv_filters = 64\n",
    "lstm_units = 384\n",
    "lstm_cnt = 3\n",
    "dropout = 0.2\n",
    "\n",
    "model_prefix = 'lstm_conv{}_units{}_layer{}_dropout{}_feats9_smallconv'.format(conv_filters, lstm_units, lstm_cnt, dropout)\n",
    "print(model_prefix)\n",
    "check_path = 'models/best_{}.hdf5'.format(model_prefix)"
   ]
  },
  {
   "cell_type": "code",
   "execution_count": 6,
   "metadata": {},
   "outputs": [],
   "source": [
    "train_datagen = image_generator_xd(batchsize=batchsize, df_path = '../input/train_all.csv')\n",
    "val_df = pd.read_csv('../input/valid.csv')\n",
    "x_val = df_to_image_array_xd(val_df)\n",
    "y_val = keras.utils.to_categorical(val_df.word, num_classes=NCATS)"
   ]
  },
  {
   "cell_type": "code",
   "execution_count": 7,
   "metadata": {},
   "outputs": [
    {
     "name": "stdout",
     "output_type": "stream",
     "text": [
      "return_sequences True\n",
      "return_sequences True\n",
      "_________________________________________________________________\n",
      "Layer (type)                 Output Shape              Param #   \n",
      "=================================================================\n",
      "batch_normalization_1 (Batch (None, None, 9)           36        \n",
      "_________________________________________________________________\n",
      "conv1d_1 (Conv1D)            (None, None, 64)          1792      \n",
      "_________________________________________________________________\n",
      "conv1d_2 (Conv1D)            (None, None, 128)         24704     \n",
      "_________________________________________________________________\n",
      "conv1d_3 (Conv1D)            (None, None, 192)         73920     \n",
      "_________________________________________________________________\n",
      "conv1d_4 (Conv1D)            (None, None, 256)         147712    \n",
      "_________________________________________________________________\n",
      "bidirectional_1 (Bidirection (None, None, 768)         1972224   \n",
      "_________________________________________________________________\n",
      "bidirectional_2 (Bidirection (None, None, 768)         3545088   \n",
      "_________________________________________________________________\n",
      "bidirectional_3 (Bidirection (None, 768)               3545088   \n",
      "_________________________________________________________________\n",
      "dense_1 (Dense)              (None, 512)               393728    \n",
      "_________________________________________________________________\n",
      "dropout_1 (Dropout)          (None, 512)               0         \n",
      "_________________________________________________________________\n",
      "dense_2 (Dense)              (None, 340)               174420    \n",
      "=================================================================\n",
      "Total params: 9,878,712\n",
      "Trainable params: 9,878,694\n",
      "Non-trainable params: 18\n",
      "_________________________________________________________________\n"
     ]
    }
   ],
   "source": [
    "from keras.models import Sequential\n",
    "from keras.layers import BatchNormalization, Conv1D, Dense, Dropout, Bidirectional\n",
    "from keras.layers import CuDNNLSTM\n",
    "#if len(get_available_gpus())>0:\n",
    "    # https://twitter.com/fchollet/status/918170264608817152?lang=en\n",
    "#    from keras.layers import CuDNNLSTM as LSTM # this one is about 3x faster on GPU instances\n",
    "stroke_read_model = Sequential()\n",
    "stroke_read_model.add(BatchNormalization(input_shape = (None,)+(9,)))\n",
    "# filter count and length are taken from the script https://github.com/tensorflow/models/blob/master/tutorials/rnn/quickdraw/train_model.py\n",
    "stroke_read_model.add(Conv1D(conv_filters, (3,), activation = 'relu'))\n",
    "stroke_read_model.add(Conv1D(conv_filters*2, (3,), activation = 'relu'))\n",
    "stroke_read_model.add(Conv1D(conv_filters*3, (3,), activation = 'relu'))\n",
    "stroke_read_model.add(Conv1D(conv_filters*4, (3,), activation = 'relu'))\n",
    "\n",
    "for i in range(lstm_cnt - 1):\n",
    "    print('return_sequences', i != (lstm_cnt - 1))\n",
    "    stroke_read_model.add(Bidirectional(CuDNNLSTM(lstm_units, return_sequences = True)))\n",
    "stroke_read_model.add(Bidirectional(CuDNNLSTM(lstm_units, return_sequences = False)))\n",
    "                                    \n",
    "stroke_read_model.add(Dense(512, activation = 'relu'))\n",
    "stroke_read_model.add(Dropout(dropout))\n",
    "stroke_read_model.add(Dense(NCATS, activation = 'softmax'))\n",
    "stroke_read_model.compile(optimizer = Adam(lr=0.0002), \n",
    "                          loss = 'categorical_crossentropy', \n",
    "                          metrics = ['categorical_accuracy', top_3_accuracy])\n",
    "stroke_read_model.summary()"
   ]
  },
  {
   "cell_type": "code",
   "execution_count": 8,
   "metadata": {},
   "outputs": [],
   "source": [
    "# stroke_read_model.load_weights('models/best_lstm_conv64_units384_layer3_dropout0.2_feats9_noconvdrop2.hdf5')\n",
    "# stroke_read_model.load_weights('models/best_lstm_conv64_units384_layer3_dropout0.2_feats9_noconvdrop.hdf5')\n",
    "\n",
    "# stroke_read_model.evaluate(x_val, y_val, batch_size=512)"
   ]
  },
  {
   "cell_type": "code",
   "execution_count": 9,
   "metadata": {},
   "outputs": [
    {
     "name": "stderr",
     "output_type": "stream",
     "text": [
      "/home/kownse/anaconda3/lib/python3.6/site-packages/keras/callbacks.py:999: UserWarning: `epsilon` argument is deprecated and will be removed, use `min_delta` instead.\n",
      "  warnings.warn('`epsilon` argument is deprecated and '\n"
     ]
    }
   ],
   "source": [
    "checkpoint = ModelCheckpoint(check_path, monitor='val_categorical_accuracy', verbose=1, \n",
    "                             save_best_only=True, mode='max', save_weights_only = True)\n",
    "reduceLROnPlat = ReduceLROnPlateau(monitor='val_categorical_accuracy', factor=0.5, patience=5, \n",
    "                                   verbose=1, mode='max', epsilon=0.0001, cooldown=5, min_lr=0.0001)\n",
    "early = EarlyStopping(monitor=\"val_categorical_accuracy\", \n",
    "                      mode=\"max\", \n",
    "                      patience=20) \n",
    "board =TensorBoard(log_dir='./log/{}'.format(model_prefix))\n",
    "callbacks_list = [checkpoint, early, reduceLROnPlat, board]"
   ]
  },
  {
   "cell_type": "code",
   "execution_count": 10,
   "metadata": {},
   "outputs": [],
   "source": [
    "# snapshot = SnapshotCallbackBuilder(nb_epochs=EPOCHS, \n",
    "#                                        nb_snapshots=1,\n",
    "#                                        size = 384,\n",
    "#                                        init_lr=0.0002, \n",
    "#                                        fold=0)\n",
    " \n",
    "# callbacks_list = snapshot.get_callbacks(model_prefix = model_prefix)"
   ]
  },
  {
   "cell_type": "code",
   "execution_count": 11,
   "metadata": {
    "scrolled": true
   },
   "outputs": [
    {
     "name": "stdout",
     "output_type": "stream",
     "text": [
      "Epoch 1/70\n",
      "1292/1291 [==============================] - 974s 754ms/step - loss: 3.7968 - categorical_accuracy: 0.1988 - top_3_accuracy: 0.3501 - val_loss: 2.8564 - val_categorical_accuracy: 0.3433 - val_top_3_accuracy: 0.5483\n",
      "\n",
      "Epoch 00001: val_categorical_accuracy improved from -inf to 0.34329, saving model to models/best_lstm_conv64_units384_layer3_dropout0.2_feats9_smallconv.hdf5\n",
      "Epoch 2/70\n",
      "1292/1291 [==============================] - 968s 749ms/step - loss: 2.5789 - categorical_accuracy: 0.3991 - top_3_accuracy: 0.6057 - val_loss: 2.1704 - val_categorical_accuracy: 0.4833 - val_top_3_accuracy: 0.6896\n",
      "\n",
      "Epoch 00002: val_categorical_accuracy improved from 0.34329 to 0.48332, saving model to models/best_lstm_conv64_units384_layer3_dropout0.2_feats9_smallconv.hdf5\n",
      "Epoch 3/70\n",
      "1292/1291 [==============================] - 968s 749ms/step - loss: 2.0544 - categorical_accuracy: 0.5072 - top_3_accuracy: 0.7116 - val_loss: 1.7922 - val_categorical_accuracy: 0.5642 - val_top_3_accuracy: 0.7630\n",
      "\n",
      "Epoch 00003: val_categorical_accuracy improved from 0.48332 to 0.56424, saving model to models/best_lstm_conv64_units384_layer3_dropout0.2_feats9_smallconv.hdf5\n",
      "Epoch 4/70\n",
      "1292/1291 [==============================] - 970s 751ms/step - loss: 1.7570 - categorical_accuracy: 0.5703 - top_3_accuracy: 0.7670 - val_loss: 1.5752 - val_categorical_accuracy: 0.6135 - val_top_3_accuracy: 0.8028\n",
      "\n",
      "Epoch 00004: val_categorical_accuracy improved from 0.56424 to 0.61353, saving model to models/best_lstm_conv64_units384_layer3_dropout0.2_feats9_smallconv.hdf5\n",
      "Epoch 5/70\n",
      "1292/1291 [==============================] - 970s 750ms/step - loss: 1.5739 - categorical_accuracy: 0.6123 - top_3_accuracy: 0.8002 - val_loss: 1.4334 - val_categorical_accuracy: 0.6461 - val_top_3_accuracy: 0.8255\n",
      "\n",
      "Epoch 00005: val_categorical_accuracy improved from 0.61353 to 0.64609, saving model to models/best_lstm_conv64_units384_layer3_dropout0.2_feats9_smallconv.hdf5\n",
      "Epoch 6/70\n",
      "1292/1291 [==============================] - 969s 750ms/step - loss: 1.4486 - categorical_accuracy: 0.6401 - top_3_accuracy: 0.8216 - val_loss: 1.3424 - val_categorical_accuracy: 0.6668 - val_top_3_accuracy: 0.8396\n",
      "\n",
      "Epoch 00006: val_categorical_accuracy improved from 0.64609 to 0.66679, saving model to models/best_lstm_conv64_units384_layer3_dropout0.2_feats9_smallconv.hdf5\n",
      "Epoch 7/70\n",
      "1292/1291 [==============================] - 973s 753ms/step - loss: 1.3534 - categorical_accuracy: 0.6615 - top_3_accuracy: 0.8375 - val_loss: 1.2555 - val_categorical_accuracy: 0.6867 - val_top_3_accuracy: 0.8536\n",
      "\n",
      "Epoch 00007: val_categorical_accuracy improved from 0.66679 to 0.68671, saving model to models/best_lstm_conv64_units384_layer3_dropout0.2_feats9_smallconv.hdf5\n",
      "Epoch 8/70\n",
      "1292/1291 [==============================] - 972s 752ms/step - loss: 1.2856 - categorical_accuracy: 0.6778 - top_3_accuracy: 0.8486 - val_loss: 1.2150 - val_categorical_accuracy: 0.6932 - val_top_3_accuracy: 0.8591\n",
      "\n",
      "Epoch 00008: val_categorical_accuracy improved from 0.68671 to 0.69324, saving model to models/best_lstm_conv64_units384_layer3_dropout0.2_feats9_smallconv.hdf5\n",
      "Epoch 9/70\n",
      "1292/1291 [==============================] - 973s 753ms/step - loss: 1.2248 - categorical_accuracy: 0.6924 - top_3_accuracy: 0.8582 - val_loss: 1.1581 - val_categorical_accuracy: 0.7069 - val_top_3_accuracy: 0.8689\n",
      "\n",
      "Epoch 00009: val_categorical_accuracy improved from 0.69324 to 0.70685, saving model to models/best_lstm_conv64_units384_layer3_dropout0.2_feats9_smallconv.hdf5\n",
      "Epoch 10/70\n",
      "1292/1291 [==============================] - 972s 752ms/step - loss: 1.1795 - categorical_accuracy: 0.7030 - top_3_accuracy: 0.8656 - val_loss: 1.1115 - val_categorical_accuracy: 0.7182 - val_top_3_accuracy: 0.8766\n",
      "\n",
      "Epoch 00010: val_categorical_accuracy improved from 0.70685 to 0.71824, saving model to models/best_lstm_conv64_units384_layer3_dropout0.2_feats9_smallconv.hdf5\n",
      "Epoch 11/70\n",
      "1292/1291 [==============================] - 977s 756ms/step - loss: 1.1403 - categorical_accuracy: 0.7120 - top_3_accuracy: 0.8716 - val_loss: 1.0841 - val_categorical_accuracy: 0.7248 - val_top_3_accuracy: 0.8787\n",
      "\n",
      "Epoch 00011: val_categorical_accuracy improved from 0.71824 to 0.72476, saving model to models/best_lstm_conv64_units384_layer3_dropout0.2_feats9_smallconv.hdf5\n",
      "Epoch 12/70\n",
      "1292/1291 [==============================] - 971s 752ms/step - loss: 1.1073 - categorical_accuracy: 0.7195 - top_3_accuracy: 0.8765 - val_loss: 1.0632 - val_categorical_accuracy: 0.7294 - val_top_3_accuracy: 0.8831\n",
      "\n",
      "Epoch 00012: val_categorical_accuracy improved from 0.72476 to 0.72938, saving model to models/best_lstm_conv64_units384_layer3_dropout0.2_feats9_smallconv.hdf5\n",
      "Epoch 13/70\n",
      "1292/1291 [==============================] - 971s 752ms/step - loss: 1.0783 - categorical_accuracy: 0.7259 - top_3_accuracy: 0.8811 - val_loss: 1.0355 - val_categorical_accuracy: 0.7382 - val_top_3_accuracy: 0.8881\n",
      "\n",
      "Epoch 00013: val_categorical_accuracy improved from 0.72938 to 0.73818, saving model to models/best_lstm_conv64_units384_layer3_dropout0.2_feats9_smallconv.hdf5\n",
      "Epoch 14/70\n",
      "1292/1291 [==============================] - 968s 750ms/step - loss: 1.0555 - categorical_accuracy: 0.7322 - top_3_accuracy: 0.8846 - val_loss: 1.0096 - val_categorical_accuracy: 0.7421 - val_top_3_accuracy: 0.8897\n",
      "\n",
      "Epoch 00014: val_categorical_accuracy improved from 0.73818 to 0.74212, saving model to models/best_lstm_conv64_units384_layer3_dropout0.2_feats9_smallconv.hdf5\n",
      "Epoch 15/70\n",
      " 745/1291 [================>.............] - ETA: 6:42 - loss: 1.0315 - categorical_accuracy: 0.7380 - top_3_accuracy: 0.8878"
     ]
    },
    {
     "ename": "KeyboardInterrupt",
     "evalue": "",
     "output_type": "error",
     "traceback": [
      "\u001b[0;31m---------------------------------------------------------------------------\u001b[0m",
      "\u001b[0;31mKeyboardInterrupt\u001b[0m                         Traceback (most recent call last)",
      "\u001b[0;32m<ipython-input-11-3fd11f79b4ac>\u001b[0m in \u001b[0;36m<module>\u001b[0;34m()\u001b[0m\n\u001b[1;32m      1\u001b[0m hist = stroke_read_model.fit_generator(train_datagen, steps_per_epoch=STEPS, epochs=EPOCHS, verbose=1,\n\u001b[1;32m      2\u001b[0m                         \u001b[0mvalidation_data\u001b[0m\u001b[0;34m=\u001b[0m\u001b[0;34m(\u001b[0m\u001b[0mx_val\u001b[0m\u001b[0;34m,\u001b[0m \u001b[0my_val\u001b[0m\u001b[0;34m)\u001b[0m\u001b[0;34m,\u001b[0m\u001b[0;34m\u001b[0m\u001b[0m\n\u001b[0;32m----> 3\u001b[0;31m                       callbacks = callbacks_list)\n\u001b[0m",
      "\u001b[0;32m~/anaconda3/lib/python3.6/site-packages/keras/legacy/interfaces.py\u001b[0m in \u001b[0;36mwrapper\u001b[0;34m(*args, **kwargs)\u001b[0m\n\u001b[1;32m     89\u001b[0m                 warnings.warn('Update your `' + object_name +\n\u001b[1;32m     90\u001b[0m                               '` call to the Keras 2 API: ' + signature, stacklevel=2)\n\u001b[0;32m---> 91\u001b[0;31m             \u001b[0;32mreturn\u001b[0m \u001b[0mfunc\u001b[0m\u001b[0;34m(\u001b[0m\u001b[0;34m*\u001b[0m\u001b[0margs\u001b[0m\u001b[0;34m,\u001b[0m \u001b[0;34m**\u001b[0m\u001b[0mkwargs\u001b[0m\u001b[0;34m)\u001b[0m\u001b[0;34m\u001b[0m\u001b[0m\n\u001b[0m\u001b[1;32m     92\u001b[0m         \u001b[0mwrapper\u001b[0m\u001b[0;34m.\u001b[0m\u001b[0m_original_function\u001b[0m \u001b[0;34m=\u001b[0m \u001b[0mfunc\u001b[0m\u001b[0;34m\u001b[0m\u001b[0m\n\u001b[1;32m     93\u001b[0m         \u001b[0;32mreturn\u001b[0m \u001b[0mwrapper\u001b[0m\u001b[0;34m\u001b[0m\u001b[0m\n",
      "\u001b[0;32m~/anaconda3/lib/python3.6/site-packages/keras/engine/training.py\u001b[0m in \u001b[0;36mfit_generator\u001b[0;34m(self, generator, steps_per_epoch, epochs, verbose, callbacks, validation_data, validation_steps, class_weight, max_queue_size, workers, use_multiprocessing, shuffle, initial_epoch)\u001b[0m\n\u001b[1;32m   1413\u001b[0m             \u001b[0muse_multiprocessing\u001b[0m\u001b[0;34m=\u001b[0m\u001b[0muse_multiprocessing\u001b[0m\u001b[0;34m,\u001b[0m\u001b[0;34m\u001b[0m\u001b[0m\n\u001b[1;32m   1414\u001b[0m             \u001b[0mshuffle\u001b[0m\u001b[0;34m=\u001b[0m\u001b[0mshuffle\u001b[0m\u001b[0;34m,\u001b[0m\u001b[0;34m\u001b[0m\u001b[0m\n\u001b[0;32m-> 1415\u001b[0;31m             initial_epoch=initial_epoch)\n\u001b[0m\u001b[1;32m   1416\u001b[0m \u001b[0;34m\u001b[0m\u001b[0m\n\u001b[1;32m   1417\u001b[0m     \u001b[0;34m@\u001b[0m\u001b[0minterfaces\u001b[0m\u001b[0;34m.\u001b[0m\u001b[0mlegacy_generator_methods_support\u001b[0m\u001b[0;34m\u001b[0m\u001b[0m\n",
      "\u001b[0;32m~/anaconda3/lib/python3.6/site-packages/keras/engine/training_generator.py\u001b[0m in \u001b[0;36mfit_generator\u001b[0;34m(model, generator, steps_per_epoch, epochs, verbose, callbacks, validation_data, validation_steps, class_weight, max_queue_size, workers, use_multiprocessing, shuffle, initial_epoch)\u001b[0m\n\u001b[1;32m    211\u001b[0m                 outs = model.train_on_batch(x, y,\n\u001b[1;32m    212\u001b[0m                                             \u001b[0msample_weight\u001b[0m\u001b[0;34m=\u001b[0m\u001b[0msample_weight\u001b[0m\u001b[0;34m,\u001b[0m\u001b[0;34m\u001b[0m\u001b[0m\n\u001b[0;32m--> 213\u001b[0;31m                                             class_weight=class_weight)\n\u001b[0m\u001b[1;32m    214\u001b[0m \u001b[0;34m\u001b[0m\u001b[0m\n\u001b[1;32m    215\u001b[0m                 \u001b[0mouts\u001b[0m \u001b[0;34m=\u001b[0m \u001b[0mto_list\u001b[0m\u001b[0;34m(\u001b[0m\u001b[0mouts\u001b[0m\u001b[0;34m)\u001b[0m\u001b[0;34m\u001b[0m\u001b[0m\n",
      "\u001b[0;32m~/anaconda3/lib/python3.6/site-packages/keras/engine/training.py\u001b[0m in \u001b[0;36mtrain_on_batch\u001b[0;34m(self, x, y, sample_weight, class_weight)\u001b[0m\n\u001b[1;32m   1213\u001b[0m             \u001b[0mins\u001b[0m \u001b[0;34m=\u001b[0m \u001b[0mx\u001b[0m \u001b[0;34m+\u001b[0m \u001b[0my\u001b[0m \u001b[0;34m+\u001b[0m \u001b[0msample_weights\u001b[0m\u001b[0;34m\u001b[0m\u001b[0m\n\u001b[1;32m   1214\u001b[0m         \u001b[0mself\u001b[0m\u001b[0;34m.\u001b[0m\u001b[0m_make_train_function\u001b[0m\u001b[0;34m(\u001b[0m\u001b[0;34m)\u001b[0m\u001b[0;34m\u001b[0m\u001b[0m\n\u001b[0;32m-> 1215\u001b[0;31m         \u001b[0moutputs\u001b[0m \u001b[0;34m=\u001b[0m \u001b[0mself\u001b[0m\u001b[0;34m.\u001b[0m\u001b[0mtrain_function\u001b[0m\u001b[0;34m(\u001b[0m\u001b[0mins\u001b[0m\u001b[0;34m)\u001b[0m\u001b[0;34m\u001b[0m\u001b[0m\n\u001b[0m\u001b[1;32m   1216\u001b[0m         \u001b[0;32mreturn\u001b[0m \u001b[0munpack_singleton\u001b[0m\u001b[0;34m(\u001b[0m\u001b[0moutputs\u001b[0m\u001b[0;34m)\u001b[0m\u001b[0;34m\u001b[0m\u001b[0m\n\u001b[1;32m   1217\u001b[0m \u001b[0;34m\u001b[0m\u001b[0m\n",
      "\u001b[0;32m~/anaconda3/lib/python3.6/site-packages/keras/backend/tensorflow_backend.py\u001b[0m in \u001b[0;36m__call__\u001b[0;34m(self, inputs)\u001b[0m\n\u001b[1;32m   2664\u001b[0m                 \u001b[0;32mreturn\u001b[0m \u001b[0mself\u001b[0m\u001b[0;34m.\u001b[0m\u001b[0m_legacy_call\u001b[0m\u001b[0;34m(\u001b[0m\u001b[0minputs\u001b[0m\u001b[0;34m)\u001b[0m\u001b[0;34m\u001b[0m\u001b[0m\n\u001b[1;32m   2665\u001b[0m \u001b[0;34m\u001b[0m\u001b[0m\n\u001b[0;32m-> 2666\u001b[0;31m             \u001b[0;32mreturn\u001b[0m \u001b[0mself\u001b[0m\u001b[0;34m.\u001b[0m\u001b[0m_call\u001b[0m\u001b[0;34m(\u001b[0m\u001b[0minputs\u001b[0m\u001b[0;34m)\u001b[0m\u001b[0;34m\u001b[0m\u001b[0m\n\u001b[0m\u001b[1;32m   2667\u001b[0m         \u001b[0;32melse\u001b[0m\u001b[0;34m:\u001b[0m\u001b[0;34m\u001b[0m\u001b[0m\n\u001b[1;32m   2668\u001b[0m             \u001b[0;32mif\u001b[0m \u001b[0mpy_any\u001b[0m\u001b[0;34m(\u001b[0m\u001b[0mis_tensor\u001b[0m\u001b[0;34m(\u001b[0m\u001b[0mx\u001b[0m\u001b[0;34m)\u001b[0m \u001b[0;32mfor\u001b[0m \u001b[0mx\u001b[0m \u001b[0;32min\u001b[0m \u001b[0minputs\u001b[0m\u001b[0;34m)\u001b[0m\u001b[0;34m:\u001b[0m\u001b[0;34m\u001b[0m\u001b[0m\n",
      "\u001b[0;32m~/anaconda3/lib/python3.6/site-packages/keras/backend/tensorflow_backend.py\u001b[0m in \u001b[0;36m_call\u001b[0;34m(self, inputs)\u001b[0m\n\u001b[1;32m   2634\u001b[0m                                 \u001b[0msymbol_vals\u001b[0m\u001b[0;34m,\u001b[0m\u001b[0;34m\u001b[0m\u001b[0m\n\u001b[1;32m   2635\u001b[0m                                 session)\n\u001b[0;32m-> 2636\u001b[0;31m         \u001b[0mfetched\u001b[0m \u001b[0;34m=\u001b[0m \u001b[0mself\u001b[0m\u001b[0;34m.\u001b[0m\u001b[0m_callable_fn\u001b[0m\u001b[0;34m(\u001b[0m\u001b[0;34m*\u001b[0m\u001b[0marray_vals\u001b[0m\u001b[0;34m)\u001b[0m\u001b[0;34m\u001b[0m\u001b[0m\n\u001b[0m\u001b[1;32m   2637\u001b[0m         \u001b[0;32mreturn\u001b[0m \u001b[0mfetched\u001b[0m\u001b[0;34m[\u001b[0m\u001b[0;34m:\u001b[0m\u001b[0mlen\u001b[0m\u001b[0;34m(\u001b[0m\u001b[0mself\u001b[0m\u001b[0;34m.\u001b[0m\u001b[0moutputs\u001b[0m\u001b[0;34m)\u001b[0m\u001b[0;34m]\u001b[0m\u001b[0;34m\u001b[0m\u001b[0m\n\u001b[1;32m   2638\u001b[0m \u001b[0;34m\u001b[0m\u001b[0m\n",
      "\u001b[0;32m~/anaconda3/lib/python3.6/site-packages/tensorflow/python/client/session.py\u001b[0m in \u001b[0;36m__call__\u001b[0;34m(self, *args, **kwargs)\u001b[0m\n\u001b[1;32m   1437\u001b[0m           ret = tf_session.TF_SessionRunCallable(\n\u001b[1;32m   1438\u001b[0m               \u001b[0mself\u001b[0m\u001b[0;34m.\u001b[0m\u001b[0m_session\u001b[0m\u001b[0;34m.\u001b[0m\u001b[0m_session\u001b[0m\u001b[0;34m,\u001b[0m \u001b[0mself\u001b[0m\u001b[0;34m.\u001b[0m\u001b[0m_handle\u001b[0m\u001b[0;34m,\u001b[0m \u001b[0margs\u001b[0m\u001b[0;34m,\u001b[0m \u001b[0mstatus\u001b[0m\u001b[0;34m,\u001b[0m\u001b[0;34m\u001b[0m\u001b[0m\n\u001b[0;32m-> 1439\u001b[0;31m               run_metadata_ptr)\n\u001b[0m\u001b[1;32m   1440\u001b[0m         \u001b[0;32mif\u001b[0m \u001b[0mrun_metadata\u001b[0m\u001b[0;34m:\u001b[0m\u001b[0;34m\u001b[0m\u001b[0m\n\u001b[1;32m   1441\u001b[0m           \u001b[0mproto_data\u001b[0m \u001b[0;34m=\u001b[0m \u001b[0mtf_session\u001b[0m\u001b[0;34m.\u001b[0m\u001b[0mTF_GetBuffer\u001b[0m\u001b[0;34m(\u001b[0m\u001b[0mrun_metadata_ptr\u001b[0m\u001b[0;34m)\u001b[0m\u001b[0;34m\u001b[0m\u001b[0m\n",
      "\u001b[0;31mKeyboardInterrupt\u001b[0m: "
     ]
    }
   ],
   "source": [
    "hist = stroke_read_model.fit_generator(train_datagen, steps_per_epoch=STEPS, epochs=EPOCHS, verbose=1,\n",
    "                        validation_data=(x_val, y_val),\n",
    "                      callbacks = callbacks_list)"
   ]
  },
  {
   "cell_type": "code",
   "execution_count": null,
   "metadata": {},
   "outputs": [],
   "source": [
    "test = pd.read_csv('../input/test_simplified.csv')\n",
    "x_test = df_to_image_array_xd(test)\n",
    "print(test.shape, x_test.shape)\n",
    "print('Test array memory {:.2f} GB'.format(x_test.nbytes / 1024.**3 ))\n",
    "\n",
    "np_classes = np.load('../input/classes.npy')\n",
    "id2cat = {k: cat.replace(' ', '_') for k, cat in enumerate(np_classes)}"
   ]
  },
  {
   "cell_type": "code",
   "execution_count": null,
   "metadata": {},
   "outputs": [],
   "source": [
    " def doodle_predict(model, x_test):\n",
    "    model.load_weights(model_path)\n",
    "\n",
    "    test_predictions = model.predict(x_test, batch_size=512, verbose=1)\n",
    "    top3 = preds2catids(test_predictions)\n",
    "    top3cats = top3.replace(id2cat)\n",
    "    test['word'] = top3cats['a'] + ' ' + top3cats['b'] + ' ' + top3cats['c']\n",
    "    submission = test[['key_id', 'word']]\n",
    "\n",
    "    import kaggle_util\n",
    "    kaggle_util.save_result(submission,  \n",
    "                            '../result/{}.csv'.format(model_prefix), \n",
    "                            'quickdraw-doodle-recognition', \n",
    "                            send=True, index=False) "
   ]
  },
  {
   "cell_type": "code",
   "execution_count": null,
   "metadata": {},
   "outputs": [],
   "source": [
    "doodle_predict(stroke_read_model, check_path, x_test)"
   ]
  },
  {
   "cell_type": "code",
   "execution_count": null,
   "metadata": {},
   "outputs": [],
   "source": [
    "test_predictions = stroke_read_model.predict(x_test, batch_size=512, verbose=1)\n",
    "np.save('../result/{}.npy'.format(model_prefix), test_predictions)"
   ]
  },
  {
   "cell_type": "code",
   "execution_count": null,
   "metadata": {},
   "outputs": [],
   "source": []
  }
 ],
 "metadata": {
  "kernelspec": {
   "display_name": "Python 3",
   "language": "python",
   "name": "python3"
  },
  "language_info": {
   "codemirror_mode": {
    "name": "ipython",
    "version": 3
   },
   "file_extension": ".py",
   "mimetype": "text/x-python",
   "name": "python",
   "nbconvert_exporter": "python",
   "pygments_lexer": "ipython3",
   "version": "3.6.5"
  }
 },
 "nbformat": 4,
 "nbformat_minor": 2
}
