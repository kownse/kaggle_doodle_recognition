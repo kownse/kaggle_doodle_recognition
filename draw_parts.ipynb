{
 "cells": [
  {
   "cell_type": "code",
   "execution_count": 233,
   "metadata": {},
   "outputs": [],
   "source": [
    "import pandas as pd\n",
    "import numpy as np\n",
    "import seaborn as sns\n",
    "import cv2\n",
    "import ast\n",
    "import matplotlib.pyplot as plt\n",
    "import tensorflow as tf\n",
    "import json\n",
    "import os\n",
    "from tqdm import tqdm_notebook\n",
    "import glob\n",
    "import sklearn.utils\n",
    "import math"
   ]
  },
  {
   "cell_type": "code",
   "execution_count": 441,
   "metadata": {},
   "outputs": [],
   "source": [
    "def draw_cv2(raw_strokes, size=256, lw=2, time_color=True, center = True):\n",
    "    img = np.zeros((BASE_SIZE, BASE_SIZE), np.uint8)\n",
    "    color_step = int(200 / len(raw_strokes))\n",
    "    for t, stroke in enumerate(raw_strokes):\n",
    "        color = 255 - color_step * t if time_color else 255\n",
    "#         print(color)\n",
    "        for i in range(len(stroke[0]) - 1):\n",
    "            _ = cv2.line(img, (stroke[0][i], stroke[1][i]),\n",
    "                         (stroke[0][i + 1], stroke[1][i + 1]), color, lw)\n",
    "    if size != BASE_SIZE:\n",
    "        img = cv2.resize(img, (size, size))\n",
    "        \n",
    "#     if center:\n",
    "#         img = pad_center(img, size)\n",
    "        \n",
    "    return img"
   ]
  },
  {
   "cell_type": "code",
   "execution_count": 198,
   "metadata": {},
   "outputs": [],
   "source": [
    "def draw_cv2_pointcnts(raw_strokes, size=256, lw=2):\n",
    "    points_cnt = [len(s[0]) for s in raw_strokes]\n",
    "    min_cnt = min(points_cnt)\n",
    "    max_cnt = max(points_cnt)\n",
    "    if max_cnt > min_cnt:\n",
    "        color_step = (200 / (max_cnt - min_cnt))\n",
    "    else:\n",
    "        color_step = 0\n",
    "#     print(max_cnt, min_cnt, color_step)\n",
    "    \n",
    "    img = np.zeros((BASE_SIZE, BASE_SIZE), np.uint8)\n",
    "    \n",
    "    for t, stroke in enumerate(raw_strokes):\n",
    "        if color_step > 0:\n",
    "            color = 255 - int(color_step * (max_cnt - len(stroke[0])))\n",
    "            #print(color, color_step, len(stroke[0]), (len(stroke[0]) - min_cnt))\n",
    "        else:\n",
    "            color = 255\n",
    "        \n",
    "        for i in range(len(stroke[0]) - 1):\n",
    "            _ = cv2.line(img, (stroke[0][i], stroke[1][i]),\n",
    "                         (stroke[0][i + 1], stroke[1][i + 1]), color, lw)\n",
    "    if size != BASE_SIZE:\n",
    "        return cv2.resize(img, (size, size))\n",
    "    else:\n",
    "        return img"
   ]
  },
  {
   "cell_type": "code",
   "execution_count": 235,
   "metadata": {},
   "outputs": [],
   "source": [
    "def get_line_length(stroke):\n",
    "    length = 0\n",
    "    for i in range(len(stroke[0]) - 1):\n",
    "        x = stroke[0][i + 1] - stroke[0][i]\n",
    "        y = stroke[1][i + 1] - stroke[1][i]\n",
    "        step_length = (x**2 + y**2) **(1/2)\n",
    "#         print(step_length)\n",
    "        length += step_length\n",
    "    return int(length)\n",
    "\n",
    "def draw_cv2_linelength(raw_strokes, size=256, lw=2):\n",
    "    lengths = [get_line_length(s) for s in raw_strokes]\n",
    "    min_length = min(lengths)\n",
    "    max_length = max(lengths)\n",
    "    if max_length > min_length:\n",
    "        color_step = 200 / (max_length - min_length)\n",
    "    else:\n",
    "        color_step = 0\n",
    "#     print(max_cnt, min_cnt, color_step)\n",
    "    \n",
    "    img = np.zeros((BASE_SIZE, BASE_SIZE), np.uint8)\n",
    "    \n",
    "    for t, stroke in enumerate(raw_strokes):\n",
    "        if color_step > 0:\n",
    "            color = 255 - int(color_step * (max_length - get_line_length(stroke)))\n",
    "#             print(color, color_step, get_line_length(stroke))\n",
    "        else:\n",
    "            color = 255\n",
    "        \n",
    "        for i in range(len(stroke[0]) - 1):\n",
    "            _ = cv2.line(img, (stroke[0][i], stroke[1][i]),\n",
    "                         (stroke[0][i + 1], stroke[1][i + 1]), color, lw)\n",
    "    if size != BASE_SIZE:\n",
    "        return cv2.resize(img, (size, size))\n",
    "    else:\n",
    "        return img"
   ]
  },
  {
   "cell_type": "code",
   "execution_count": 224,
   "metadata": {},
   "outputs": [],
   "source": [
    "def draw_cv2_whole(raw_strokes, size=256, lw=2):\n",
    "    img = np.zeros((BASE_SIZE, BASE_SIZE, 3), np.uint8)\n",
    "    img[..., 0] = draw_cv2(raw_strokes, size=size, lw=lw, time_color=True)\n",
    "    img[..., 1] = draw_cv2_pointcnts(stroke, size=size, lw=lw)\n",
    "    img[..., 2] = draw_cv2_linelength(stroke, size=size, lw=lw)\n",
    "    \n",
    "    return img"
   ]
  },
  {
   "cell_type": "code",
   "execution_count": 475,
   "metadata": {},
   "outputs": [],
   "source": [
    "def draw_cv2_parts(raw_strokes, size=256, lw=2, center = True):\n",
    "    img = np.zeros((size, size, 3), np.uint8)\n",
    "    img[..., 0] = draw_cv2(raw_strokes, size=size, lw=lw, time_color=True, center = center)\n",
    "    \n",
    "    lengths = [get_line_length(s) for s in raw_strokes]\n",
    "    mean_length = np.mean(np.array(lengths))\n",
    "    point_cnts = [len(s[0]) for s in raw_strokes]\n",
    "    mean_pcnts = np.mean(np.array(point_cnts))\n",
    "    \n",
    "    outlines = []\n",
    "    details = []\n",
    "    for s in raw_strokes:\n",
    "        if get_line_length(s) < mean_length or len(s[0]) < mean_pcnts:\n",
    "            details.append(s)\n",
    "        else:\n",
    "            outlines.append(s)\n",
    "        \n",
    "    img[..., 1] = draw_cv2(outlines, size=size, time_color = False, center = center)\n",
    "    if len(details) > 0:\n",
    "        img[..., 2] = draw_cv2(details, size=size, time_color = False, center = center)\n",
    "    \n",
    "    return img"
   ]
  },
  {
   "cell_type": "code",
   "execution_count": 615,
   "metadata": {},
   "outputs": [],
   "source": [
    "def draw_cv2_parts_opt(raw_strokes, size=256, lw=2, center = True):\n",
    "    img = np.zeros((BASE_SIZE, BASE_SIZE, 3), np.uint8)\n",
    "    \n",
    "    lengths = np.array([get_line_length(s) for s in raw_strokes])\n",
    "    mean_length = int(np.mean(lengths))\n",
    "    \n",
    "    point_cnts = np.array([len(s[0]) for s in raw_strokes])\n",
    "    mean_pcnts = int(np.mean(point_cnts))\n",
    "    \n",
    "    cnt_stroke = len(raw_strokes)\n",
    "    \n",
    "    \n",
    "    not_one_stroke = cnt_stroke > 1 and np.any(lengths != lengths[0])\n",
    "    print(not_one_stroke)\n",
    "    if not_one_stroke:\n",
    "        outlines = []\n",
    "        details = []\n",
    "        for idx,s in enumerate(raw_strokes):\n",
    "            line_length = get_line_length(s)\n",
    "            line_ptr = len(s[0])\n",
    "            if line_length < mean_length or line_ptr < mean_pcnts:\n",
    "                details.append(line_length)\n",
    "            else:\n",
    "                outlines.append(line_length)\n",
    "\n",
    "        details = np.array(details)\n",
    "        outlines = np.array(outlines)\n",
    "        \n",
    "        print('outline', outlines)\n",
    "        print('details', details)\n",
    "\n",
    "        max_outline = np.max(outlines)\n",
    "        min_outline = np.min(outlines)\n",
    "        len_outline = (max_outline - min_outline) if len(outlines) > 1 else max_outline\n",
    "\n",
    "        if len(details) > 0:\n",
    "            max_detail = np.max(details)\n",
    "            min_detail = np.min(details)\n",
    "            len_detail = (max_detail - min_detail) if len(details) > 1 else max_detail\n",
    "            len_detail = 1 if len_detail == 0 else len_detail\n",
    "        else:\n",
    "            max_detail = 0\n",
    "            min_detail = 0\n",
    "            len_detail = 1\n",
    "#         print(len(raw_strokes), len_outline, len_detail)\n",
    "\n",
    "    color_step = int(200 / cnt_stroke)\n",
    "    for idx,s in enumerate(raw_strokes):\n",
    "        color_r = 255 - color_step * idx\n",
    "        \n",
    "        if not_one_stroke:\n",
    "            line_length = get_line_length(s)\n",
    "            line_ptr = len(s[0])\n",
    "            if line_length < mean_length or line_ptr < mean_pcnts:\n",
    "                color_g = 0\n",
    "                color_b = int(200 * (1 - (max_detail - line_length) / len_detail)) + 55\n",
    "            else:\n",
    "                color_g = int(200 * (1 - (max_outline - line_length) / len_outline)) + 55\n",
    "                color_b = 0\n",
    "        else:\n",
    "            color_g = 255\n",
    "            color_b = 0\n",
    "        \n",
    "        color = (color_r, color_g, color_b)\n",
    "#         print(color)\n",
    "        for i in range(len(s[0]) - 1):\n",
    "            _ = cv2.line(img, (s[0][i], s[1][i]),\n",
    "                             (s[0][i + 1], s[1][i + 1]), color, lw)\n",
    "    if size != BASE_SIZE:\n",
    "        img = cv2.resize(img, (size, size))\n",
    "        \n",
    "    return img"
   ]
  },
  {
   "cell_type": "code",
   "execution_count": 465,
   "metadata": {},
   "outputs": [],
   "source": [
    "def draw_cv2_parts_threshold(raw_strokes, size=256, lw=2, center = False, detail_threshold = 9):\n",
    "    img = np.zeros((size, size, 3), np.uint8)\n",
    "    img[..., 0] = draw_cv2(raw_strokes, size=size, lw=lw, time_color=True, center = center)\n",
    "    \n",
    "    if len(raw_strokes) >= detail_threshold:\n",
    "        lengths = [get_line_length(s) for s in raw_strokes]\n",
    "        mean_length = np.mean(np.array(lengths))\n",
    "        point_cnts = [len(s[0]) for s in raw_strokes]\n",
    "        mean_pcnts = np.mean(np.array(point_cnts))\n",
    " \n",
    "        outlines = []\n",
    "        details = []\n",
    "        for s in raw_strokes:\n",
    "            if get_line_length(s) < mean_length or len(s[0]) < mean_pcnts:\n",
    "                details.append(s)\n",
    "            else:\n",
    "                outlines.append(s)\n",
    "\n",
    "        img[..., 1] = draw_cv2(outlines, size=size, time_color = False, center = center)\n",
    "        if len(details) > 0:\n",
    "            img[..., 2] = draw_cv2(details, size=size, time_color = False, center = center)\n",
    "    else:\n",
    "        img[..., 1] = draw_cv2(raw_strokes, size=size, time_color = False, center = center)\n",
    "    \n",
    "    return img"
   ]
  },
  {
   "cell_type": "code",
   "execution_count": 619,
   "metadata": {},
   "outputs": [
    {
     "data": {
      "text/plain": [
       "True"
      ]
     },
     "execution_count": 619,
     "metadata": {},
     "output_type": "execute_result"
    }
   ],
   "source": [
    "test = np.array([158,158])\n",
    "np.all(test == test[0])"
   ]
  },
  {
   "cell_type": "code",
   "execution_count": 236,
   "metadata": {},
   "outputs": [],
   "source": [
    "BASE_SIZE = 256"
   ]
  },
  {
   "cell_type": "code",
   "execution_count": 458,
   "metadata": {},
   "outputs": [],
   "source": [
    "train = pd.read_csv('../input/train_simp/angel.csv')\n",
    "train.drawing = train.drawing.apply(json.loads)\n",
    "train['num_strokes'] = train.drawing.apply(len)"
   ]
  },
  {
   "cell_type": "code",
   "execution_count": 462,
   "metadata": {},
   "outputs": [
    {
     "data": {
      "text/plain": [
       "0.7409640968103863"
      ]
     },
     "execution_count": 462,
     "metadata": {},
     "output_type": "execute_result"
    }
   ],
   "source": [
    "(train['num_strokes'] < 10).sum() / len(train)"
   ]
  },
  {
   "cell_type": "code",
   "execution_count": null,
   "metadata": {},
   "outputs": [],
   "source": []
  },
  {
   "cell_type": "code",
   "execution_count": 600,
   "metadata": {},
   "outputs": [
    {
     "name": "stdout",
     "output_type": "stream",
     "text": [
      "CPU times: user 448 ms, sys: 0 ns, total: 448 ms\n",
      "Wall time: 448 ms\n"
     ]
    }
   ],
   "source": [
    "%%time\n",
    "for i in range(1000):\n",
    "    img = draw_cv2_parts(stroke)\n",
    "\n",
    "# fig, axs = plt.subplots(1, 4, figsize = (10, 10))\n",
    "# axs[0].imshow(img[...,0])\n",
    "# axs[1].imshow(img[...,1])\n",
    "# axs[2].imshow(img[...,2])\n",
    "# axs[3].imshow(img)"
   ]
  },
  {
   "cell_type": "code",
   "execution_count": 616,
   "metadata": {},
   "outputs": [
    {
     "name": "stdout",
     "output_type": "stream",
     "text": [
      "True\n",
      "CPU times: user 48 ms, sys: 4 ms, total: 52 ms\n",
      "Wall time: 50.3 ms\n"
     ]
    },
    {
     "data": {
      "image/png": "[encoded data removed]",
      "text/plain": [
       "<Figure size 720x720 with 4 Axes>"
      ]
     },
     "metadata": {},
     "output_type": "display_data"
    }
   ],
   "source": [
    "%%time\n",
    "stroke = train.loc[ train.num_strokes ==  5, 'drawing'].values[3]\n",
    "for i in range(1):\n",
    "    img = draw_cv2_parts_opt(stroke)\n",
    "\n",
    "fig, axs = plt.subplots(1, 4, figsize = (10, 10))\n",
    "axs[0].imshow(img[...,0])\n",
    "axs[1].imshow(img[...,1])\n",
    "axs[2].imshow(img[...,2])\n",
    "axs[3].imshow(img)"
   ]
  },
  {
   "cell_type": "code",
   "execution_count": 437,
   "metadata": {},
   "outputs": [
    {
     "data": {
      "image/png": "[encoded data removed]",
      "text/plain": [
       "<Figure size 720x720 with 3 Axes>"
      ]
     },
     "metadata": {},
     "output_type": "display_data"
    }
   ],
   "source": [
    "stroke = train.loc[ train.num_strokes == 4, 'drawing'].values[12]\n",
    "# img = draw_cv2(stroke)\n",
    "\n",
    "fig, axs = plt.subplots(1, 3, figsize = (10, 10))\n",
    "axs[0].imshow(draw_cv2(stroke))\n",
    "\n",
    "lengths = [get_line_length(s) for s in stroke]\n",
    "median_length = np.mean(np.array(lengths))\n",
    "point_cnts = [len(s[0]) for s in stroke]\n",
    "\n",
    "\n",
    "linethresd = median_length\n",
    "\n",
    "outlines = []\n",
    "details = []\n",
    "for s in stroke:\n",
    "    if get_line_length(s) < linethresd or len(s[0]) < 3:\n",
    "        details.append(s)\n",
    "    else:\n",
    "        outlines.append(s)\n",
    "\n",
    "axs[1].imshow(draw_cv2(outlines, time_color = False))\n",
    "if len(details) > 0:\n",
    "    axs[2].imshow(draw_cv2(details, time_color = False))\n",
    "else:\n",
    "    axs[2].imshow(draw_cv2(stroke))\n",
    "# axs[3].imshow(img)"
   ]
  },
  {
   "cell_type": "code",
   "execution_count": 122,
   "metadata": {},
   "outputs": [],
   "source": [
    "outline_thresh = 2\n",
    "ss = [s for s in stroke if len(s[0]) > outline_thresh]\n",
    "# ss = [s for s in stroke if len(s[0]) < 10]"
   ]
  },
  {
   "cell_type": "code",
   "execution_count": 162,
   "metadata": {},
   "outputs": [],
   "source": [
    "def get_line_length(stroke):\n",
    "    length = 0\n",
    "    for i in range(len(stroke) - 1):\n",
    "        x = stroke[0][i + 1] - stroke[0][i]\n",
    "        y = stroke[1][i + 1] - stroke[1][i]\n",
    "        length += (x**2 + y**2) **(1/2)\n",
    "    return length"
   ]
  },
  {
   "cell_type": "code",
   "execution_count": 184,
   "metadata": {},
   "outputs": [],
   "source": [
    "tmp = stroke[0:1]"
   ]
  },
  {
   "cell_type": "code",
   "execution_count": 189,
   "metadata": {},
   "outputs": [
    {
     "data": {
      "text/plain": [
       "[[[57, 60, 63, 63, 68, 102, 110, 107], [116, 119, 105, 3, 0, 0, 54, 125]]]"
      ]
     },
     "execution_count": 189,
     "metadata": {},
     "output_type": "execute_result"
    }
   ],
   "source": [
    "tmp"
   ]
  },
  {
   "cell_type": "code",
   "execution_count": 193,
   "metadata": {},
   "outputs": [],
   "source": [
    "def get_line_length(stroke):\n",
    "    length = 0\n",
    "    for i in range(len(stroke[0]) - 1):\n",
    "        x = stroke[0][i + 1] - stroke[0][i]\n",
    "        y = stroke[1][i + 1] - stroke[1][i]\n",
    "        step_length = (x**2 + y**2) **(1/2)\n",
    "#         print(step_length)\n",
    "        length += step_length\n",
    "    return int(length)"
   ]
  },
  {
   "cell_type": "code",
   "execution_count": 194,
   "metadata": {},
   "outputs": [
    {
     "data": {
      "text/plain": [
       "286"
      ]
     },
     "execution_count": 194,
     "metadata": {},
     "output_type": "execute_result"
    }
   ],
   "source": [
    "get_line_length(tmp[0])"
   ]
  },
  {
   "cell_type": "code",
   "execution_count": 160,
   "metadata": {},
   "outputs": [
    {
     "data": {
      "text/plain": [
       "29"
      ]
     },
     "execution_count": 160,
     "metadata": {},
     "output_type": "execute_result"
    }
   ],
   "source": [
    "get_line_length(stroke[1])"
   ]
  },
  {
   "cell_type": "code",
   "execution_count": 120,
   "metadata": {},
   "outputs": [
    {
     "data": {
      "text/plain": [
       "[<matplotlib.lines.Line2D at 0x7faf23f28b38>]"
      ]
     },
     "execution_count": 120,
     "metadata": {},
     "output_type": "execute_result"
    },
    {
     "data": {
      "image/png": "[encoded data removed]",
      "text/plain": [
       "<Figure size 432x288 with 1 Axes>"
      ]
     },
     "metadata": {},
     "output_type": "display_data"
    }
   ],
   "source": [
    "plt.plot([len(s[0]) for s in stroke])"
   ]
  },
  {
   "cell_type": "code",
   "execution_count": 197,
   "metadata": {},
   "outputs": [
    {
     "name": "stdout",
     "output_type": "stream",
     "text": [
      "183 0.44642857142857145 286\n",
      "84 0.44642857142857145 63\n",
      "239 0.44642857142857145 412\n",
      "55 0.44642857142857145 0\n",
      "55 0.44642857142857145 0\n",
      "58 0.44642857142857145 5\n",
      "58 0.44642857142857145 6\n",
      "57 0.44642857142857145 3\n",
      "56 0.44642857142857145 1\n",
      "56 0.44642857142857145 1\n",
      "57 0.44642857142857145 4\n",
      "68 0.44642857142857145 28\n",
      "55 0.44642857142857145 0\n",
      "57 0.44642857142857145 3\n",
      "60 0.44642857142857145 10\n",
      "56 0.44642857142857145 1\n",
      "75 0.44642857142857145 43\n",
      "59 0.44642857142857145 8\n",
      "68 0.44642857142857145 28\n",
      "62 0.44642857142857145 15\n",
      "255 0.44642857142857145 448\n",
      "61 0.44642857142857145 13\n",
      "64 0.44642857142857145 19\n",
      "56 0.44642857142857145 2\n",
      "57 0.44642857142857145 3\n",
      "65 0.44642857142857145 21\n",
      "55 0.44642857142857145 0\n",
      "123 0.44642857142857145 151\n",
      "74 0.44642857142857145 41\n",
      "207 0.44642857142857145 339\n"
     ]
    },
    {
     "data": {
      "text/plain": [
       "<matplotlib.image.AxesImage at 0x7faf2312e6d8>"
      ]
     },
     "execution_count": 197,
     "metadata": {},
     "output_type": "execute_result"
    },
    {
     "data": {
      "image/png": "[encoded data removed]",
      "text/plain": [
       "<Figure size 432x288 with 1 Axes>"
      ]
     },
     "metadata": {},
     "output_type": "display_data"
    }
   ],
   "source": [
    "img = draw_cv2_linelength(stroke)\n",
    "plt.imshow(img)"
   ]
  },
  {
   "cell_type": "code",
   "execution_count": null,
   "metadata": {},
   "outputs": [],
   "source": []
  }
 ],
 "metadata": {
  "kernelspec": {
   "display_name": "Python 3",
   "language": "python",
   "name": "python3"
  },
  "language_info": {
   "codemirror_mode": {
    "name": "ipython",
    "version": 3
   },
   "file_extension": ".py",
   "mimetype": "text/x-python",
   "name": "python",
   "nbconvert_exporter": "python",
   "pygments_lexer": "ipython3",
   "version": "3.6.5"
  }
 },
 "nbformat": 4,
 "nbformat_minor": 2
}
