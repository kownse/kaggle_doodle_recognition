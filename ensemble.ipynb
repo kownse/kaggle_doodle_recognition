{
 "cells": [
  {
   "cell_type": "code",
   "execution_count": 8,
   "metadata": {},
   "outputs": [],
   "source": [
    "import pandas as pd\n",
    "import numpy as np\n",
    "import glob\n",
    "from keras_helper import *\n",
    "import kaggle_util"
   ]
  },
  {
   "cell_type": "code",
   "execution_count": 9,
   "metadata": {},
   "outputs": [],
   "source": [
    "test = pd.read_csv('../input/test_simplified.csv')\n",
    "np_classes = np.load('../input/classes.npy')\n",
    "id2cat = {k: cat.replace(' ', '_') for k, cat in enumerate(np_classes)}"
   ]
  },
  {
   "cell_type": "code",
   "execution_count": 10,
   "metadata": {},
   "outputs": [],
   "source": [
    "\n",
    "# # 0.938\n",
    "# candidates = [\n",
    "#     ('senext50_parts', 0.928,  '../result/pre_se_resnext50_parts_all_71.npy', 0.18),\n",
    "#     ('xception71_time', 0.927, '../result/pre_xception71_time_lw6_balance_0_adam.npy', 0.18),\n",
    "# #     ('xception71_parts', 0.926, '../result/pre_xception71_parts_lw6_balance_0_adam_color.npy', 0.18),\n",
    "#     ('lstm384', 0.922, '../result/pre_lstm_conv64_units384_layer3_dropout0.2_feats9_noconvdrop2.npy', 0.26),\n",
    "#     ('dense64', 0.919, '../result/pre_densenet64_parts_try2_lw6_balance_0_adam_color.npy', 0.1),\n",
    "# #     ('xception71', 0.918, '../result/pre_xception_raw_deep71.npy', 0.1),\n",
    "# ]\n",
    "\n",
    "# # 0.940\n",
    "# candidates = [\n",
    "#     ('senext50_raw', 0.930, '../result/pre_se_resnext50_raw_all_71.npy', 0.2),\n",
    "#     ('senext50_parts', 0.928,  '../result/pre_se_resnext50_parts_all_71.npy', 0.18),\n",
    "#     ('xception71_time', 0.927, '../result/pre_xception71_time_lw6_balance_0_adam.npy', 0.18),\n",
    "# #     ('xception71_parts', 0.926, '../result/pre_xception71_parts_lw6_balance_0_adam_color.npy', 0.18),\n",
    "#     ('lstm384', 0.922, '../result/pre_lstm_conv64_units384_layer3_dropout0.2_feats9_noconvdrop2.npy', 0.26),\n",
    "#     ('dense64', 0.919, '../result/pre_densenet64_parts_try2_lw6_balance_0_adam_color.npy', 0.1),\n",
    "# #     ('xception71', 0.918, '../result/pre_xception_raw_deep71.npy', 0.1),\n",
    "# ]\n",
    "\n",
    "# # 0.941\n",
    "# candidates = [\n",
    "#     ('senext50_raw2', 0.934, '../result/pre_se_resnext50_raw_all2_71.npy', 0.2),\n",
    "#     ('senext50_parts', 0.928,  '../result/pre_se_resnext50_parts_all_71.npy', 0.18),\n",
    "#     ('xception71_time', 0.927, '../result/pre_xception71_time_lw6_balance_0_adam.npy', 0.18),\n",
    "# #     ('xception71_parts', 0.926, '../result/pre_xception71_parts_lw6_balance_0_adam_color.npy', 0.18),\n",
    "#     ('lstm384', 0.922, '../result/pre_lstm_conv64_units384_layer3_dropout0.2_feats9_noconvdrop2.npy', 0.26),\n",
    "#     ('dense64', 0.919, '../result/pre_densenet64_parts_try2_lw6_balance_0_adam_color.npy', 0.1),\n",
    "# #     ('xception71', 0.918, '../result/pre_xception_raw_deep71.npy', 0.1),\n",
    "# ]\n",
    "\n",
    "# # 0.941\n",
    "# candidates = [\n",
    "#     ('senext50_raw2', 0.934, '../result/pre_se_resnext50_raw_all2_71.npy', 0.2),\n",
    "#     ('senext50_parts', 0.928,  '../result/pre_se_resnext50_parts_all_71.npy', 0.18),\n",
    "# #     ('xception71_time', 0.927, '../result/pre_xception71_time_lw6_balance_0_adam.npy', 0.18),\n",
    "# #     ('xception71_parts', 0.926, '../result/pre_xception71_parts_lw6_balance_0_adam_color.npy', 0.18),\n",
    "#     ('lstm384', 0.922, '../result/pre_lstm_conv64_units384_layer3_dropout0.2_feats9_noconvdrop2.npy', 0.26),\n",
    "# #     ('dense64', 0.919, '../result/pre_densenet64_parts_try2_lw6_balance_0_adam_color.npy', 0.1),\n",
    "# #     ('xception71', 0.918, '../result/pre_xception_raw_deep71.npy', 0.1),\n",
    "# ]\n",
    "\n",
    "# # 0.943\n",
    "# candidates = [\n",
    "# #     ('senext50_raw2', 0.934, '../result/pre_se_resnext50_raw_all2_71.npy', 0.2),\n",
    "#     ('senext50_raw2', 0.936, '../result/pre_se_resnext50_raw_all71_recg2.npy', 0.25),\n",
    "#     ('senext50_parts', 0.928,  '../result/pre_se_resnext50_parts_all_71.npy', 0.2),\n",
    "#     ('lstm384', 0.922, '../result/pre_lstm_conv64_units384_layer3_dropout0.2_feats9_noconvdrop2.npy', 0.20),\n",
    "# ]\n",
    "\n",
    "# ??\n",
    "candidates = [\n",
    "    ('senext50_raw2', 0.936, '../result/pre_senext_8410.npy', 0.25),\n",
    "    ('senext50_parts', 0.928,  '../result/pre_se_resnext50_parts_all_71.npy', 0.2),\n",
    "    ('lstm384', 0.922, '../result/pre_lstm_conv64_units384_layer3_dropout0.2_feats9_noconvdrop2.npy', 0.20),\n",
    "]"
   ]
  },
  {
   "cell_type": "code",
   "execution_count": 11,
   "metadata": {},
   "outputs": [],
   "source": [
    "df = pd.DataFrame()\n",
    "mix = None\n",
    "for idx, (name, score, path, weight) in enumerate(candidates):\n",
    "    pred = np.load(path)\n",
    "    \n",
    "    if mix is None:\n",
    "        mix = pred * weight\n",
    "    else:\n",
    "        mix += pred * weight\n",
    "    df[name] = pred.flatten()"
   ]
  },
  {
   "cell_type": "code",
   "execution_count": 12,
   "metadata": {},
   "outputs": [
    {
     "data": {
      "text/html": [
       "<div>\n",
       "<style scoped>\n",
       "    .dataframe tbody tr th:only-of-type {\n",
       "        vertical-align: middle;\n",
       "    }\n",
       "\n",
       "    .dataframe tbody tr th {\n",
       "        vertical-align: top;\n",
       "    }\n",
       "\n",
       "    .dataframe thead th {\n",
       "        text-align: right;\n",
       "    }\n",
       "</style>\n",
       "<table border=\"1\" class=\"dataframe\">\n",
       "  <thead>\n",
       "    <tr style=\"text-align: right;\">\n",
       "      <th></th>\n",
       "      <th>senext50_raw2</th>\n",
       "      <th>senext50_parts</th>\n",
       "      <th>lstm384</th>\n",
       "    </tr>\n",
       "  </thead>\n",
       "  <tbody>\n",
       "    <tr>\n",
       "      <th>senext50_raw2</th>\n",
       "      <td>1.000000</td>\n",
       "      <td>0.975171</td>\n",
       "      <td>0.960899</td>\n",
       "    </tr>\n",
       "    <tr>\n",
       "      <th>senext50_parts</th>\n",
       "      <td>0.975171</td>\n",
       "      <td>1.000000</td>\n",
       "      <td>0.963823</td>\n",
       "    </tr>\n",
       "    <tr>\n",
       "      <th>lstm384</th>\n",
       "      <td>0.960899</td>\n",
       "      <td>0.963823</td>\n",
       "      <td>1.000000</td>\n",
       "    </tr>\n",
       "  </tbody>\n",
       "</table>\n",
       "</div>"
      ],
      "text/plain": [
       "                senext50_raw2  senext50_parts   lstm384\n",
       "senext50_raw2        1.000000        0.975171  0.960899\n",
       "senext50_parts       0.975171        1.000000  0.963823\n",
       "lstm384              0.960899        0.963823  1.000000"
      ]
     },
     "execution_count": 12,
     "metadata": {},
     "output_type": "execute_result"
    }
   ],
   "source": [
    "df.corr()"
   ]
  },
  {
   "cell_type": "code",
   "execution_count": 13,
   "metadata": {},
   "outputs": [],
   "source": [
    "top3 = preds2catids(mix)\n",
    "top3cats = top3.replace(id2cat)\n",
    "test['word'] = top3cats['a'] + ' ' + top3cats['b'] + ' ' + top3cats['c']\n",
    "submission = test[['key_id', 'word']]"
   ]
  },
  {
   "cell_type": "code",
   "execution_count": 14,
   "metadata": {},
   "outputs": [
    {
     "name": "stdout",
     "output_type": "stream",
     "text": [
      "save result\n",
      "upload result\n",
      "cmd: kaggle competitions submit -c quickdraw-doodle-recognition -f ../result/ensemble_localbest.csv.7z -m \"submit\"\n"
     ]
    }
   ],
   "source": [
    "kaggle_util.save_result(submission,  \n",
    "                            '../result/ensemble_localbest.csv', \n",
    "                            'quickdraw-doodle-recognition', \n",
    "                            send=True, index=False)"
   ]
  },
  {
   "cell_type": "code",
   "execution_count": null,
   "metadata": {},
   "outputs": [],
   "source": []
  }
 ],
 "metadata": {
  "kernelspec": {
   "display_name": "Python 3",
   "language": "python",
   "name": "python3"
  },
  "language_info": {
   "codemirror_mode": {
    "name": "ipython",
    "version": 3
   },
   "file_extension": ".py",
   "mimetype": "text/x-python",
   "name": "python",
   "nbconvert_exporter": "python",
   "pygments_lexer": "ipython3",
   "version": "3.6.5"
  }
 },
 "nbformat": 4,
 "nbformat_minor": 2
}
