{
 "cells": [
  {
   "cell_type": "code",
   "execution_count": 1,
   "metadata": {},
   "outputs": [
    {
     "name": "stderr",
     "output_type": "stream",
     "text": [
      "Using TensorFlow backend.\n"
     ]
    }
   ],
   "source": [
    "from __future__ import print_function, division\n",
    "\n",
    "import torch\n",
    "import torch.nn as nn\n",
    "import torch.optim as optim\n",
    "from torch.optim import lr_scheduler\n",
    "import numpy as np\n",
    "import torchvision\n",
    "from torchvision import datasets, models, transforms\n",
    "import matplotlib.pyplot as plt\n",
    "import time\n",
    "import os\n",
    "import copy\n",
    "from data import *\n",
    "import pretrainedmodels\n",
    "import torchvision.transforms as transforms\n",
    "import sys\n",
    "import glob\n",
    "from torch.utils.data import Dataset, DataLoader, ConcatDataset\n",
    "import json\n",
    "from tqdm import tqdm_notebook"
   ]
  },
  {
   "cell_type": "code",
   "execution_count": 2,
   "metadata": {},
   "outputs": [],
   "source": [
    "nw = 4   #number of workers for data loader\n",
    "# TOT = 46613580 - 340000\n",
    "\n",
    "NCATS = 340\n",
    "NUM_EACH_CLASS = 50000\n",
    "TOT = NCATS * NUM_EACH_CLASS\n",
    "EPOCHS = 50\n",
    "size = 224\n",
    "SIZE = size # for matching to imagenet\n",
    "batchsize = 48 \n",
    "lw = 6\n",
    "STEPS = int(NUM_EACH_CLASS * NCATS / EPOCHS / batchsize)\n",
    "\n",
    "channel = 3\n",
    "\n",
    "device = torch.device(\"cuda:0\")"
   ]
  },
  {
   "cell_type": "code",
   "execution_count": 3,
   "metadata": {},
   "outputs": [],
   "source": [
    "en_dict = {}\n",
    "path = '../input/train_simp/'\n",
    "\n",
    "filenames = glob.glob(os.path.join(path, '*.csv'))\n",
    "filenames = sorted(filenames)\n",
    "\n",
    "def encode_files():\n",
    "    \"\"\" Encode all label by name of csv_files \"\"\"\n",
    "    counter = 0\n",
    "    for fn in filenames:\n",
    "        en_dict[fn[:-4].split('/')[-1].replace(' ', '_')] = counter\n",
    "        counter += 1\n",
    "        \n",
    "# collect file names and encode label\n",
    "encode_files()\n",
    "\n",
    "dec_dict = {v: k for k, v in en_dict.items()}\n",
    "def decode_labels(label):\n",
    "    return dec_dict[label]\n",
    "\n",
    "def get_label(nfile):\n",
    "    \"\"\" Return encoded label for class by name of csv_files \"\"\"\n",
    "    return en_dict[nfile.replace(' ', '_')[:-4]]"
   ]
  },
  {
   "cell_type": "code",
   "execution_count": 4,
   "metadata": {},
   "outputs": [],
   "source": [
    "class DoodlesDataset(Dataset):\n",
    "    \"\"\"Doodles csv dataset.\"\"\"\n",
    "\n",
    "    def __init__(self, csv_file, root_dir, mode='train', nrows=1000, skiprows=None, size=256, transform=None):\n",
    "        self.root_dir = root_dir\n",
    "        file = os.path.join(self.root_dir, csv_file)\n",
    "        self.size = size\n",
    "        self.mode = mode\n",
    "        self.doodle = pd.read_csv(file, usecols=['drawing'], nrows=nrows, skiprows=skiprows)\n",
    "        self.transform = transform\n",
    "        if self.mode == 'train':\n",
    "            self.label = get_label(csv_file)\n",
    "\n",
    "    @staticmethod\n",
    "    def _draw(raw_strokes, size=256, lw=6, time_color=True):\n",
    "        img = draw_cv2_parts(raw_strokes, size = size, lw = lw)\n",
    "        return np.transpose(img, (2, 0, 1))\n",
    "    \n",
    "    def __len__(self):\n",
    "        return len(self.doodle)\n",
    "\n",
    "    def __getitem__(self, idx):\n",
    "        raw_strokes = json.loads(self.doodle.drawing[idx])\n",
    "        sample = self._draw(raw_strokes, size=self.size, lw=6, time_color=True)\n",
    "        if self.transform:\n",
    "            sample = self.transform(sample)\n",
    "#         print(sample.shape, sample[None].shape)\n",
    "        if self.mode == 'train':\n",
    "            return (sample/255).astype('float32'), self.label\n",
    "        else:\n",
    "            return (sample/255).astype('float32')"
   ]
  },
  {
   "cell_type": "code",
   "execution_count": 5,
   "metadata": {},
   "outputs": [],
   "source": [
    "\n",
    "# collect all single csvset in one\n",
    "select_nrows = NUM_EACH_CLASS\n",
    "skip_rows = 0\n",
    "doodle_all = ConcatDataset([DoodlesDataset(fn.split('/')[-1], path, nrows=select_nrows, size=SIZE,\n",
    "                                          ) for fn in filenames])"
   ]
  },
  {
   "cell_type": "code",
   "execution_count": 6,
   "metadata": {},
   "outputs": [],
   "source": [
    "# select some rows for validation\n",
    "valid_rows = 100\n",
    "validationset = ConcatDataset([DoodlesDataset(fn.split('/')[-1], path, nrows=valid_rows, size=SIZE,\n",
    "                                           skiprows=range(1, skip_rows + select_nrows)) for fn in filenames])"
   ]
  },
  {
   "cell_type": "code",
   "execution_count": 7,
   "metadata": {},
   "outputs": [
    {
     "name": "stdout",
     "output_type": "stream",
     "text": [
      "Train set: 17000000\n",
      "Validation set: 34000\n"
     ]
    }
   ],
   "source": [
    "# total images in set\n",
    "print('Train set:', len(doodle_all))\n",
    "print('Validation set:', len(validationset))\n",
    "# Use the torch dataloader to iterate through the dataset\n",
    "loader = DataLoader(doodle_all, batch_size=batchsize, shuffle=True, num_workers=4)\n",
    "valid_loader = DataLoader(validationset, batch_size=16, shuffle=False, num_workers=4)"
   ]
  },
  {
   "cell_type": "code",
   "execution_count": 8,
   "metadata": {},
   "outputs": [
    {
     "data": {
      "image/png": "[encoded data removed]",
      "text/plain": [
       "<Figure size 1152x1728 with 1 Axes>"
      ]
     },
     "metadata": {},
     "output_type": "display_data"
    }
   ],
   "source": [
    "# functions to show an image\n",
    "def imshow(img):\n",
    "    npimg = img.numpy()\n",
    "    plt.imshow(np.transpose(npimg, (1, 2, 0)))\n",
    "\n",
    "# get some images \n",
    "dataiter = iter(loader)\n",
    "images, label = dataiter.next()\n",
    "\n",
    "# show images\n",
    "plt.figure(figsize=(16,24))\n",
    "imshow(torchvision.utils.make_grid(images[:24]))"
   ]
  },
  {
   "cell_type": "code",
   "execution_count": 9,
   "metadata": {},
   "outputs": [
    {
     "data": {
      "text/plain": [
       "torch.Size([48, 3, 224, 224])"
      ]
     },
     "execution_count": 9,
     "metadata": {},
     "output_type": "execute_result"
    }
   ],
   "source": [
    "images.shape"
   ]
  },
  {
   "cell_type": "code",
   "execution_count": 10,
   "metadata": {},
   "outputs": [],
   "source": [
    "# validation function \n",
    "def validation(lossf, scoref):\n",
    "    model.eval()\n",
    "    loss, score = 0, 0\n",
    "    vlen = len(valid_loader)\n",
    "    for x, y in valid_loader:\n",
    "        x, y = x.to(device), y.to(device)\n",
    "        output = model(x)\n",
    "        loss += lossf(output, y).item()\n",
    "        score += scoref(output, y)[0].item()\n",
    "    model.train()\n",
    "    return loss/vlen, score/vlen\n",
    "\n",
    "def accuracy(output, target, topk=(1,)):\n",
    "    \"\"\"Computes the accuracy over the k top predictions for the specified values of k\"\"\"\n",
    "    with torch.no_grad():\n",
    "        maxk = max(topk)\n",
    "        batch_size = target.size(0)\n",
    "\n",
    "        _, pred = output.topk(maxk, 1, True, True)\n",
    "        pred = pred.t()\n",
    "        correct = pred.eq(target.view(1, -1).expand_as(pred))\n",
    "\n",
    "        res = []\n",
    "        for k in topk:\n",
    "            correct_k = correct[:k].view(-1).float().sum(0, keepdim=True)\n",
    "            res.append(correct_k.mul_(100.0 / batch_size))\n",
    "        return res"
   ]
  },
  {
   "cell_type": "code",
   "execution_count": 11,
   "metadata": {},
   "outputs": [
    {
     "name": "stdout",
     "output_type": "stream",
     "text": [
      "['fbresnet152', 'bninception', 'resnext101_32x4d', 'resnext101_64x4d', 'inceptionv4', 'inceptionresnetv2', 'alexnet', 'densenet121', 'densenet169', 'densenet201', 'densenet161', 'resnet18', 'resnet34', 'resnet50', 'resnet101', 'resnet152', 'inceptionv3', 'squeezenet1_0', 'squeezenet1_1', 'vgg11', 'vgg11_bn', 'vgg13', 'vgg13_bn', 'vgg16', 'vgg16_bn', 'vgg19_bn', 'vgg19', 'nasnetamobile', 'nasnetalarge', 'dpn68', 'dpn68b', 'dpn92', 'dpn98', 'dpn131', 'dpn107', 'xception', 'senet154', 'se_resnet50', 'se_resnet101', 'se_resnet152', 'se_resnext50_32x4d', 'se_resnext101_32x4d', 'cafferesnet101', 'pnasnet5large', 'polynet']\n"
     ]
    }
   ],
   "source": [
    "print(pretrainedmodels.model_names)"
   ]
  },
  {
   "cell_type": "code",
   "execution_count": 12,
   "metadata": {},
   "outputs": [],
   "source": [
    "model = pretrainedmodels.__dict__['se_resnext50_32x4d'](pretrained='imagenet')\n",
    "model.last_linear = nn.Linear(in_features = 2048, out_features = NCATS)"
   ]
  },
  {
   "cell_type": "code",
   "execution_count": 13,
   "metadata": {},
   "outputs": [],
   "source": [
    "# if torch.cuda.device_count() > 1:\n",
    "#   print(\"Let's use\", torch.cuda.device_count(), \"GPUs!\")\n",
    "#   model = nn.DataParallel(model)"
   ]
  },
  {
   "cell_type": "code",
   "execution_count": 14,
   "metadata": {},
   "outputs": [],
   "source": [
    "criterion = nn.CrossEntropyLoss()\n",
    "\n",
    "# Observe that all parameters are being optimized\n",
    "optimizer = optim.Adam(model.parameters(), lr=0.002)\n",
    "exp_lr_scheduler = lr_scheduler.ReduceLROnPlateau(optimizer, mode='min', factor=0.5, patience = 2)\n",
    "\n",
    "model = model.to(device)"
   ]
  },
  {
   "cell_type": "code",
   "execution_count": 15,
   "metadata": {},
   "outputs": [],
   "source": [
    "MODEL_CKPT = 'models/best_se_resnext50_parts_all.pth'"
   ]
  },
  {
   "cell_type": "code",
   "execution_count": null,
   "metadata": {},
   "outputs": [
    {
     "name": "stdout",
     "output_type": "stream",
     "text": [
      "p_itr 2361\n"
     ]
    },
    {
     "data": {
      "application/vnd.jupyter.widget-view+json": {
       "model_id": "5f2caf39c4474c6a9d9508d27675571c",
       "version_major": 2,
       "version_minor": 0
      },
      "text/plain": [
       "HBox(children=(IntProgress(value=0, max=354167), HTML(value='')))"
      ]
     },
     "metadata": {},
     "output_type": "display_data"
    },
    {
     "name": "stdout",
     "output_type": "stream",
     "text": [
      "Iteration 2361 -> Train Loss: 3.3174, Accuracy: 29.77%\n",
      "Iteration 2361 -> Validation Loss: 2.0315, Accuracy: 51.94%\n",
      "new best_score51.938 save to models/best_se_resnext50_parts_all.pth\n",
      "Iteration 4722 -> Train Loss: 1.7873, Accuracy: 57.22%\n",
      "Iteration 4722 -> Validation Loss: 1.5608, Accuracy: 62.20%\n",
      "new best_score62.203 save to models/best_se_resnext50_parts_all.pth\n",
      "Iteration 7083 -> Train Loss: 1.5207, Accuracy: 62.98%\n",
      "Iteration 7083 -> Validation Loss: 1.4186, Accuracy: 65.41%\n",
      "new best_score65.415 save to models/best_se_resnext50_parts_all.pth\n",
      "Iteration 9444 -> Train Loss: 1.3935, Accuracy: 65.89%\n",
      "Iteration 9444 -> Validation Loss: 283.1415, Accuracy: 0.29%\n",
      "Iteration 11805 -> Train Loss: 1.3098, Accuracy: 67.71%\n",
      "Iteration 11805 -> Validation Loss: 2921.7564, Accuracy: 0.29%\n",
      "Iteration 14166 -> Train Loss: 1.2451, Accuracy: 69.20%\n",
      "Iteration 14166 -> Validation Loss: 1462.8494, Accuracy: 0.29%\n",
      "Iteration 16527 -> Train Loss: 1.2231, Accuracy: 69.53%\n",
      "Iteration 16527 -> Validation Loss: 1.1945, Accuracy: 70.57%\n",
      "new best_score70.571 save to models/best_se_resnext50_parts_all.pth\n",
      "Iteration 18888 -> Train Loss: 1.1829, Accuracy: 70.51%\n",
      "Iteration 18888 -> Validation Loss: 1.1664, Accuracy: 71.18%\n",
      "new best_score71.179 save to models/best_se_resnext50_parts_all.pth\n",
      "Iteration 21249 -> Train Loss: 1.1579, Accuracy: 71.19%\n",
      "Iteration 21249 -> Validation Loss: 1.1380, Accuracy: 71.66%\n",
      "new best_score71.656 save to models/best_se_resnext50_parts_all.pth\n",
      "Iteration 23610 -> Train Loss: 1.1332, Accuracy: 71.73%\n",
      "Iteration 23610 -> Validation Loss: 1.1368, Accuracy: 71.81%\n",
      "new best_score71.806 save to models/best_se_resnext50_parts_all.pth\n",
      "Iteration 25971 -> Train Loss: 1.1114, Accuracy: 72.41%\n",
      "Iteration 25971 -> Validation Loss: 1.1001, Accuracy: 72.54%\n",
      "new best_score72.544 save to models/best_se_resnext50_parts_all.pth\n"
     ]
    }
   ],
   "source": [
    "epochs = 2\n",
    "lsize = len(loader)\n",
    "itr = 1\n",
    "p_itr = int(lsize / 150) # print every N iteration\n",
    "patience = 5\n",
    "\n",
    "print('p_itr', p_itr)\n",
    "\n",
    "# if os.path.exists(MODEL_CKPT):\n",
    "#     print('load previous trained weights', MODEL_CKPT)\n",
    "#     model.load_state_dict(torch.load(MODEL_CKPT, map_location=lambda storage, loc: storage))\n",
    "model.train()\n",
    "\n",
    "best_loss = 999.0\n",
    "lr_patient = 0\n",
    "valid_patient = 0\n",
    "cycle = 0\n",
    "lr_min = 0.0001\n",
    "lr_max = 0.002\n",
    "lr_rampdown = 65\n",
    "\n",
    "for epoch in range(epochs):\n",
    "    tloss, score = 0, 0\n",
    "    for x, y in tqdm_notebook(loader):\n",
    "        x, y = x.to(device), y.to(device)\n",
    "        optimizer.zero_grad()\n",
    "        output = model(x)\n",
    "        loss = criterion(output, y)\n",
    "        loss.backward()\n",
    "        optimizer.step()\n",
    "        tloss += loss.item()\n",
    "        score += accuracy(output, y)[0].item()\n",
    "        if itr%p_itr==0:\n",
    "            vloss, vscore = validation(criterion, accuracy)\n",
    "            print('Iteration {} -> Train Loss: {:.4f}, Accuracy: {:.2f}%'.format(itr, tloss/p_itr, score/p_itr))\n",
    "            print('Iteration {} -> Validation Loss: {:.4f}, Accuracy: {:.2f}%'.format(itr, vloss, vscore))\n",
    "            time.sleep(0.1)\n",
    "            \n",
    "#             exp_lr_scheduler.step(vscore)\n",
    "            \n",
    "            if vloss < best_loss:\n",
    "                lr_patient = 0\n",
    "                valid_patient = 0\n",
    "                best_loss = vloss\n",
    "                \n",
    "                model.eval()\n",
    "                torch.save(model.state_dict(), MODEL_CKPT)\n",
    "                model.train()\n",
    "                \n",
    "                print('new best_score{:.3f}'.format(vscore), 'save to', MODEL_CKPT)\n",
    "            else:\n",
    "                lr_patient += 1\n",
    "                valid_patient += 1\n",
    "                \n",
    "            if valid_patient > 15:\n",
    "                cycle += 1\n",
    "                lr_patient = 0\n",
    "                valid_patient = 0\n",
    "                \n",
    "                checkpath = 'models/se_resnext50_parts_cycle{}.pth'.format(cycle)\n",
    "                model.eval()\n",
    "                torch.save(model.state_dict(), checkpath)\n",
    "                model.train()\n",
    "\n",
    "                print('rampdown')\n",
    "                for params in optimizer.param_groups:\n",
    "                    params['lr'] = (lr_min + 0.5 * (lr_max - lr_min) *\n",
    "                                   (1 + np.cos(np.pi * t_ / lr_rampdown)))\n",
    "\n",
    "                print('Learning rate set to {:.4}'.format(optimizer.param_groups[0]['lr']))\n",
    "\n",
    "            if lr_patient > patience:\n",
    "                print('Reducing learning rate by {}'.format(0.5))\n",
    "                for params in optimizer.param_groups:\n",
    "                    params['lr'] *= 0.5\n",
    "                lr_patient = 0\n",
    "                \n",
    "            tloss, score = 0, 0\n",
    "             \n",
    "        itr +=1\n",
    "vloss, vscore = validation(criterion, accuracy)\n",
    "print('Final -> Validation Loss: {:.4f}, Accuracy: {:.2f}%'.format(vloss, vscore))"
   ]
  },
  {
   "cell_type": "code",
   "execution_count": null,
   "metadata": {},
   "outputs": [],
   "source": [
    "model.load_state_dict(torch.load(MODEL_CKPT, map_location=lambda storage, loc: storage))\n",
    "model.eval() "
   ]
  },
  {
   "cell_type": "code",
   "execution_count": null,
   "metadata": {},
   "outputs": [],
   "source": [
    "testset = DoodlesDataset('test_simplified.csv', '../input', mode='test', nrows=None, size=SIZE)\n",
    "testloader = DataLoader(testset, batch_size=16, shuffle=False, num_workers=0)"
   ]
  },
  {
   "cell_type": "code",
   "execution_count": null,
   "metadata": {},
   "outputs": [],
   "source": [
    "labels = np.empty((0,3))\n",
    "for x in tqdm_notebook(testloader):\n",
    "    x = x.to(device)\n",
    "    output = model(x)\n",
    "    _, pred = output.topk(3, 1, True, True)\n",
    "    labels = np.concatenate([labels, pred], axis = 0)"
   ]
  },
  {
   "cell_type": "code",
   "execution_count": null,
   "metadata": {},
   "outputs": [],
   "source": [
    "submission = pd.read_csv('../input/test_simplified.csv', index_col='key_id')\n",
    "submission.drop(['countrycode', 'drawing'], axis=1, inplace=True)\n",
    "submission['word'] = ''\n",
    "prog = tqdm_notebook(total = len(submission))\n",
    "for i, label in enumerate(labels):\n",
    "    prog.update(1)\n",
    "    submission.word.iloc[i] = \" \".join([decode_labels(l) for l in label])"
   ]
  },
  {
   "cell_type": "code",
   "execution_count": null,
   "metadata": {},
   "outputs": [],
   "source": [
    "import kaggle_util\n",
    "kaggle_util.save_result(submission,  \n",
    "                        '../result/se-resnet50.csv', \n",
    "                         'quickdraw-doodle-recognition', \n",
    "                        send=True, index=True)"
   ]
  },
  {
   "cell_type": "code",
   "execution_count": null,
   "metadata": {},
   "outputs": [],
   "source": []
  }
 ],
 "metadata": {
  "kernelspec": {
   "display_name": "Python 3",
   "language": "python",
   "name": "python3"
  },
  "language_info": {
   "codemirror_mode": {
    "name": "ipython",
    "version": 3
   },
   "file_extension": ".py",
   "mimetype": "text/x-python",
   "name": "python",
   "nbconvert_exporter": "python",
   "pygments_lexer": "ipython3",
   "version": "3.6.5"
  }
 },
 "nbformat": 4,
 "nbformat_minor": 2
}
