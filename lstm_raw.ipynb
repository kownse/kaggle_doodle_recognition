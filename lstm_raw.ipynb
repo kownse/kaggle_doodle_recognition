{
 "cells": [
  {
   "cell_type": "code",
   "execution_count": 1,
   "metadata": {},
   "outputs": [
    {
     "name": "stderr",
     "output_type": "stream",
     "text": [
      "Using TensorFlow backend.\n"
     ]
    }
   ],
   "source": [
    "import os\n",
    "os.environ[\"CUDA_VISIBLE_DEVICES\"]=\"1\" \n",
    "import numpy as np\n",
    "import tensorflow as tf\n",
    "import matplotlib.pyplot as plt\n",
    "import keras\n",
    "from keras.utils.np_utils import to_categorical\n",
    "from keras.preprocessing.sequence import pad_sequences\n",
    "from sklearn.preprocessing import LabelEncoder\n",
    "import pandas as pd\n",
    "from keras.metrics import top_k_categorical_accuracy\n",
    "\n",
    "from keras.callbacks import ModelCheckpoint, LearningRateScheduler, EarlyStopping, ReduceLROnPlateau\n",
    "from keras.callbacks import TensorBoard\n",
    "from keras.optimizers import Adam\n",
    "\n",
    "from glob import glob\n",
    "import json\n",
    "\n",
    "import gc\n",
    "gc.enable()\n"
   ]
  },
  {
   "cell_type": "code",
   "execution_count": 2,
   "metadata": {},
   "outputs": [],
   "source": [
    "def preds2catids(predictions):\n",
    "    return pd.DataFrame(np.argsort(-predictions, axis=1)[:, :3], columns=['a', 'b', 'c'])\n",
    "\n",
    "def top_3_accuracy(y_true, y_pred):\n",
    "    return top_k_categorical_accuracy(y_true, y_pred, k=3)\n",
    "\n",
    "def unit_vector(vector):\n",
    "    \"\"\" Returns the unit vector of the vector.  \"\"\"\n",
    "    return vector / np.linalg.norm(vector)\n",
    "\n",
    "def angle_between(v1, v2):\n",
    "    \"\"\" Returns the angle in radians between vectors 'v1' and 'v2'::\n",
    "\n",
    "            >>> angle_between((1, 0, 0), (0, 1, 0))\n",
    "            1.5707963267948966\n",
    "            >>> angle_between((1, 0, 0), (1, 0, 0))\n",
    "            0.0\n",
    "            >>> angle_between((1, 0, 0), (-1, 0, 0))\n",
    "            3.141592653589793\n",
    "    \"\"\"\n",
    "    if (v1[0] == 0 and v1[1] == 0) or (v2[0] == 0 and v2[1] == 0):\n",
    "        return 0\n",
    "    \n",
    "    v1_u = unit_vector(v1)\n",
    "    v2_u = unit_vector(v2)\n",
    "    return np.arccos(np.clip(np.dot(v1_u, v2_u), -1.0, 1.0))\n",
    "\n",
    "def intervaled_cumsum(ar, new_flag):\n",
    "    # Make a copy to be used as output array\n",
    "    out = ar.copy()\n",
    "\n",
    "    cumsum = 0\n",
    "    for i in range(len(ar)):\n",
    "        if new_flag[i] == 2:\n",
    "            cumsum = 0\n",
    "            out[i] = cumsum\n",
    "        else:\n",
    "            cumsum += ar[i]\n",
    "            out[i] = cumsum\n",
    "\n",
    "    return out\n",
    "\n",
    "\n",
    " \n",
    "def _stack_it10(raw_strokes):\n",
    "    stroke_vec = json.loads(raw_strokes)\n",
    "    for d in stroke_vec:\n",
    "        angle = []\n",
    "        for i in range(len(d[0])):\n",
    "            if i < 2:\n",
    "                angle.append(0)\n",
    "            else:\n",
    "                v1 = (d[0][i-1] - d[0][i-2],d[1][i-1] - d[1][i-2])\n",
    "                v2 = (d[0][i] - d[0][i-1],d[1][i] - d[1][i-1])\n",
    "                a = angle_between(v1,v2)\n",
    "                a = int(a * 100)\n",
    "                angle.append(a)\n",
    "\n",
    "        d.append(angle)\n",
    "\n",
    "    # unwrap the list\n",
    "    in_strokes = [(xi,yi,ti,ai,i) for i,(x,y,t,a) in enumerate(stroke_vec) for xi,yi,ti,ai in zip(x,y,t,a)]\n",
    "#     try:\n",
    "    c_strokes = np.stack(in_strokes).astype(np.int32)\n",
    "#     print(c_strokes[:5])\n",
    "#     except:\n",
    "#         print(c_strokes[:50])\n",
    "\n",
    "    # replace stroke id with 1 for continue, 2 for new\n",
    "    c_strokes[:,4] += 1 # since 0 is no stroke\n",
    "    new_flag = np.array([1]+np.diff(c_strokes[:,4]).tolist()) + 1\n",
    "\n",
    "    # calc distance \n",
    "    x_diff = [0] + np.diff(c_strokes[:,0]).tolist()\n",
    "    y_diff = [0] + np.diff(c_strokes[:,1]).tolist()\n",
    "    distance = np.sqrt(np.power(x_diff, 2) + np.power(y_diff, 2)).astype(np.int32)\n",
    "#     print(c_strokes[:5])\n",
    "#     print(x_diff[:5])\n",
    "#     print(y_diff[:5])\n",
    "#     print(distance[:5])\n",
    "    # calc length for one stroke\n",
    "#     try:\n",
    "    length = np.bincount(c_strokes[:,4], weights=distance).astype(np.int32)\n",
    "#     except:\n",
    "#         print(c_strokes[:50])\n",
    "    leng = np.zeros_like(distance)\n",
    "    for i in range(1, len(length)):\n",
    "        leng[c_strokes[:,4] == i] = length[i]\n",
    "\n",
    "    c_strokes = np.column_stack((c_strokes, new_flag, distance, leng))\n",
    "    c_strokes[c_strokes[:,4] == 2,6] = 0\n",
    "\n",
    "    angle_cumsum = intervaled_cumsum(c_strokes[:,3],c_strokes[:,5])\n",
    "    length_cumsum = intervaled_cumsum(c_strokes[:,6],c_strokes[:,5])\n",
    "    c_strokes = np.column_stack((c_strokes, angle_cumsum, length_cumsum))\n",
    "\n",
    "    # pad the strokes with zeros\n",
    "    return pad_sequences(c_strokes.swapaxes(0, 1), \n",
    "                         maxlen=STROKE_COUNT, \n",
    "                         padding='post').swapaxes(0, 1)"
   ]
  },
  {
   "cell_type": "code",
   "execution_count": 3,
   "metadata": {},
   "outputs": [],
   "source": [
    "import glob\n",
    "import random\n",
    "\n",
    "def image_generator_xd(batchsize):\n",
    "    print('gen inited')\n",
    "    np_classes = np.load('../input/classes.npy')\n",
    "    cat2id = {cat.replace(' ', '_'):k for k, cat in enumerate(np_classes)}\n",
    "\n",
    "    files = glob.glob('../input/train_raw/*.csv')\n",
    "\n",
    "    readers = []\n",
    "    for f in files:\n",
    "        readers.append(pd.read_csv(f, chunksize=1))\n",
    "        \n",
    "    while True:\n",
    "        x = np.zeros((batchsize, STROKE_COUNT, 10), dtype=np.int32)\n",
    "        y = np.zeros(batchsize, dtype=np.uint32)\n",
    "        for i in range(batchsize):\n",
    "            idx = random.randint(0, len(readers) - 1)\n",
    "            line = next(readers[idx])\n",
    "#             print(line)\n",
    "            x[i, ...] = _stack_it10(line['drawing'].values[0])\n",
    "            id = cat2id[line['word'].values[0].replace(' ', '_')]\n",
    "            y[i] = id\n",
    "            \n",
    "        y = keras.utils.to_categorical(y, num_classes=NCATS)\n",
    "        yield x, y\n",
    "\n",
    "def df_to_image_array_xd(df):\n",
    "    df['drawing'] = df['drawing'].map(_stack_it10)\n",
    "    x2 = np.stack(df['drawing'], 0)\n",
    "    return x2"
   ]
  },
  {
   "cell_type": "code",
   "execution_count": 4,
   "metadata": {},
   "outputs": [
    {
     "name": "stdout",
     "output_type": "stream",
     "text": [
      "lstm_raw_conv128_units512_layer3_dropout0.2_feats9_noconvdrop2\n"
     ]
    }
   ],
   "source": [
    "STROKE_COUNT = 500\n",
    "NCATS = 340\n",
    "TOT = 46613580 - 340000\n",
    "EPOCHS = 70\n",
    "batchsize = 128\n",
    "STEPS = TOT / EPOCHS / batchsize \n",
    "\n",
    "conv_filters = 128\n",
    "lstm_units = 512\n",
    "lstm_cnt = 3\n",
    "dropout = 0.2\n",
    "\n",
    "model_prefix = 'lstm_raw_conv{}_units{}_layer{}_dropout{}_feats9_noconvdrop2'.format(conv_filters, lstm_units, lstm_cnt, dropout)\n",
    "print(model_prefix)\n",
    "check_path = 'models/best_{}.hdf5'.format(model_prefix)"
   ]
  },
  {
   "cell_type": "code",
   "execution_count": 5,
   "metadata": {},
   "outputs": [],
   "source": [
    "# val_df = pd.read_csv('../input/valid_raw.csv', nrows=10)\n",
    "# test = _stack_it10(val_df.iloc[1]['drawing'])\n",
    "# test[:10]"
   ]
  },
  {
   "cell_type": "code",
   "execution_count": null,
   "metadata": {},
   "outputs": [],
   "source": []
  },
  {
   "cell_type": "code",
   "execution_count": 6,
   "metadata": {},
   "outputs": [],
   "source": [
    "# test_gen = image_generator_xd(4)\n",
    "# x, y = next(test_gen)"
   ]
  },
  {
   "cell_type": "code",
   "execution_count": 7,
   "metadata": {},
   "outputs": [
    {
     "name": "stdout",
     "output_type": "stream",
     "text": [
      "return_sequences True\n",
      "return_sequences True\n",
      "_________________________________________________________________\n",
      "Layer (type)                 Output Shape              Param #   \n",
      "=================================================================\n",
      "batch_normalization_1 (Batch (None, None, 10)          40        \n",
      "_________________________________________________________________\n",
      "conv1d_1 (Conv1D)            (None, None, 128)         32128     \n",
      "_________________________________________________________________\n",
      "conv1d_2 (Conv1D)            (None, None, 256)         819456    \n",
      "_________________________________________________________________\n",
      "conv1d_3 (Conv1D)            (None, None, 512)         1966592   \n",
      "_________________________________________________________________\n",
      "bidirectional_1 (Bidirection (None, None, 1024)        4202496   \n",
      "_________________________________________________________________\n",
      "bidirectional_2 (Bidirection (None, None, 1024)        6299648   \n",
      "_________________________________________________________________\n",
      "bidirectional_3 (Bidirection (None, 1024)              6299648   \n",
      "_________________________________________________________________\n",
      "dense_1 (Dense)              (None, 512)               524800    \n",
      "_________________________________________________________________\n",
      "dropout_1 (Dropout)          (None, 512)               0         \n",
      "_________________________________________________________________\n",
      "dense_2 (Dense)              (None, 340)               174420    \n",
      "=================================================================\n",
      "Total params: 20,319,228\n",
      "Trainable params: 20,319,208\n",
      "Non-trainable params: 20\n",
      "_________________________________________________________________\n"
     ]
    }
   ],
   "source": [
    "from keras.models import Sequential\n",
    "from keras.layers import BatchNormalization, Conv1D, Dense, Dropout, Bidirectional\n",
    "from keras.layers import CuDNNLSTM\n",
    "import keras.backend as K\n",
    "K.clear_session()\n",
    "#if len(get_available_gpus())>0:\n",
    "    # https://twitter.com/fchollet/status/918170264608817152?lang=en\n",
    "#    from keras.layers import CuDNNLSTM as LSTM # this one is about 3x faster on GPU instances\n",
    "stroke_read_model = Sequential()\n",
    "stroke_read_model.add(BatchNormalization(input_shape = (None,)+(10,)))\n",
    "# filter count and length are taken from the script https://github.com/tensorflow/models/blob/master/tutorials/rnn/quickdraw/train_model.py\n",
    "stroke_read_model.add(Conv1D(conv_filters, (25,), activation = 'relu'))\n",
    "# stroke_read_model.add(Dropout(dropout))\n",
    "stroke_read_model.add(Conv1D(conv_filters*2, (25,), activation = 'relu'))\n",
    "# stroke_read_model.add(Dropout(dropout))\n",
    "stroke_read_model.add(Conv1D(conv_filters*4, (15,), activation = 'relu'))\n",
    "# stroke_read_model.add(Dropout(dropout))\n",
    "for i in range(lstm_cnt - 1):\n",
    "    print('return_sequences', i != (lstm_cnt - 1))\n",
    "    stroke_read_model.add(Bidirectional(CuDNNLSTM(lstm_units, \n",
    "#                                              dropout = 0.3, \n",
    "#                                              recurrent_dropout= 0.3,  \n",
    "                                             return_sequences = True)))\n",
    "stroke_read_model.add(Bidirectional(CuDNNLSTM(lstm_units, \n",
    "#                                              dropout = 0.3, \n",
    "#                                              recurrent_dropout= 0.3,  \n",
    "                                             return_sequences = False)))\n",
    "                                    \n",
    "stroke_read_model.add(Dense(512, activation = 'relu'))\n",
    "stroke_read_model.add(Dropout(dropout))\n",
    "stroke_read_model.add(Dense(NCATS, activation = 'softmax'))\n",
    "stroke_read_model.compile(optimizer = Adam(lr=0.002), \n",
    "                          loss = 'categorical_crossentropy', \n",
    "                          metrics = ['categorical_accuracy', top_3_accuracy])\n",
    "stroke_read_model.summary()"
   ]
  },
  {
   "cell_type": "code",
   "execution_count": 8,
   "metadata": {},
   "outputs": [],
   "source": [
    "train_datagen = image_generator_xd(batchsize=batchsize)"
   ]
  },
  {
   "cell_type": "code",
   "execution_count": 9,
   "metadata": {},
   "outputs": [],
   "source": [
    "\n",
    "val_df = pd.read_csv('../input/valid_raw.csv')\n",
    "x_val = df_to_image_array_xd(val_df)\n",
    "\n",
    "np_classes = np.load('../input/classes.npy')\n",
    "cat2id = {cat.replace(' ', '_'):k for k, cat in enumerate(np_classes)}\n",
    "val_df.word = val_df.word.apply(lambda x: cat2id[x.replace(' ', '_')])\n",
    "y_val = keras.utils.to_categorical(val_df.word, num_classes=NCATS)"
   ]
  },
  {
   "cell_type": "code",
   "execution_count": 10,
   "metadata": {},
   "outputs": [
    {
     "name": "stderr",
     "output_type": "stream",
     "text": [
      "/home/kownse/anaconda3/lib/python3.6/site-packages/keras/callbacks.py:999: UserWarning: `epsilon` argument is deprecated and will be removed, use `min_delta` instead.\n",
      "  warnings.warn('`epsilon` argument is deprecated and '\n"
     ]
    }
   ],
   "source": [
    "\n",
    "\n",
    "checkpoint = ModelCheckpoint(check_path, monitor='val_categorical_accuracy', verbose=1, \n",
    "                             save_best_only=True, mode='max', save_weights_only = True)\n",
    "reduceLROnPlat = ReduceLROnPlateau(monitor='val_categorical_accuracy', factor=0.5, patience=5, \n",
    "                                   verbose=1, mode='max', epsilon=0.0001, cooldown=5, min_lr=0.0001)\n",
    "early = EarlyStopping(monitor=\"val_categorical_accuracy\", \n",
    "                      mode=\"max\", \n",
    "                      patience=20) \n",
    "board =TensorBoard(log_dir='./log/{}'.format(model_prefix))\n",
    "callbacks_list = [checkpoint, early, reduceLROnPlat, board]"
   ]
  },
  {
   "cell_type": "code",
   "execution_count": null,
   "metadata": {},
   "outputs": [
    {
     "name": "stdout",
     "output_type": "stream",
     "text": [
      "gen inited\n",
      "Epoch 1/70\n",
      " 891/5164 [====>.........................] - ETA: 1:21:51 - loss: 5.8308 - categorical_accuracy: 0.0028 - top_3_accuracy: 0.0086"
     ]
    }
   ],
   "source": [
    "hist = stroke_read_model.fit_generator(train_datagen, steps_per_epoch=STEPS, epochs=EPOCHS, verbose=1,\n",
    "                        validation_data=(x_val, y_val),\n",
    "                      callbacks = callbacks_list) "
   ]
  },
  {
   "cell_type": "code",
   "execution_count": null,
   "metadata": {},
   "outputs": [],
   "source": [
    "test = pd.read_csv('../input/test_raw.csv')\n",
    "x_test = df_to_image_array_xd(test)\n",
    "print(test.shape, x_test.shape)\n",
    "print('Test array memory {:.2f} GB'.format(x_test.nbytes / 1024.**3 ))\n",
    "\n",
    "np_classes = np.load('../input/classes.npy')\n",
    "id2cat = {k: cat.replace(' ', '_') for k, cat in enumerate(np_classes)}"
   ]
  },
  {
   "cell_type": "code",
   "execution_count": null,
   "metadata": {},
   "outputs": [],
   "source": [
    " def doodle_predict(model, model_path, x_test):\n",
    "    model.load_weights(model_path)\n",
    "\n",
    "    test_predictions = model.predict(x_test, batch_size=512, verbose=1)\n",
    "    top3 = preds2catids(test_predictions)\n",
    "    top3cats = top3.replace(id2cat)\n",
    "    test['word'] = top3cats['a'] + ' ' + top3cats['b'] + ' ' + top3cats['c']\n",
    "    submission = test[['key_id', 'word']]\n",
    "\n",
    "    import kaggle_util\n",
    "    kaggle_util.save_result(submission,  \n",
    "                            '../result/{}.csv'.format(model_prefix), \n",
    "                            'quickdraw-doodle-recognition', \n",
    "                            send=True, index=False) "
   ]
  },
  {
   "cell_type": "code",
   "execution_count": null,
   "metadata": {},
   "outputs": [],
   "source": [
    "doodle_predict(stroke_read_model, check_path, x_test)"
   ]
  },
  {
   "cell_type": "code",
   "execution_count": null,
   "metadata": {},
   "outputs": [],
   "source": [
    "test_predictions = stroke_read_model.predict(x_test, batch_size=512, verbose=1)\n",
    "path = '../result/pre_{}.npy'.format(model_prefix)\n",
    "np.save(path, test_predictions)"
   ]
  },
  {
   "cell_type": "code",
   "execution_count": null,
   "metadata": {},
   "outputs": [],
   "source": []
  }
 ],
 "metadata": {
  "kernelspec": {
   "display_name": "Python 3",
   "language": "python",
   "name": "python3"
  },
  "language_info": {
   "codemirror_mode": {
    "name": "ipython",
    "version": 3
   },
   "file_extension": ".py",
   "mimetype": "text/x-python",
   "name": "python",
   "nbconvert_exporter": "python",
   "pygments_lexer": "ipython3",
   "version": "3.6.5"
  }
 },
 "nbformat": 4,
 "nbformat_minor": 2
}
