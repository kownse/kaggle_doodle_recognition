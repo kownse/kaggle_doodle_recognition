{
 "cells": [
  {
   "cell_type": "code",
   "execution_count": 1,
   "metadata": {},
   "outputs": [
    {
     "name": "stderr",
     "output_type": "stream",
     "text": [
      "Using TensorFlow backend.\n"
     ]
    }
   ],
   "source": [
    "import os\n",
    "# os.environ[\"CUDA_VISIBLE_DEVICES\"]=\"0\" \n",
    "import ast\n",
    "import datetime as dt\n",
    "import matplotlib.pyplot as plt\n",
    "import seaborn as sns\n",
    "import cv2\n",
    "import pandas as pd\n",
    "import numpy as np\n",
    "import tensorflow as tf\n",
    "import keras\n",
    "from keras import backend as K\n",
    "from keras import Model\n",
    "from keras import optimizers\n",
    "from keras.legacy import interfaces\n",
    "from keras.utils.generic_utils import get_custom_objects\n",
    "from keras.layers import Conv2D, MaxPooling2D\n",
    "from keras.layers import Dense, Dropout, Flatten, Activation, GlobalAveragePooling2D, BatchNormalization\n",
    "from keras.metrics import categorical_accuracy, top_k_categorical_accuracy, categorical_crossentropy\n",
    "from keras.models import Sequential\n",
    "from keras.callbacks import EarlyStopping, ReduceLROnPlateau, ModelCheckpoint, TensorBoard\n",
    "from keras.optimizers import Adam\n",
    "from keras.utils.training_utils import multi_gpu_model\n",
    "\n",
    "from keras.optimizers import SGD\n",
    "from keras import callbacks\n",
    "from data import *\n",
    "from keras_helper import *\n",
    "\n",
    "from keras.applications import Xception\n",
    "from keras.applications.xception import preprocess_input"
   ]
  },
  {
   "cell_type": "code",
   "execution_count": 2,
   "metadata": {},
   "outputs": [],
   "source": [
    "#TOT = 35534421\n",
    "TOT = 46613580\n",
    "EPOCHS = 50\n",
    "size = 71\n",
    "batchsize = 680\n",
    "lw = 6\n",
    "channel = 3\n",
    "STEPS = TOT / EPOCHS / batchsize\n",
    "NCATS = 340\n",
    "mixup = 0\n",
    "center = False\n",
    "optimizer = 'adam'\n",
    "cb = 'raw'"
   ]
  },
  {
   "cell_type": "code",
   "execution_count": 3,
   "metadata": {},
   "outputs": [
    {
     "name": "stdout",
     "output_type": "stream",
     "text": [
      "__________________________________________________________________________________________________\n",
      "Layer (type)                    Output Shape         Param #     Connected to                     \n",
      "==================================================================================================\n",
      "input_1 (InputLayer)            (None, None, None, 3 0                                            \n",
      "__________________________________________________________________________________________________\n",
      "lambda_1 (Lambda)               (None, None, None, 3 0           input_1[0][0]                    \n",
      "__________________________________________________________________________________________________\n",
      "lambda_2 (Lambda)               (None, None, None, 3 0           input_1[0][0]                    \n",
      "__________________________________________________________________________________________________\n",
      "xception (Model)                (None, 340)          21558140    lambda_1[0][0]                   \n",
      "                                                                 lambda_2[0][0]                   \n",
      "__________________________________________________________________________________________________\n",
      "predictions (Concatenate)       (None, 340)          0           xception[1][0]                   \n",
      "                                                                 xception[2][0]                   \n",
      "==================================================================================================\n",
      "Total params: 21,558,140\n",
      "Trainable params: 21,503,612\n",
      "Non-trainable params: 54,528\n",
      "__________________________________________________________________________________________________\n",
      "None\n"
     ]
    }
   ],
   "source": [
    "K.clear_session()\n",
    "# model = Xception(input_shape=(size, size, channel), weights=None, classes=NCATS)\n",
    "model = Xception(input_shape=(None,None,3), weights=None, classes=NCATS)\n",
    "\n",
    "if optimizer == 'sgd':\n",
    "    opt = SGD(0.002, momentum=0.9, nesterov=True)\n",
    "    opt = NormalizedOptimizer(opt, normalization='l2')\n",
    "elif optimizer == 'adam':\n",
    "    opt = Adam(lr=0.002)\n",
    "\n",
    "model = multi_gpu_model(model, gpus=2)\n",
    "\n",
    "# model.load_weights('models/xception71_parts2_lw6_balance_0_adam_color.model')\n",
    "\n",
    "model.compile(optimizer=opt, loss='categorical_crossentropy',\n",
    "              metrics=[categorical_crossentropy, categorical_accuracy, top_3_accuracy])\n",
    "print(model.summary())"
   ]
  },
  {
   "cell_type": "code",
   "execution_count": 5,
   "metadata": {},
   "outputs": [
    {
     "name": "stdout",
     "output_type": "stream",
     "text": [
      "x shape (34000, 71, 71, 3) x max 255\n"
     ]
    }
   ],
   "source": [
    "valid_df = pd.read_csv('../input/valid.csv')\n",
    "x_valid = df_to_image_array_xd_parts_threshold(valid_df, size, lw=lw, preprocess_input=preprocess_input, \n",
    "                               channel=channel, center = center, detail_threshold = 5)\n",
    "y_valid = keras.utils.to_categorical(valid_df.word, num_classes=NCATS)"
   ]
  },
  {
   "cell_type": "code",
   "execution_count": 6,
   "metadata": {},
   "outputs": [
    {
     "name": "stdout",
     "output_type": "stream",
     "text": [
      "(34000, 71, 71, 3) (34000, 340)\n",
      "Validation array memory 1.92 GB\n"
     ]
    }
   ],
   "source": [
    "print(x_valid.shape, y_valid.shape)\n",
    "print('Validation array memory {:.2f} GB'.format(x_valid.nbytes / 1024.**3 ))"
   ]
  },
  {
   "cell_type": "code",
   "execution_count": 7,
   "metadata": {},
   "outputs": [],
   "source": [
    "train_datagen = image_generator_xd_parts_threshold(df_path = '../input/train_all.csv', \n",
    "                                   size=size, batchsize=batchsize, lw=lw, \n",
    "                                   preprocess_input=preprocess_input,\n",
    "                                   channel=channel, mixup=mixup, center=center,\n",
    "                                   detail_threshold = 5)"
   ]
  },
  {
   "cell_type": "code",
   "execution_count": 8,
   "metadata": {},
   "outputs": [
    {
     "name": "stdout",
     "output_type": "stream",
     "text": [
      "xception71_threshparts_lw6_balance_0_adam_color\n"
     ]
    }
   ],
   "source": [
    "model_prefix = 'xception{}_threshparts_lw{}_balance_{}_{}'.format(size, lw, mixup, optimizer, cb)\n",
    "if center:\n",
    "    model_prefix += '_center'\n",
    "if channel == 3:\n",
    "    model_prefix += '_color'\n",
    "print(model_prefix)\n",
    "check_path = \"./models/{}.model\".format(model_prefix)\n",
    "fold = 9\n",
    "if cb == 'raw':\n",
    "    callbks = [\n",
    "        ReduceLROnPlateau(monitor='val_top_3_accuracy', factor=0.5, patience=5,\n",
    "                          min_delta=0.005, mode='max', cooldown=3, verbose=1),\n",
    "        callbacks.ModelCheckpoint(check_path,\n",
    "                                    monitor='val_top_3_accuracy', \n",
    "                                    mode = 'max', \n",
    "                                  save_best_only=True, save_weights_only=True,\n",
    "                                  verbose=1),\n",
    "        callbacks.TensorBoard(log_dir='./log/{}'.format(model_prefix)),\n",
    "        EarlyStopping(monitor='val_top_3_accuracy', mode='max',patience=20, verbose=1)\n",
    "    ]\n",
    "elif cb == 'snap':\n",
    "    snapshot = SnapshotCallbackBuilder(nb_epochs=EPOCHS,\n",
    "                                       nb_snapshots=3,\n",
    "                                       size = size,\n",
    "                                       init_lr=1e-3, \n",
    "                                       fold=fold)\n",
    "\n",
    "    callbks = snapshot.get_callbacks(model_prefix = model_prefix)"
   ]
  },
  {
   "cell_type": "code",
   "execution_count": 9,
   "metadata": {},
   "outputs": [
    {
     "name": "stdout",
     "output_type": "stream",
     "text": [
      "Epoch 1/30\n",
      "2285/2284 [==============================] - 1383s 605ms/step - loss: 1.6619 - categorical_crossentropy: 1.6619 - categorical_accuracy: 0.6014 - top_3_accuracy: 0.7818 - val_loss: 1.3466 - val_categorical_crossentropy: 1.3466 - val_categorical_accuracy: 0.6629 - val_top_3_accuracy: 0.8426\n",
      "\n",
      "Epoch 00001: val_top_3_accuracy improved from -inf to 0.84256, saving model to ./models/xception71_threshparts_lw6_balance_0_adam_color.model\n",
      "Epoch 2/30\n",
      "2285/2284 [==============================] - 1399s 612ms/step - loss: 1.1411 - categorical_crossentropy: 1.1411 - categorical_accuracy: 0.7103 - top_3_accuracy: 0.8725 - val_loss: 1.1751 - val_categorical_crossentropy: 1.1751 - val_categorical_accuracy: 0.7031 - val_top_3_accuracy: 0.8670\n",
      "\n",
      "Epoch 00002: val_top_3_accuracy improved from 0.84256 to 0.86697, saving model to ./models/xception71_threshparts_lw6_balance_0_adam_color.model\n",
      "Epoch 3/30\n",
      "2285/2284 [==============================] - 1394s 610ms/step - loss: 1.0421 - categorical_crossentropy: 1.0421 - categorical_accuracy: 0.7335 - top_3_accuracy: 0.8873 - val_loss: 1.0716 - val_categorical_crossentropy: 1.0716 - val_categorical_accuracy: 0.7239 - val_top_3_accuracy: 0.8839\n",
      "\n",
      "Epoch 00003: val_top_3_accuracy improved from 0.86697 to 0.88388, saving model to ./models/xception71_threshparts_lw6_balance_0_adam_color.model\n",
      "Epoch 4/30\n",
      "2285/2284 [==============================] - 1383s 605ms/step - loss: 0.9853 - categorical_crossentropy: 0.9853 - categorical_accuracy: 0.7468 - top_3_accuracy: 0.8953 - val_loss: 1.0271 - val_categorical_crossentropy: 1.0271 - val_categorical_accuracy: 0.7370 - val_top_3_accuracy: 0.8888\n",
      "\n",
      "Epoch 00004: val_top_3_accuracy improved from 0.88388 to 0.88879, saving model to ./models/xception71_threshparts_lw6_balance_0_adam_color.model\n",
      "Epoch 5/30\n",
      "2285/2284 [==============================] - 1369s 599ms/step - loss: 0.9466 - categorical_crossentropy: 0.9466 - categorical_accuracy: 0.7563 - top_3_accuracy: 0.9009 - val_loss: 0.9762 - val_categorical_crossentropy: 0.9762 - val_categorical_accuracy: 0.7507 - val_top_3_accuracy: 0.8960\n",
      "\n",
      "Epoch 00005: val_top_3_accuracy improved from 0.88879 to 0.89597, saving model to ./models/xception71_threshparts_lw6_balance_0_adam_color.model\n",
      "Epoch 6/30\n",
      "2285/2284 [==============================] - 1370s 599ms/step - loss: 0.9201 - categorical_crossentropy: 0.9201 - categorical_accuracy: 0.7624 - top_3_accuracy: 0.9049 - val_loss: 0.9549 - val_categorical_crossentropy: 0.9549 - val_categorical_accuracy: 0.7531 - val_top_3_accuracy: 0.9002\n",
      "\n",
      "Epoch 00006: val_top_3_accuracy improved from 0.89597 to 0.90018, saving model to ./models/xception71_threshparts_lw6_balance_0_adam_color.model\n",
      "Epoch 7/30\n",
      "2285/2284 [==============================] - 1369s 599ms/step - loss: 0.8984 - categorical_crossentropy: 0.8984 - categorical_accuracy: 0.7674 - top_3_accuracy: 0.9076 - val_loss: 0.9306 - val_categorical_crossentropy: 0.9306 - val_categorical_accuracy: 0.7601 - val_top_3_accuracy: 0.9030\n",
      "\n",
      "Epoch 00007: val_top_3_accuracy improved from 0.90018 to 0.90300, saving model to ./models/xception71_threshparts_lw6_balance_0_adam_color.model\n",
      "Epoch 8/30\n",
      "2285/2284 [==============================] - 1370s 600ms/step - loss: 0.8797 - categorical_crossentropy: 0.8797 - categorical_accuracy: 0.7721 - top_3_accuracy: 0.9102 - val_loss: 0.9172 - val_categorical_crossentropy: 0.9172 - val_categorical_accuracy: 0.7634 - val_top_3_accuracy: 0.9038\n",
      "\n",
      "Epoch 00008: val_top_3_accuracy improved from 0.90300 to 0.90382, saving model to ./models/xception71_threshparts_lw6_balance_0_adam_color.model\n",
      "Epoch 9/30\n",
      "2285/2284 [==============================] - 1368s 599ms/step - loss: 0.8610 - categorical_crossentropy: 0.8610 - categorical_accuracy: 0.7763 - top_3_accuracy: 0.9126 - val_loss: 0.8863 - val_categorical_crossentropy: 0.8863 - val_categorical_accuracy: 0.7720 - val_top_3_accuracy: 0.9094\n",
      "\n",
      "Epoch 00009: val_top_3_accuracy improved from 0.90382 to 0.90938, saving model to ./models/xception71_threshparts_lw6_balance_0_adam_color.model\n",
      "Epoch 10/30\n",
      "2285/2284 [==============================] - 1371s 600ms/step - loss: 0.8517 - categorical_crossentropy: 0.8517 - categorical_accuracy: 0.7791 - top_3_accuracy: 0.9139 - val_loss: 0.8894 - val_categorical_crossentropy: 0.8894 - val_categorical_accuracy: 0.7723 - val_top_3_accuracy: 0.9091\n",
      "\n",
      "Epoch 00010: val_top_3_accuracy did not improve from 0.90938\n",
      "Epoch 11/30\n",
      "2285/2284 [==============================] - 1369s 599ms/step - loss: 0.8390 - categorical_crossentropy: 0.8390 - categorical_accuracy: 0.7821 - top_3_accuracy: 0.9156 - val_loss: 0.8667 - val_categorical_crossentropy: 0.8667 - val_categorical_accuracy: 0.7747 - val_top_3_accuracy: 0.9116\n",
      "\n",
      "Epoch 00011: val_top_3_accuracy improved from 0.90938 to 0.91159, saving model to ./models/xception71_threshparts_lw6_balance_0_adam_color.model\n",
      "Epoch 12/30\n",
      "2285/2284 [==============================] - 1370s 599ms/step - loss: 0.8272 - categorical_crossentropy: 0.8272 - categorical_accuracy: 0.7846 - top_3_accuracy: 0.9171 - val_loss: 0.8492 - val_categorical_crossentropy: 0.8492 - val_categorical_accuracy: 0.7792 - val_top_3_accuracy: 0.9141\n",
      "\n",
      "Epoch 00012: val_top_3_accuracy improved from 0.91159 to 0.91409, saving model to ./models/xception71_threshparts_lw6_balance_0_adam_color.model\n",
      "Epoch 13/30\n",
      "2285/2284 [==============================] - 1371s 600ms/step - loss: 0.8140 - categorical_crossentropy: 0.8140 - categorical_accuracy: 0.7875 - top_3_accuracy: 0.9191 - val_loss: 0.8468 - val_categorical_crossentropy: 0.8468 - val_categorical_accuracy: 0.7795 - val_top_3_accuracy: 0.9154\n",
      "\n",
      "Epoch 00013: val_top_3_accuracy improved from 0.91409 to 0.91541, saving model to ./models/xception71_threshparts_lw6_balance_0_adam_color.model\n",
      "Epoch 14/30\n",
      "2285/2284 [==============================] - 1369s 599ms/step - loss: 0.8113 - categorical_crossentropy: 0.8113 - categorical_accuracy: 0.7884 - top_3_accuracy: 0.9193 - val_loss: 0.8393 - val_categorical_crossentropy: 0.8393 - val_categorical_accuracy: 0.7833 - val_top_3_accuracy: 0.9152\n",
      "\n",
      "Epoch 00014: val_top_3_accuracy did not improve from 0.91541\n",
      "Epoch 15/30\n",
      "2285/2284 [==============================] - 1369s 599ms/step - loss: 0.8012 - categorical_crossentropy: 0.8012 - categorical_accuracy: 0.7909 - top_3_accuracy: 0.9205 - val_loss: 0.8138 - val_categorical_crossentropy: 0.8138 - val_categorical_accuracy: 0.7864 - val_top_3_accuracy: 0.9197\n",
      "\n",
      "Epoch 00015: val_top_3_accuracy improved from 0.91541 to 0.91968, saving model to ./models/xception71_threshparts_lw6_balance_0_adam_color.model\n",
      "Epoch 16/30\n",
      "2285/2284 [==============================] - 1370s 599ms/step - loss: 0.7945 - categorical_crossentropy: 0.7945 - categorical_accuracy: 0.7924 - top_3_accuracy: 0.9213 - val_loss: 0.8168 - val_categorical_crossentropy: 0.8168 - val_categorical_accuracy: 0.7860 - val_top_3_accuracy: 0.9180\n",
      "\n",
      "Epoch 00016: val_top_3_accuracy did not improve from 0.91968\n",
      "Epoch 17/30\n",
      "2285/2284 [==============================] - 1370s 600ms/step - loss: 0.7877 - categorical_crossentropy: 0.7877 - categorical_accuracy: 0.7946 - top_3_accuracy: 0.9224 - val_loss: 0.8142 - val_categorical_crossentropy: 0.8142 - val_categorical_accuracy: 0.7888 - val_top_3_accuracy: 0.9193\n",
      "\n",
      "Epoch 00017: val_top_3_accuracy did not improve from 0.91968\n",
      "Epoch 18/30\n",
      "2285/2284 [==============================] - 1371s 600ms/step - loss: 0.7792 - categorical_crossentropy: 0.7792 - categorical_accuracy: 0.7964 - top_3_accuracy: 0.9233 - val_loss: 0.7927 - val_categorical_crossentropy: 0.7927 - val_categorical_accuracy: 0.7932 - val_top_3_accuracy: 0.9217\n",
      "\n",
      "Epoch 00018: val_top_3_accuracy improved from 0.91968 to 0.92171, saving model to ./models/xception71_threshparts_lw6_balance_0_adam_color.model\n",
      "Epoch 19/30\n",
      "2285/2284 [==============================] - 1370s 600ms/step - loss: 0.7768 - categorical_crossentropy: 0.7768 - categorical_accuracy: 0.7966 - top_3_accuracy: 0.9238 - val_loss: 0.7956 - val_categorical_crossentropy: 0.7956 - val_categorical_accuracy: 0.7926 - val_top_3_accuracy: 0.9213\n",
      "\n",
      "Epoch 00019: val_top_3_accuracy did not improve from 0.92171\n",
      "Epoch 20/30\n"
     ]
    },
    {
     "name": "stdout",
     "output_type": "stream",
     "text": [
      "2285/2284 [==============================] - 1370s 599ms/step - loss: 0.7649 - categorical_crossentropy: 0.7649 - categorical_accuracy: 0.7993 - top_3_accuracy: 0.9253 - val_loss: 0.8005 - val_categorical_crossentropy: 0.8005 - val_categorical_accuracy: 0.7911 - val_top_3_accuracy: 0.9217\n",
      "\n",
      "Epoch 00020: val_top_3_accuracy did not improve from 0.92171\n",
      "Epoch 21/30\n",
      "2285/2284 [==============================] - 1369s 599ms/step - loss: 0.7641 - categorical_crossentropy: 0.7641 - categorical_accuracy: 0.7995 - top_3_accuracy: 0.9253 - val_loss: 0.8307 - val_categorical_crossentropy: 0.8307 - val_categorical_accuracy: 0.7832 - val_top_3_accuracy: 0.9171\n",
      "\n",
      "Epoch 00021: val_top_3_accuracy did not improve from 0.92171\n",
      "Epoch 22/30\n",
      "2285/2284 [==============================] - 1369s 599ms/step - loss: 0.7610 - categorical_crossentropy: 0.7610 - categorical_accuracy: 0.8004 - top_3_accuracy: 0.9261 - val_loss: 0.7864 - val_categorical_crossentropy: 0.7864 - val_categorical_accuracy: 0.7958 - val_top_3_accuracy: 0.9216\n",
      "\n",
      "Epoch 00022: val_top_3_accuracy did not improve from 0.92171\n",
      "Epoch 23/30\n",
      "2285/2284 [==============================] - 1370s 599ms/step - loss: 0.7559 - categorical_crossentropy: 0.7559 - categorical_accuracy: 0.8021 - top_3_accuracy: 0.9264 - val_loss: 0.7744 - val_categorical_crossentropy: 0.7744 - val_categorical_accuracy: 0.7985 - val_top_3_accuracy: 0.9244\n",
      "\n",
      "Epoch 00023: ReduceLROnPlateau reducing learning rate to 0.0001250000059371814.\n",
      "\n",
      "Epoch 00023: val_top_3_accuracy improved from 0.92171 to 0.92444, saving model to ./models/xception71_threshparts_lw6_balance_0_adam_color.model\n",
      "Epoch 24/30\n",
      "2285/2284 [==============================] - 1368s 599ms/step - loss: 0.7270 - categorical_crossentropy: 0.7270 - categorical_accuracy: 0.8093 - top_3_accuracy: 0.9297 - val_loss: 0.7272 - val_categorical_crossentropy: 0.7272 - val_categorical_accuracy: 0.8086 - val_top_3_accuracy: 0.9304\n",
      "\n",
      "Epoch 00024: val_top_3_accuracy improved from 0.92444 to 0.93035, saving model to ./models/xception71_threshparts_lw6_balance_0_adam_color.model\n",
      "Epoch 25/30\n",
      "2285/2284 [==============================] - 1368s 599ms/step - loss: 0.7186 - categorical_crossentropy: 0.7186 - categorical_accuracy: 0.8117 - top_3_accuracy: 0.9311 - val_loss: 0.7253 - val_categorical_crossentropy: 0.7253 - val_categorical_accuracy: 0.8099 - val_top_3_accuracy: 0.9309\n",
      "\n",
      "Epoch 00025: val_top_3_accuracy improved from 0.93035 to 0.93091, saving model to ./models/xception71_threshparts_lw6_balance_0_adam_color.model\n",
      "Epoch 26/30\n",
      "2285/2284 [==============================] - 1368s 599ms/step - loss: 0.7154 - categorical_crossentropy: 0.7154 - categorical_accuracy: 0.8124 - top_3_accuracy: 0.9314 - val_loss: 0.7198 - val_categorical_crossentropy: 0.7198 - val_categorical_accuracy: 0.8118 - val_top_3_accuracy: 0.9316\n",
      "\n",
      "Epoch 00026: val_top_3_accuracy improved from 0.93091 to 0.93165, saving model to ./models/xception71_threshparts_lw6_balance_0_adam_color.model\n",
      "Epoch 27/30\n",
      " 583/2284 [======>.......................] - ETA: 16:50 - loss: 0.7161 - categorical_crossentropy: 0.7161 - categorical_accuracy: 0.8118 - top_3_accuracy: 0.9312"
     ]
    },
    {
     "ename": "KeyboardInterrupt",
     "evalue": "",
     "output_type": "error",
     "traceback": [
      "\u001b[0;31m---------------------------------------------------------------------------\u001b[0m",
      "\u001b[0;31mKeyboardInterrupt\u001b[0m                         Traceback (most recent call last)",
      "\u001b[0;32m<ipython-input-9-d04c2be1b8cf>\u001b[0m in \u001b[0;36m<module>\u001b[0;34m()\u001b[0m\n\u001b[1;32m      3\u001b[0m     \u001b[0mtrain_datagen\u001b[0m\u001b[0;34m,\u001b[0m \u001b[0msteps_per_epoch\u001b[0m\u001b[0;34m=\u001b[0m\u001b[0mSTEPS\u001b[0m\u001b[0;34m,\u001b[0m \u001b[0mepochs\u001b[0m\u001b[0;34m=\u001b[0m\u001b[0mEPOCHS\u001b[0m\u001b[0;34m,\u001b[0m \u001b[0mverbose\u001b[0m\u001b[0;34m=\u001b[0m\u001b[0;36m1\u001b[0m\u001b[0;34m,\u001b[0m\u001b[0;34m\u001b[0m\u001b[0m\n\u001b[1;32m      4\u001b[0m     \u001b[0mvalidation_data\u001b[0m\u001b[0;34m=\u001b[0m\u001b[0;34m(\u001b[0m\u001b[0mx_valid\u001b[0m\u001b[0;34m,\u001b[0m \u001b[0my_valid\u001b[0m\u001b[0;34m)\u001b[0m\u001b[0;34m,\u001b[0m\u001b[0;34m\u001b[0m\u001b[0m\n\u001b[0;32m----> 5\u001b[0;31m     \u001b[0mcallbacks\u001b[0m \u001b[0;34m=\u001b[0m \u001b[0mcallbks\u001b[0m\u001b[0;34m\u001b[0m\u001b[0m\n\u001b[0m\u001b[1;32m      6\u001b[0m )\n",
      "\u001b[0;32m~/anaconda3/lib/python3.6/site-packages/keras/legacy/interfaces.py\u001b[0m in \u001b[0;36mwrapper\u001b[0;34m(*args, **kwargs)\u001b[0m\n\u001b[1;32m     89\u001b[0m                 warnings.warn('Update your `' + object_name +\n\u001b[1;32m     90\u001b[0m                               '` call to the Keras 2 API: ' + signature, stacklevel=2)\n\u001b[0;32m---> 91\u001b[0;31m             \u001b[0;32mreturn\u001b[0m \u001b[0mfunc\u001b[0m\u001b[0;34m(\u001b[0m\u001b[0;34m*\u001b[0m\u001b[0margs\u001b[0m\u001b[0;34m,\u001b[0m \u001b[0;34m**\u001b[0m\u001b[0mkwargs\u001b[0m\u001b[0;34m)\u001b[0m\u001b[0;34m\u001b[0m\u001b[0m\n\u001b[0m\u001b[1;32m     92\u001b[0m         \u001b[0mwrapper\u001b[0m\u001b[0;34m.\u001b[0m\u001b[0m_original_function\u001b[0m \u001b[0;34m=\u001b[0m \u001b[0mfunc\u001b[0m\u001b[0;34m\u001b[0m\u001b[0m\n\u001b[1;32m     93\u001b[0m         \u001b[0;32mreturn\u001b[0m \u001b[0mwrapper\u001b[0m\u001b[0;34m\u001b[0m\u001b[0m\n",
      "\u001b[0;32m~/anaconda3/lib/python3.6/site-packages/keras/engine/training.py\u001b[0m in \u001b[0;36mfit_generator\u001b[0;34m(self, generator, steps_per_epoch, epochs, verbose, callbacks, validation_data, validation_steps, class_weight, max_queue_size, workers, use_multiprocessing, shuffle, initial_epoch)\u001b[0m\n\u001b[1;32m   1413\u001b[0m             \u001b[0muse_multiprocessing\u001b[0m\u001b[0;34m=\u001b[0m\u001b[0muse_multiprocessing\u001b[0m\u001b[0;34m,\u001b[0m\u001b[0;34m\u001b[0m\u001b[0m\n\u001b[1;32m   1414\u001b[0m             \u001b[0mshuffle\u001b[0m\u001b[0;34m=\u001b[0m\u001b[0mshuffle\u001b[0m\u001b[0;34m,\u001b[0m\u001b[0;34m\u001b[0m\u001b[0m\n\u001b[0;32m-> 1415\u001b[0;31m             initial_epoch=initial_epoch)\n\u001b[0m\u001b[1;32m   1416\u001b[0m \u001b[0;34m\u001b[0m\u001b[0m\n\u001b[1;32m   1417\u001b[0m     \u001b[0;34m@\u001b[0m\u001b[0minterfaces\u001b[0m\u001b[0;34m.\u001b[0m\u001b[0mlegacy_generator_methods_support\u001b[0m\u001b[0;34m\u001b[0m\u001b[0m\n",
      "\u001b[0;32m~/anaconda3/lib/python3.6/site-packages/keras/engine/training_generator.py\u001b[0m in \u001b[0;36mfit_generator\u001b[0;34m(model, generator, steps_per_epoch, epochs, verbose, callbacks, validation_data, validation_steps, class_weight, max_queue_size, workers, use_multiprocessing, shuffle, initial_epoch)\u001b[0m\n\u001b[1;32m    211\u001b[0m                 outs = model.train_on_batch(x, y,\n\u001b[1;32m    212\u001b[0m                                             \u001b[0msample_weight\u001b[0m\u001b[0;34m=\u001b[0m\u001b[0msample_weight\u001b[0m\u001b[0;34m,\u001b[0m\u001b[0;34m\u001b[0m\u001b[0m\n\u001b[0;32m--> 213\u001b[0;31m                                             class_weight=class_weight)\n\u001b[0m\u001b[1;32m    214\u001b[0m \u001b[0;34m\u001b[0m\u001b[0m\n\u001b[1;32m    215\u001b[0m                 \u001b[0mouts\u001b[0m \u001b[0;34m=\u001b[0m \u001b[0mto_list\u001b[0m\u001b[0;34m(\u001b[0m\u001b[0mouts\u001b[0m\u001b[0;34m)\u001b[0m\u001b[0;34m\u001b[0m\u001b[0m\n",
      "\u001b[0;32m~/anaconda3/lib/python3.6/site-packages/keras/engine/training.py\u001b[0m in \u001b[0;36mtrain_on_batch\u001b[0;34m(self, x, y, sample_weight, class_weight)\u001b[0m\n\u001b[1;32m   1213\u001b[0m             \u001b[0mins\u001b[0m \u001b[0;34m=\u001b[0m \u001b[0mx\u001b[0m \u001b[0;34m+\u001b[0m \u001b[0my\u001b[0m \u001b[0;34m+\u001b[0m \u001b[0msample_weights\u001b[0m\u001b[0;34m\u001b[0m\u001b[0m\n\u001b[1;32m   1214\u001b[0m         \u001b[0mself\u001b[0m\u001b[0;34m.\u001b[0m\u001b[0m_make_train_function\u001b[0m\u001b[0;34m(\u001b[0m\u001b[0;34m)\u001b[0m\u001b[0;34m\u001b[0m\u001b[0m\n\u001b[0;32m-> 1215\u001b[0;31m         \u001b[0moutputs\u001b[0m \u001b[0;34m=\u001b[0m \u001b[0mself\u001b[0m\u001b[0;34m.\u001b[0m\u001b[0mtrain_function\u001b[0m\u001b[0;34m(\u001b[0m\u001b[0mins\u001b[0m\u001b[0;34m)\u001b[0m\u001b[0;34m\u001b[0m\u001b[0m\n\u001b[0m\u001b[1;32m   1216\u001b[0m         \u001b[0;32mreturn\u001b[0m \u001b[0munpack_singleton\u001b[0m\u001b[0;34m(\u001b[0m\u001b[0moutputs\u001b[0m\u001b[0;34m)\u001b[0m\u001b[0;34m\u001b[0m\u001b[0m\n\u001b[1;32m   1217\u001b[0m \u001b[0;34m\u001b[0m\u001b[0m\n",
      "\u001b[0;32m~/anaconda3/lib/python3.6/site-packages/keras/backend/tensorflow_backend.py\u001b[0m in \u001b[0;36m__call__\u001b[0;34m(self, inputs)\u001b[0m\n\u001b[1;32m   2664\u001b[0m                 \u001b[0;32mreturn\u001b[0m \u001b[0mself\u001b[0m\u001b[0;34m.\u001b[0m\u001b[0m_legacy_call\u001b[0m\u001b[0;34m(\u001b[0m\u001b[0minputs\u001b[0m\u001b[0;34m)\u001b[0m\u001b[0;34m\u001b[0m\u001b[0m\n\u001b[1;32m   2665\u001b[0m \u001b[0;34m\u001b[0m\u001b[0m\n\u001b[0;32m-> 2666\u001b[0;31m             \u001b[0;32mreturn\u001b[0m \u001b[0mself\u001b[0m\u001b[0;34m.\u001b[0m\u001b[0m_call\u001b[0m\u001b[0;34m(\u001b[0m\u001b[0minputs\u001b[0m\u001b[0;34m)\u001b[0m\u001b[0;34m\u001b[0m\u001b[0m\n\u001b[0m\u001b[1;32m   2667\u001b[0m         \u001b[0;32melse\u001b[0m\u001b[0;34m:\u001b[0m\u001b[0;34m\u001b[0m\u001b[0m\n\u001b[1;32m   2668\u001b[0m             \u001b[0;32mif\u001b[0m \u001b[0mpy_any\u001b[0m\u001b[0;34m(\u001b[0m\u001b[0mis_tensor\u001b[0m\u001b[0;34m(\u001b[0m\u001b[0mx\u001b[0m\u001b[0;34m)\u001b[0m \u001b[0;32mfor\u001b[0m \u001b[0mx\u001b[0m \u001b[0;32min\u001b[0m \u001b[0minputs\u001b[0m\u001b[0;34m)\u001b[0m\u001b[0;34m:\u001b[0m\u001b[0;34m\u001b[0m\u001b[0m\n",
      "\u001b[0;32m~/anaconda3/lib/python3.6/site-packages/keras/backend/tensorflow_backend.py\u001b[0m in \u001b[0;36m_call\u001b[0;34m(self, inputs)\u001b[0m\n\u001b[1;32m   2634\u001b[0m                                 \u001b[0msymbol_vals\u001b[0m\u001b[0;34m,\u001b[0m\u001b[0;34m\u001b[0m\u001b[0m\n\u001b[1;32m   2635\u001b[0m                                 session)\n\u001b[0;32m-> 2636\u001b[0;31m         \u001b[0mfetched\u001b[0m \u001b[0;34m=\u001b[0m \u001b[0mself\u001b[0m\u001b[0;34m.\u001b[0m\u001b[0m_callable_fn\u001b[0m\u001b[0;34m(\u001b[0m\u001b[0;34m*\u001b[0m\u001b[0marray_vals\u001b[0m\u001b[0;34m)\u001b[0m\u001b[0;34m\u001b[0m\u001b[0m\n\u001b[0m\u001b[1;32m   2637\u001b[0m         \u001b[0;32mreturn\u001b[0m \u001b[0mfetched\u001b[0m\u001b[0;34m[\u001b[0m\u001b[0;34m:\u001b[0m\u001b[0mlen\u001b[0m\u001b[0;34m(\u001b[0m\u001b[0mself\u001b[0m\u001b[0;34m.\u001b[0m\u001b[0moutputs\u001b[0m\u001b[0;34m)\u001b[0m\u001b[0;34m]\u001b[0m\u001b[0;34m\u001b[0m\u001b[0m\n\u001b[1;32m   2638\u001b[0m \u001b[0;34m\u001b[0m\u001b[0m\n",
      "\u001b[0;32m~/anaconda3/lib/python3.6/site-packages/tensorflow/python/client/session.py\u001b[0m in \u001b[0;36m__call__\u001b[0;34m(self, *args, **kwargs)\u001b[0m\n\u001b[1;32m   1437\u001b[0m           ret = tf_session.TF_SessionRunCallable(\n\u001b[1;32m   1438\u001b[0m               \u001b[0mself\u001b[0m\u001b[0;34m.\u001b[0m\u001b[0m_session\u001b[0m\u001b[0;34m.\u001b[0m\u001b[0m_session\u001b[0m\u001b[0;34m,\u001b[0m \u001b[0mself\u001b[0m\u001b[0;34m.\u001b[0m\u001b[0m_handle\u001b[0m\u001b[0;34m,\u001b[0m \u001b[0margs\u001b[0m\u001b[0;34m,\u001b[0m \u001b[0mstatus\u001b[0m\u001b[0;34m,\u001b[0m\u001b[0;34m\u001b[0m\u001b[0m\n\u001b[0;32m-> 1439\u001b[0;31m               run_metadata_ptr)\n\u001b[0m\u001b[1;32m   1440\u001b[0m         \u001b[0;32mif\u001b[0m \u001b[0mrun_metadata\u001b[0m\u001b[0;34m:\u001b[0m\u001b[0;34m\u001b[0m\u001b[0m\n\u001b[1;32m   1441\u001b[0m           \u001b[0mproto_data\u001b[0m \u001b[0;34m=\u001b[0m \u001b[0mtf_session\u001b[0m\u001b[0;34m.\u001b[0m\u001b[0mTF_GetBuffer\u001b[0m\u001b[0;34m(\u001b[0m\u001b[0mrun_metadata_ptr\u001b[0m\u001b[0;34m)\u001b[0m\u001b[0;34m\u001b[0m\u001b[0m\n",
      "\u001b[0;31mKeyboardInterrupt\u001b[0m: "
     ]
    }
   ],
   "source": [
    "hists = []\n",
    "hist = model.fit_generator(\n",
    "    train_datagen, steps_per_epoch=STEPS, epochs=EPOCHS, verbose=1,\n",
    "    validation_data=(x_valid, y_valid),\n",
    "    callbacks = callbks\n",
    ")"
   ]
  },
  {
   "cell_type": "code",
   "execution_count": null,
   "metadata": {},
   "outputs": [],
   "source": [
    "test = pd.read_csv('../input/test_simplified.csv')\n",
    "test.head()\n",
    "x_test = df_to_image_array_xd(test, size, lw=lw, \n",
    "                              preprocess_input=preprocess_input,\n",
    "                             channel=channel, center = center)\n",
    "print(test.shape, x_test.shape)\n",
    "print('Test array memory {:.2f} GB'.format(x_test.nbytes / 1024.**3 ))\n",
    "\n",
    "np_classes = np.load('../input/classes.npy')\n",
    "id2cat = {k: cat.replace(' ', '_') for k, cat in enumerate(np_classes)}\n"
   ]
  },
  {
   "cell_type": "code",
   "execution_count": null,
   "metadata": {},
   "outputs": [],
   "source": [
    "def doodle_predict(model, model_path, x_test):\n",
    "    model.load_weights(model_path)\n",
    "\n",
    "    test_predictions = model.predict(x_test, batch_size=128, verbose=1)\n",
    "    top3 = preds2catids(test_predictions)\n",
    "    top3cats = top3.replace(id2cat)\n",
    "    test['word'] = top3cats['a'] + ' ' + top3cats['b'] + ' ' + top3cats['c']\n",
    "    submission = test[['key_id', 'word']]\n",
    "\n",
    "    import kaggle_util\n",
    "    kaggle_util.save_result(submission,  \n",
    "                            '../result/{}.csv'.format(model_prefix), \n",
    "                            'quickdraw-doodle-recognition', \n",
    "                            send=True, index=False)"
   ]
  },
  {
   "cell_type": "code",
   "execution_count": null,
   "metadata": {},
   "outputs": [],
   "source": [
    "doodle_predict(model, check_path, x_test)"
   ]
  },
  {
   "cell_type": "code",
   "execution_count": null,
   "metadata": {},
   "outputs": [],
   "source": []
  }
 ],
 "metadata": {
  "kernelspec": {
   "display_name": "Python 3",
   "language": "python",
   "name": "python3"
  },
  "language_info": {
   "codemirror_mode": {
    "name": "ipython",
    "version": 3
   },
   "file_extension": ".py",
   "mimetype": "text/x-python",
   "name": "python",
   "nbconvert_exporter": "python",
   "pygments_lexer": "ipython3",
   "version": "3.6.5"
  }
 },
 "nbformat": 4,
 "nbformat_minor": 2
}
