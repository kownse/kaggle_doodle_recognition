{
 "cells": [
  {
   "cell_type": "code",
   "execution_count": null,
   "metadata": {},
   "outputs": [],
   "source": [
    "import pandas as pd\n",
    "import numpy as np\n",
    "import json\n",
    "import cv2\n",
    "import matplotlib.pyplot as plt\n",
    "from sklearn.cluster import KMeans\n",
    "import glob\n",
    "from tqdm import tqdm_notebook\n",
    "import gc\n",
    "import ntpath\n",
    "import os\n",
    "import random\n",
    "from data import *\n",
    "import multiprocessing\n",
    "import gc\n",
    "gc.enable()"
   ]
  },
  {
   "cell_type": "code",
   "execution_count": null,
   "metadata": {},
   "outputs": [],
   "source": [
    "def gen_imgs_one_file(filepath):\n",
    "    for line in tqdm_notebook(pd.read_csv(filepath, chunksize=1)):\n",
    "        imgpath = '/media/HDD/kaggle/doodle/drawtime_img/{}.png'.format(line.key_id.values[0])\n",
    "        if not os.path.exists(imgpath):\n",
    "            stroke = json.loads(line['drawing'].values[0])\n",
    "            img = draw_drawtime_parts(stroke, size=size, lw=lw)\n",
    "            cv2.imwrite(imgpath, img)\n",
    "            gc.collect()"
   ]
  },
  {
   "cell_type": "code",
   "execution_count": null,
   "metadata": {},
   "outputs": [],
   "source": [
    "p = multiprocessing.Pool(processes=6)\n",
    "\n",
    "files = glob.glob('../input/train_raw/*.csv')\n",
    "for f in files:\n",
    "    p.apply_async(gen_imgs_one_file, [f])\n",
    "p.close()\n",
    "p.join()"
   ]
  },
  {
   "cell_type": "code",
   "execution_count": null,
   "metadata": {},
   "outputs": [],
   "source": []
  }
 ],
 "metadata": {
  "kernelspec": {
   "display_name": "Python 3",
   "language": "python",
   "name": "python3"
  },
  "language_info": {
   "codemirror_mode": {
    "name": "ipython",
    "version": 3
   },
   "file_extension": ".py",
   "mimetype": "text/x-python",
   "name": "python",
   "nbconvert_exporter": "python",
   "pygments_lexer": "ipython3",
   "version": "3.6.5"
  }
 },
 "nbformat": 4,
 "nbformat_minor": 2
}
