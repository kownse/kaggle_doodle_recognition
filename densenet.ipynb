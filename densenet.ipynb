{
 "cells": [
  {
   "cell_type": "code",
   "execution_count": 1,
   "metadata": {},
   "outputs": [
    {
     "name": "stderr",
     "output_type": "stream",
     "text": [
      "Using TensorFlow backend.\n"
     ]
    }
   ],
   "source": [
    "import os\n",
    "os.environ[\"CUDA_VISIBLE_DEVICES\"]=\"1\" \n",
    "import ast\n",
    "import datetime as dt\n",
    "import matplotlib.pyplot as plt\n",
    "import seaborn as sns\n",
    "import cv2\n",
    "import pandas as pd\n",
    "import numpy as np\n",
    "import tensorflow as tf\n",
    "import keras\n",
    "from keras import Model\n",
    "from keras.layers import Conv2D, MaxPooling2D\n",
    "from keras.layers import Dense, Dropout, Flatten, Activation, GlobalAveragePooling2D, BatchNormalization\n",
    "from keras.metrics import categorical_accuracy, top_k_categorical_accuracy, categorical_crossentropy\n",
    "from keras.models import Sequential\n",
    "from keras.callbacks import EarlyStopping, ReduceLROnPlateau, ModelCheckpoint, TensorBoard\n",
    "from keras.optimizers import Adam\n",
    "from keras.applications import DenseNet169\n",
    "from keras.applications.densenet import preprocess_input\n",
    "from data import *"
   ]
  },
  {
   "cell_type": "code",
   "execution_count": 2,
   "metadata": {},
   "outputs": [],
   "source": [
    "def apk(actual, predicted, k=3):\n",
    "    \"\"\"\n",
    "    Source: https://github.com/benhamner/Metrics/blob/master/Python/ml_metrics/average_precision.py\n",
    "    \"\"\"\n",
    "    if len(predicted) > k:\n",
    "        predicted = predicted[:k]\n",
    "    score = 0.0\n",
    "    num_hits = 0.0\n",
    "    for i, p in enumerate(predicted):\n",
    "        if p in actual and p not in predicted[:i]:\n",
    "            num_hits += 1.0\n",
    "            score += num_hits / (i + 1.0)\n",
    "    if not actual:\n",
    "        return 0.0\n",
    "    return score / min(len(actual), k)\n",
    "\n",
    "def mapk(actual, predicted, k=3):\n",
    "    \"\"\"\n",
    "    Source: https://github.com/benhamner/Metrics/blob/master/Python/ml_metrics/average_precision.py\n",
    "    \"\"\"\n",
    "    return np.mean([apk(a, p, k) for a, p in zip(actual, predicted)])\n",
    "\n",
    "def preds2catids(predictions):\n",
    "    return pd.DataFrame(np.argsort(-predictions, axis=1)[:, :3], columns=['a', 'b', 'c'])\n",
    "\n",
    "def top_3_accuracy(y_true, y_pred):\n",
    "    return top_k_categorical_accuracy(y_true, y_pred, k=3)"
   ]
  },
  {
   "cell_type": "code",
   "execution_count": 3,
   "metadata": {},
   "outputs": [],
   "source": [
    "STEPS = 2000\n",
    "EPOCHS = 32\n",
    "size = 128\n",
    "batchsize = 64\n",
    "NCATS = 340"
   ]
  },
  {
   "cell_type": "code",
   "execution_count": 4,
   "metadata": {},
   "outputs": [],
   "source": [
    "base_model = DenseNet169(input_shape=(size, size, 3), weights=None, include_top=False)\n",
    "x = base_model.output\n",
    "# x = GlobalAveragePooling2D()(x)\n",
    "x = Flatten()(x)\n",
    "x = Dropout(0.5)(x)\n",
    "\n",
    "x = Dense(512)(x)\n",
    "x = BatchNormalization()(x)\n",
    "x = Activation('relu')(x)\n",
    "x = Dropout(0.5)(x)\n",
    "\n",
    "x = Dense(64)(x)\n",
    "x = BatchNormalization()(x)\n",
    "x = Activation('relu')(x)\n",
    "x = Dropout(0.5)(x)\n",
    "\n",
    "predictions = Dense(NCATS, activation='softmax')(x)\n",
    "\n",
    "model = Model(inputs=base_model.input, outputs=predictions)\n",
    "\n",
    "model.compile(optimizer=Adam(lr=0.002), loss='categorical_crossentropy',\n",
    "              metrics=[categorical_crossentropy, categorical_accuracy, top_3_accuracy])\n",
    "#print(model.summary())"
   ]
  },
  {
   "cell_type": "code",
   "execution_count": 5,
   "metadata": {},
   "outputs": [],
   "source": [
    "valid_df = pd.read_csv('../input/valid.csv')\n",
    "x_valid = df_to_image_array_xd(valid_df, size, preprocess_input=preprocess_input, channel = 3)\n",
    "y_valid = keras.utils.to_categorical(valid_df.word, num_classes=NCATS)"
   ]
  },
  {
   "cell_type": "code",
   "execution_count": 6,
   "metadata": {},
   "outputs": [
    {
     "name": "stdout",
     "output_type": "stream",
     "text": [
      "(34000, 128, 128, 3) (34000, 340)\n",
      "Validation array memory 6.23 GB\n"
     ]
    }
   ],
   "source": [
    "print(x_valid.shape, y_valid.shape)\n",
    "print('Validation array memory {:.2f} GB'.format(x_valid.nbytes / 1024.**3 ))"
   ]
  },
  {
   "cell_type": "code",
   "execution_count": 7,
   "metadata": {},
   "outputs": [],
   "source": [
    "train_datagen = image_generator_xd(size=size, batchsize=batchsize, preprocess_input=preprocess_input, channel = 3)"
   ]
  },
  {
   "cell_type": "code",
   "execution_count": 8,
   "metadata": {},
   "outputs": [],
   "source": [
    "callbacks = [\n",
    "    ReduceLROnPlateau(monitor='val_categorical_accuracy', factor=0.5, patience=5,\n",
    "                      min_delta=0.005, mode='max', cooldown=3, verbose=1),\n",
    "    TensorBoard(log_dir='log/dense169', \n",
    "                       histogram_freq=0, write_graph=True, write_images=False),\n",
    "    ModelCheckpoint('models/dense169_best', monitor='val_categorical_accuracy', mode='max',\n",
    "                       verbose=0, save_weights_only=True, save_best_only=True)\n",
    "]"
   ]
  },
  {
   "cell_type": "code",
   "execution_count": 9,
   "metadata": {},
   "outputs": [
    {
     "name": "stdout",
     "output_type": "stream",
     "text": [
      "Epoch 1/32\n",
      "2000/2000 [==============================] - 686s 343ms/step - loss: 4.4857 - categorical_crossentropy: 4.4857 - categorical_accuracy: 0.0982 - top_3_accuracy: 0.2060 - val_loss: 3.7429 - val_categorical_crossentropy: 3.7429 - val_categorical_accuracy: 0.2011 - val_top_3_accuracy: 0.3762\n",
      "Epoch 2/32\n",
      "2000/2000 [==============================] - 656s 328ms/step - loss: 3.5385 - categorical_crossentropy: 3.5385 - categorical_accuracy: 0.2183 - top_3_accuracy: 0.4005 - val_loss: 4.1790 - val_categorical_crossentropy: 4.1790 - val_categorical_accuracy: 0.1370 - val_top_3_accuracy: 0.2802\n",
      "Epoch 3/32\n",
      "2000/2000 [==============================] - 656s 328ms/step - loss: 3.1921 - categorical_crossentropy: 3.1921 - categorical_accuracy: 0.2791 - top_3_accuracy: 0.4809 - val_loss: 2.4391 - val_categorical_crossentropy: 2.4391 - val_categorical_accuracy: 0.4305 - val_top_3_accuracy: 0.6514\n",
      "Epoch 4/32\n",
      "2000/2000 [==============================] - 657s 329ms/step - loss: 2.9745 - categorical_crossentropy: 2.9745 - categorical_accuracy: 0.3216 - top_3_accuracy: 0.5316 - val_loss: 2.2614 - val_categorical_crossentropy: 2.2614 - val_categorical_accuracy: 0.4722 - val_top_3_accuracy: 0.6904\n",
      "Epoch 5/32\n",
      "2000/2000 [==============================] - 657s 329ms/step - loss: 2.8081 - categorical_crossentropy: 2.8081 - categorical_accuracy: 0.3563 - top_3_accuracy: 0.5690 - val_loss: 2.4324 - val_categorical_crossentropy: 2.4324 - val_categorical_accuracy: 0.4423 - val_top_3_accuracy: 0.6589\n",
      "Epoch 6/32\n",
      "2000/2000 [==============================] - 657s 328ms/step - loss: 2.6758 - categorical_crossentropy: 2.6758 - categorical_accuracy: 0.3817 - top_3_accuracy: 0.5977 - val_loss: 3.2191 - val_categorical_crossentropy: 3.2191 - val_categorical_accuracy: 0.2785 - val_top_3_accuracy: 0.4850\n",
      "Epoch 7/32\n",
      "2000/2000 [==============================] - 655s 327ms/step - loss: 2.5596 - categorical_crossentropy: 2.5596 - categorical_accuracy: 0.4062 - top_3_accuracy: 0.6224 - val_loss: 3.5967 - val_categorical_crossentropy: 3.5967 - val_categorical_accuracy: 0.2374 - val_top_3_accuracy: 0.4207\n",
      "Epoch 8/32\n",
      "2000/2000 [==============================] - 652s 326ms/step - loss: 2.4696 - categorical_crossentropy: 2.4696 - categorical_accuracy: 0.4278 - top_3_accuracy: 0.6418 - val_loss: 1.8827 - val_categorical_crossentropy: 1.8827 - val_categorical_accuracy: 0.5496 - val_top_3_accuracy: 0.7546\n",
      "Epoch 9/32\n",
      "2000/2000 [==============================] - 652s 326ms/step - loss: 2.3944 - categorical_crossentropy: 2.3944 - categorical_accuracy: 0.4445 - top_3_accuracy: 0.6570 - val_loss: 1.7928 - val_categorical_crossentropy: 1.7928 - val_categorical_accuracy: 0.5716 - val_top_3_accuracy: 0.7698\n",
      "Epoch 10/32\n",
      "2000/2000 [==============================] - 653s 326ms/step - loss: 2.3349 - categorical_crossentropy: 2.3349 - categorical_accuracy: 0.4582 - top_3_accuracy: 0.6684 - val_loss: 1.7327 - val_categorical_crossentropy: 1.7327 - val_categorical_accuracy: 0.5851 - val_top_3_accuracy: 0.7831\n",
      "Epoch 11/32\n",
      "2000/2000 [==============================] - 653s 326ms/step - loss: 2.2698 - categorical_crossentropy: 2.2698 - categorical_accuracy: 0.4749 - top_3_accuracy: 0.6818 - val_loss: 1.6822 - val_categorical_crossentropy: 1.6822 - val_categorical_accuracy: 0.5989 - val_top_3_accuracy: 0.7892\n",
      "Epoch 12/32\n",
      "2000/2000 [==============================] - 653s 327ms/step - loss: 2.2268 - categorical_crossentropy: 2.2268 - categorical_accuracy: 0.4866 - top_3_accuracy: 0.6914 - val_loss: 1.6653 - val_categorical_crossentropy: 1.6653 - val_categorical_accuracy: 0.6068 - val_top_3_accuracy: 0.7917\n",
      "Epoch 13/32\n",
      "2000/2000 [==============================] - 653s 327ms/step - loss: 2.1788 - categorical_crossentropy: 2.1788 - categorical_accuracy: 0.5000 - top_3_accuracy: 0.7009 - val_loss: 1.6087 - val_categorical_crossentropy: 1.6087 - val_categorical_accuracy: 0.6146 - val_top_3_accuracy: 0.8018\n",
      "Epoch 14/32\n",
      "2000/2000 [==============================] - 653s 326ms/step - loss: 2.1365 - categorical_crossentropy: 2.1365 - categorical_accuracy: 0.5108 - top_3_accuracy: 0.7087 - val_loss: 1.6145 - val_categorical_crossentropy: 1.6145 - val_categorical_accuracy: 0.6138 - val_top_3_accuracy: 0.8009\n",
      "Epoch 15/32\n",
      "2000/2000 [==============================] - 653s 327ms/step - loss: 2.1057 - categorical_crossentropy: 2.1057 - categorical_accuracy: 0.5176 - top_3_accuracy: 0.7155 - val_loss: 1.5576 - val_categorical_crossentropy: 1.5576 - val_categorical_accuracy: 0.6281 - val_top_3_accuracy: 0.8080\n",
      "Epoch 16/32\n",
      "2000/2000 [==============================] - 652s 326ms/step - loss: 2.0664 - categorical_crossentropy: 2.0664 - categorical_accuracy: 0.5266 - top_3_accuracy: 0.7224 - val_loss: 1.8998 - val_categorical_crossentropy: 1.8998 - val_categorical_accuracy: 0.5610 - val_top_3_accuracy: 0.7549\n",
      "Epoch 17/32\n",
      "2000/2000 [==============================] - 652s 326ms/step - loss: 2.0423 - categorical_crossentropy: 2.0423 - categorical_accuracy: 0.5320 - top_3_accuracy: 0.7273 - val_loss: 1.5513 - val_categorical_crossentropy: 1.5513 - val_categorical_accuracy: 0.6335 - val_top_3_accuracy: 0.8119\n",
      "Epoch 18/32\n",
      "2000/2000 [==============================] - 653s 327ms/step - loss: 2.0088 - categorical_crossentropy: 2.0088 - categorical_accuracy: 0.5396 - top_3_accuracy: 0.7329 - val_loss: 1.5011 - val_categorical_crossentropy: 1.5011 - val_categorical_accuracy: 0.6447 - val_top_3_accuracy: 0.8189\n",
      "Epoch 19/32\n",
      "2000/2000 [==============================] - 653s 327ms/step - loss: 1.9864 - categorical_crossentropy: 1.9864 - categorical_accuracy: 0.5469 - top_3_accuracy: 0.7385 - val_loss: 1.8341 - val_categorical_crossentropy: 1.8341 - val_categorical_accuracy: 0.5798 - val_top_3_accuracy: 0.7689\n",
      "Epoch 20/32\n",
      "2000/2000 [==============================] - 653s 326ms/step - loss: 1.9678 - categorical_crossentropy: 1.9678 - categorical_accuracy: 0.5530 - top_3_accuracy: 0.7413 - val_loss: 1.4839 - val_categorical_crossentropy: 1.4839 - val_categorical_accuracy: 0.6501 - val_top_3_accuracy: 0.8229\n",
      "Epoch 21/32\n",
      "2000/2000 [==============================] - 653s 326ms/step - loss: 1.9450 - categorical_crossentropy: 1.9450 - categorical_accuracy: 0.5581 - top_3_accuracy: 0.7453 - val_loss: 1.4350 - val_categorical_crossentropy: 1.4350 - val_categorical_accuracy: 0.6611 - val_top_3_accuracy: 0.8286\n",
      "Epoch 22/32\n",
      "2000/2000 [==============================] - 653s 326ms/step - loss: 1.9333 - categorical_crossentropy: 1.9333 - categorical_accuracy: 0.5604 - top_3_accuracy: 0.7480 - val_loss: 1.4526 - val_categorical_crossentropy: 1.4526 - val_categorical_accuracy: 0.6576 - val_top_3_accuracy: 0.8250\n",
      "Epoch 23/32\n",
      "2000/2000 [==============================] - 652s 326ms/step - loss: 1.9058 - categorical_crossentropy: 1.9058 - categorical_accuracy: 0.5674 - top_3_accuracy: 0.7524 - val_loss: 1.4324 - val_categorical_crossentropy: 1.4324 - val_categorical_accuracy: 0.6615 - val_top_3_accuracy: 0.8280\n",
      "Epoch 24/32\n",
      "2000/2000 [==============================] - 652s 326ms/step - loss: 1.8963 - categorical_crossentropy: 1.8963 - categorical_accuracy: 0.5704 - top_3_accuracy: 0.7552 - val_loss: 1.4254 - val_categorical_crossentropy: 1.4254 - val_categorical_accuracy: 0.6641 - val_top_3_accuracy: 0.8300\n",
      "Epoch 25/32\n",
      "2000/2000 [==============================] - 654s 327ms/step - loss: 1.8695 - categorical_crossentropy: 1.8695 - categorical_accuracy: 0.5759 - top_3_accuracy: 0.7570 - val_loss: 1.5367 - val_categorical_crossentropy: 1.5367 - val_categorical_accuracy: 0.6426 - val_top_3_accuracy: 0.8120\n",
      "Epoch 26/32\n",
      "2000/2000 [==============================] - 653s 326ms/step - loss: 1.8533 - categorical_crossentropy: 1.8533 - categorical_accuracy: 0.5791 - top_3_accuracy: 0.7604 - val_loss: 1.4171 - val_categorical_crossentropy: 1.4171 - val_categorical_accuracy: 0.6669 - val_top_3_accuracy: 0.8310\n",
      "Epoch 27/32\n",
      "2000/2000 [==============================] - 653s 326ms/step - loss: 1.8312 - categorical_crossentropy: 1.8312 - categorical_accuracy: 0.5864 - top_3_accuracy: 0.7650 - val_loss: 1.3791 - val_categorical_crossentropy: 1.3791 - val_categorical_accuracy: 0.6744 - val_top_3_accuracy: 0.8346\n",
      "Epoch 28/32\n"
     ]
    },
    {
     "name": "stdout",
     "output_type": "stream",
     "text": [
      "2000/2000 [==============================] - 653s 326ms/step - loss: 1.8104 - categorical_crossentropy: 1.8104 - categorical_accuracy: 0.5901 - top_3_accuracy: 0.7694 - val_loss: 1.4433 - val_categorical_crossentropy: 1.4433 - val_categorical_accuracy: 0.6629 - val_top_3_accuracy: 0.8268\n",
      "Epoch 29/32\n",
      "2000/2000 [==============================] - 653s 327ms/step - loss: 1.8109 - categorical_crossentropy: 1.8109 - categorical_accuracy: 0.5932 - top_3_accuracy: 0.7702 - val_loss: 1.3572 - val_categorical_crossentropy: 1.3572 - val_categorical_accuracy: 0.6828 - val_top_3_accuracy: 0.8411\n",
      "Epoch 30/32\n",
      "2000/2000 [==============================] - 653s 326ms/step - loss: 1.8015 - categorical_crossentropy: 1.8015 - categorical_accuracy: 0.5930 - top_3_accuracy: 0.7704 - val_loss: 3.7328 - val_categorical_crossentropy: 3.7328 - val_categorical_accuracy: 0.2231 - val_top_3_accuracy: 0.3789\n",
      "Epoch 31/32\n",
      "2000/2000 [==============================] - 653s 327ms/step - loss: 1.7848 - categorical_crossentropy: 1.7848 - categorical_accuracy: 0.5994 - top_3_accuracy: 0.7738 - val_loss: 1.3591 - val_categorical_crossentropy: 1.3591 - val_categorical_accuracy: 0.6839 - val_top_3_accuracy: 0.8406\n",
      "Epoch 32/32\n",
      "2000/2000 [==============================] - 652s 326ms/step - loss: 1.7692 - categorical_crossentropy: 1.7692 - categorical_accuracy: 0.6013 - top_3_accuracy: 0.7758 - val_loss: 1.3224 - val_categorical_crossentropy: 1.3224 - val_categorical_accuracy: 0.6889 - val_top_3_accuracy: 0.8439\n"
     ]
    }
   ],
   "source": [
    "hists = []\n",
    "hist = model.fit_generator(\n",
    "    train_datagen, steps_per_epoch=STEPS, epochs=EPOCHS, verbose=1,\n",
    "    validation_data=(x_valid, y_valid),\n",
    "    callbacks = callbacks\n",
    ")"
   ]
  },
  {
   "cell_type": "code",
   "execution_count": 12,
   "metadata": {},
   "outputs": [
    {
     "name": "stdout",
     "output_type": "stream",
     "text": [
      "(112199, 3) (112199, 128, 128, 3)\n",
      "Test array memory 20.54 GB\n"
     ]
    }
   ],
   "source": [
    "test = pd.read_csv('../input/test_simplified.csv')\n",
    "test.head()\n",
    "x_test = df_to_image_array_xd(test, size, preprocess_input=preprocess_input, channel=3)\n",
    "print(test.shape, x_test.shape)\n",
    "print('Test array memory {:.2f} GB'.format(x_test.nbytes / 1024.**3 ))"
   ]
  },
  {
   "cell_type": "code",
   "execution_count": 13,
   "metadata": {},
   "outputs": [
    {
     "name": "stdout",
     "output_type": "stream",
     "text": [
      "112199/112199 [==============================] - 161s 1ms/step\n"
     ]
    },
    {
     "data": {
      "text/plain": [
       "(112199, 3)"
      ]
     },
     "execution_count": 13,
     "metadata": {},
     "output_type": "execute_result"
    }
   ],
   "source": [
    "test_predictions = model.predict(x_test, batch_size=128, verbose=1)\n",
    "\n",
    "top3 = preds2catids(test_predictions)\n",
    "top3.head()\n",
    "top3.shape"
   ]
  },
  {
   "cell_type": "code",
   "execution_count": 14,
   "metadata": {},
   "outputs": [
    {
     "data": {
      "text/plain": [
       "(112199, 3)"
      ]
     },
     "execution_count": 14,
     "metadata": {},
     "output_type": "execute_result"
    }
   ],
   "source": [
    "np_classes = np.load('../input/classes.npy')\n",
    "id2cat = {k: cat.replace(' ', '_') for k, cat in enumerate(np_classes)}\n",
    "top3cats = top3.replace(id2cat)\n",
    "top3cats.head()\n",
    "top3cats.shape"
   ]
  },
  {
   "cell_type": "code",
   "execution_count": 15,
   "metadata": {},
   "outputs": [
    {
     "data": {
      "text/html": [
       "<div>\n",
       "<style scoped>\n",
       "    .dataframe tbody tr th:only-of-type {\n",
       "        vertical-align: middle;\n",
       "    }\n",
       "\n",
       "    .dataframe tbody tr th {\n",
       "        vertical-align: top;\n",
       "    }\n",
       "\n",
       "    .dataframe thead th {\n",
       "        text-align: right;\n",
       "    }\n",
       "</style>\n",
       "<table border=\"1\" class=\"dataframe\">\n",
       "  <thead>\n",
       "    <tr style=\"text-align: right;\">\n",
       "      <th></th>\n",
       "      <th>key_id</th>\n",
       "      <th>word</th>\n",
       "    </tr>\n",
       "  </thead>\n",
       "  <tbody>\n",
       "    <tr>\n",
       "      <th>0</th>\n",
       "      <td>9000003627287624</td>\n",
       "      <td>radio stereo television</td>\n",
       "    </tr>\n",
       "    <tr>\n",
       "      <th>1</th>\n",
       "      <td>9000010688666847</td>\n",
       "      <td>hockey_puck bottlecap pool</td>\n",
       "    </tr>\n",
       "    <tr>\n",
       "      <th>2</th>\n",
       "      <td>9000023642890129</td>\n",
       "      <td>The_Great_Wall_of_China roller_coaster river</td>\n",
       "    </tr>\n",
       "    <tr>\n",
       "      <th>3</th>\n",
       "      <td>9000038588854897</td>\n",
       "      <td>mountain tent bridge</td>\n",
       "    </tr>\n",
       "    <tr>\n",
       "      <th>4</th>\n",
       "      <td>9000052667981386</td>\n",
       "      <td>campfire fireplace crown</td>\n",
       "    </tr>\n",
       "  </tbody>\n",
       "</table>\n",
       "</div>"
      ],
      "text/plain": [
       "             key_id                                          word\n",
       "0  9000003627287624                       radio stereo television\n",
       "1  9000010688666847                    hockey_puck bottlecap pool\n",
       "2  9000023642890129  The_Great_Wall_of_China roller_coaster river\n",
       "3  9000038588854897                          mountain tent bridge\n",
       "4  9000052667981386                      campfire fireplace crown"
      ]
     },
     "execution_count": 15,
     "metadata": {},
     "output_type": "execute_result"
    }
   ],
   "source": [
    "test['word'] = top3cats['a'] + ' ' + top3cats['b'] + ' ' + top3cats['c']\n",
    "submission = test[['key_id', 'word']]\n",
    "submission.head()"
   ]
  },
  {
   "cell_type": "code",
   "execution_count": 16,
   "metadata": {},
   "outputs": [
    {
     "name": "stdout",
     "output_type": "stream",
     "text": [
      "save result\n",
      "upload result\n",
      "cmd: kaggle competitions submit -c quickdraw-doodle-recognition -f ../result/densenet.csv.7z -m \"submit\"\n"
     ]
    }
   ],
   "source": [
    "import kaggle_util\n",
    "kaggle_util.save_result(submission, \n",
    "                        '../result/densenet.csv', 'quickdraw-doodle-recognition', \n",
    "                        send=True, index=False)"
   ]
  },
  {
   "cell_type": "code",
   "execution_count": null,
   "metadata": {},
   "outputs": [],
   "source": []
  }
 ],
 "metadata": {
  "kernelspec": {
   "display_name": "Python 3",
   "language": "python",
   "name": "python3"
  },
  "language_info": {
   "codemirror_mode": {
    "name": "ipython",
    "version": 3
   },
   "file_extension": ".py",
   "mimetype": "text/x-python",
   "name": "python",
   "nbconvert_exporter": "python",
   "pygments_lexer": "ipython3",
   "version": "3.6.5"
  }
 },
 "nbformat": 4,
 "nbformat_minor": 2
}
