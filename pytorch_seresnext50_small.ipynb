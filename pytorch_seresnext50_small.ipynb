{
 "cells": [
  {
   "cell_type": "code",
   "execution_count": 1,
   "metadata": {},
   "outputs": [
    {
     "name": "stderr",
     "output_type": "stream",
     "text": [
      "Using TensorFlow backend.\n"
     ]
    }
   ],
   "source": [
    "from __future__ import print_function, division\n",
    "\n",
    "import torch\n",
    "import torch.nn as nn\n",
    "import torch.optim as optim\n",
    "from torch.optim import lr_scheduler\n",
    "import numpy as np\n",
    "import torchvision\n",
    "from torchvision import datasets, models, transforms\n",
    "import matplotlib.pyplot as plt\n",
    "import time\n",
    "import os\n",
    "import copy\n",
    "from data import *\n",
    "import pretrainedmodels\n",
    "import torchvision.transforms as transforms\n",
    "import sys\n",
    "import glob\n",
    "from torch.utils.data import Dataset, DataLoader, ConcatDataset\n",
    "import json\n",
    "from tqdm import tqdm_notebook\n",
    "from senet import *\n",
    "from collections import OrderedDict"
   ]
  },
  {
   "cell_type": "code",
   "execution_count": 2,
   "metadata": {},
   "outputs": [],
   "source": [
    "nw = 4   #number of workers for data loader\n",
    "# TOT = 46613580 - 340000\n",
    "\n",
    "NCATS = 340\n",
    "NUM_EACH_CLASS = 100000\n",
    "TOT = NCATS * NUM_EACH_CLASS\n",
    "EPOCHS = 50\n",
    "size = 71\n",
    "SIZE = size # for matching to imagenet\n",
    "batchsize = 256 \n",
    "lw = 6\n",
    "STEPS = int(NUM_EACH_CLASS * NCATS / EPOCHS / batchsize)\n",
    "\n",
    "channel = 3\n",
    "\n",
    "device = torch.device(\"cuda:1\")"
   ]
  },
  {
   "cell_type": "code",
   "execution_count": 3,
   "metadata": {},
   "outputs": [],
   "source": [
    "class SEModule(nn.Module):\n",
    "\n",
    "    def __init__(self, channels, reduction):\n",
    "        super(SEModule, self).__init__()\n",
    "        self.avg_pool = nn.AdaptiveAvgPool2d(1)\n",
    "        self.fc1 = nn.Conv2d(channels, channels // reduction, kernel_size=1,\n",
    "                             padding=0)\n",
    "        self.relu = nn.ReLU(inplace=True)\n",
    "        self.fc2 = nn.Conv2d(channels // reduction, channels, kernel_size=1,\n",
    "                             padding=0)\n",
    "        self.sigmoid = nn.Sigmoid()\n",
    "\n",
    "    def forward(self, x):\n",
    "        module_input = x\n",
    "        x = self.avg_pool(x)\n",
    "        x = self.fc1(x)\n",
    "        x = self.relu(x)\n",
    "        x = self.fc2(x)\n",
    "        x = self.sigmoid(x)\n",
    "        return module_input * x\n",
    "\n",
    "\n",
    "class Bottleneck(nn.Module):\n",
    "    \"\"\"\n",
    "    Base class for bottlenecks that implements `forward()` method.\n",
    "    \"\"\"\n",
    "    def forward(self, x):\n",
    "        residual = x\n",
    "\n",
    "        out = self.conv1(x)\n",
    "        out = self.bn1(out)\n",
    "        out = self.relu(out)\n",
    "\n",
    "        out = self.conv2(out)\n",
    "        out = self.bn2(out)\n",
    "        out = self.relu(out)\n",
    "\n",
    "        out = self.conv3(out)\n",
    "        out = self.bn3(out)\n",
    "\n",
    "        if self.downsample is not None:\n",
    "            residual = self.downsample(x)\n",
    "\n",
    "        out = self.se_module(out) + residual\n",
    "        out = self.relu(out)\n",
    "\n",
    "        return out\n",
    "\n",
    "\n",
    "class SEBottleneck(Bottleneck):\n",
    "    \"\"\"\n",
    "    Bottleneck for SENet154.\n",
    "    \"\"\"\n",
    "    expansion = 4\n",
    "\n",
    "    def __init__(self, inplanes, planes, groups, reduction, stride=1,\n",
    "                 downsample=None):\n",
    "        super(SEBottleneck, self).__init__()\n",
    "        self.conv1 = nn.Conv2d(inplanes, planes * 2, kernel_size=1, bias=False)\n",
    "        self.bn1 = nn.BatchNorm2d(planes * 2)\n",
    "        self.conv2 = nn.Conv2d(planes * 2, planes * 4, kernel_size=3,\n",
    "                               stride=stride, padding=1, groups=groups,\n",
    "                               bias=False)\n",
    "        self.bn2 = nn.BatchNorm2d(planes * 4)\n",
    "        self.conv3 = nn.Conv2d(planes * 4, planes * 4, kernel_size=1,\n",
    "                               bias=False)\n",
    "        self.bn3 = nn.BatchNorm2d(planes * 4)\n",
    "        self.relu = nn.ReLU(inplace=True)\n",
    "        self.se_module = SEModule(planes * 4, reduction=reduction)\n",
    "        self.downsample = downsample\n",
    "        self.stride = stride\n",
    "\n",
    "\n",
    "class SEResNetBottleneck(Bottleneck):\n",
    "    \"\"\"\n",
    "    ResNet bottleneck with a Squeeze-and-Excitation module. It follows Caffe\n",
    "    implementation and uses `stride=stride` in `conv1` and not in `conv2`\n",
    "    (the latter is used in the torchvision implementation of ResNet).\n",
    "    \"\"\"\n",
    "    expansion = 4\n",
    "\n",
    "    def __init__(self, inplanes, planes, groups, reduction, stride=1,\n",
    "                 downsample=None):\n",
    "        super(SEResNetBottleneck, self).__init__()\n",
    "        self.conv1 = nn.Conv2d(inplanes, planes, kernel_size=1, bias=False,\n",
    "                               stride=stride)\n",
    "        self.bn1 = nn.BatchNorm2d(planes)\n",
    "        self.conv2 = nn.Conv2d(planes, planes, kernel_size=3, padding=1,\n",
    "                               groups=groups, bias=False)\n",
    "        self.bn2 = nn.BatchNorm2d(planes)\n",
    "        self.conv3 = nn.Conv2d(planes, planes * 4, kernel_size=1, bias=False)\n",
    "        self.bn3 = nn.BatchNorm2d(planes * 4)\n",
    "        self.relu = nn.ReLU(inplace=True)\n",
    "        self.se_module = SEModule(planes * 4, reduction=reduction)\n",
    "        self.downsample = downsample\n",
    "        self.stride = stride\n",
    "\n",
    "\n",
    "class SEResNeXtBottleneck(Bottleneck):\n",
    "    \"\"\"\n",
    "    ResNeXt bottleneck type C with a Squeeze-and-Excitation module.\n",
    "    \"\"\"\n",
    "    expansion = 4\n",
    "\n",
    "    def __init__(self, inplanes, planes, groups, reduction, stride=1,\n",
    "                 downsample=None, base_width=4):\n",
    "        super(SEResNeXtBottleneck, self).__init__()\n",
    "        width = math.floor(planes * (base_width / 64)) * groups\n",
    "        self.conv1 = nn.Conv2d(inplanes, width, kernel_size=1, bias=False,\n",
    "                               stride=1)\n",
    "        self.bn1 = nn.BatchNorm2d(width)\n",
    "        self.conv2 = nn.Conv2d(width, width, kernel_size=3, stride=stride,\n",
    "                               padding=1, groups=groups, bias=False)\n",
    "        self.bn2 = nn.BatchNorm2d(width)\n",
    "        self.conv3 = nn.Conv2d(width, planes * 4, kernel_size=1, bias=False)\n",
    "        self.bn3 = nn.BatchNorm2d(planes * 4)\n",
    "        self.relu = nn.ReLU(inplace=True)\n",
    "        self.se_module = SEModule(planes * 4, reduction=reduction)\n",
    "        self.downsample = downsample\n",
    "        self.stride = stride\n",
    "        \n",
    "class SENet(nn.Module):\n",
    "\n",
    "    def __init__(self, block, layers, groups, reduction, dropout_p=0.2,\n",
    "                 inplanes=128, input_3x3=True, downsample_kernel_size=3,\n",
    "                 downsample_padding=1, num_classes=1000):\n",
    "        \"\"\"\n",
    "        Parameters\n",
    "        ----------\n",
    "        block (nn.Module): Bottleneck class.\n",
    "            - For SENet154: SEBottleneck\n",
    "            - For SE-ResNet models: SEResNetBottleneck\n",
    "            - For SE-ResNeXt models:  SEResNeXtBottleneck\n",
    "        layers (list of ints): Number of residual blocks for 4 layers of the\n",
    "            network (layer1...layer4).\n",
    "        groups (int): Number of groups for the 3x3 convolution in each\n",
    "            bottleneck block.\n",
    "            - For SENet154: 64\n",
    "            - For SE-ResNet models: 1\n",
    "            - For SE-ResNeXt models:  32\n",
    "        reduction (int): Reduction ratio for Squeeze-and-Excitation modules.\n",
    "            - For all models: 16\n",
    "        dropout_p (float or None): Drop probability for the Dropout layer.\n",
    "            If `None` the Dropout layer is not used.\n",
    "            - For SENet154: 0.2\n",
    "            - For SE-ResNet models: None\n",
    "            - For SE-ResNeXt models: None\n",
    "        inplanes (int):  Number of input channels for layer1.\n",
    "            - For SENet154: 128\n",
    "            - For SE-ResNet models: 64\n",
    "            - For SE-ResNeXt models: 64\n",
    "        input_3x3 (bool): If `True`, use three 3x3 convolutions instead of\n",
    "            a single 7x7 convolution in layer0.\n",
    "            - For SENet154: True\n",
    "            - For SE-ResNet models: False\n",
    "            - For SE-ResNeXt models: False\n",
    "        downsample_kernel_size (int): Kernel size for downsampling convolutions\n",
    "            in layer2, layer3 and layer4.\n",
    "            - For SENet154: 3\n",
    "            - For SE-ResNet models: 1\n",
    "            - For SE-ResNeXt models: 1\n",
    "        downsample_padding (int): Padding for downsampling convolutions in\n",
    "            layer2, layer3 and layer4.\n",
    "            - For SENet154: 1\n",
    "            - For SE-ResNet models: 0\n",
    "            - For SE-ResNeXt models: 0\n",
    "        num_classes (int): Number of outputs in `last_linear` layer.\n",
    "            - For all models: 1000\n",
    "        \"\"\"\n",
    "        super(SENet, self).__init__()\n",
    "        self.inplanes = inplanes\n",
    "        if input_3x3:\n",
    "            layer0_modules = [\n",
    "                ('conv1', nn.Conv2d(3, 64, 3, stride=2, padding=1,\n",
    "                                    bias=False)),\n",
    "                ('bn1', nn.BatchNorm2d(64)),\n",
    "                ('relu1', nn.ReLU(inplace=True)),\n",
    "                ('conv2', nn.Conv2d(64, 64, 3, stride=1, padding=1,\n",
    "                                    bias=False)),\n",
    "                ('bn2', nn.BatchNorm2d(64)),\n",
    "                ('relu2', nn.ReLU(inplace=True)),\n",
    "                ('conv3', nn.Conv2d(64, inplanes, 3, stride=1, padding=1,\n",
    "                                    bias=False)),\n",
    "                ('bn3', nn.BatchNorm2d(inplanes)),\n",
    "                ('relu3', nn.ReLU(inplace=True)),\n",
    "            ]\n",
    "        else:\n",
    "            layer0_modules = [\n",
    "                ('conv1', nn.Conv2d(3, inplanes, kernel_size=7, stride=2,\n",
    "                                    padding=3, bias=False)),\n",
    "                ('bn1', nn.BatchNorm2d(inplanes)),\n",
    "                ('relu1', nn.ReLU(inplace=True)),\n",
    "            ]\n",
    "        # To preserve compatibility with Caffe weights `ceil_mode=True`\n",
    "        # is used instead of `padding=1`.\n",
    "        layer0_modules.append(('pool', nn.MaxPool2d(3, stride=2,\n",
    "                                                    ceil_mode=True)))\n",
    "        self.layer0 = nn.Sequential(OrderedDict(layer0_modules))\n",
    "        self.layer1 = self._make_layer(\n",
    "            block,\n",
    "            planes=64,\n",
    "            blocks=layers[0],\n",
    "            groups=groups,\n",
    "            reduction=reduction,\n",
    "            downsample_kernel_size=1,\n",
    "            downsample_padding=0\n",
    "        )\n",
    "        self.layer2 = self._make_layer(\n",
    "            block,\n",
    "            planes=128,\n",
    "            blocks=layers[1],\n",
    "            stride=2,\n",
    "            groups=groups,\n",
    "            reduction=reduction,\n",
    "            downsample_kernel_size=downsample_kernel_size,\n",
    "            downsample_padding=downsample_padding\n",
    "        )\n",
    "        self.layer3 = self._make_layer(\n",
    "            block,\n",
    "            planes=256,\n",
    "            blocks=layers[2],\n",
    "            stride=2,\n",
    "            groups=groups,\n",
    "            reduction=reduction,\n",
    "            downsample_kernel_size=downsample_kernel_size,\n",
    "            downsample_padding=downsample_padding\n",
    "        )\n",
    "        self.layer4 = self._make_layer(\n",
    "            block,\n",
    "            planes=512,\n",
    "            blocks=layers[3],\n",
    "            stride=2,\n",
    "            groups=groups,\n",
    "            reduction=reduction,\n",
    "            downsample_kernel_size=downsample_kernel_size,\n",
    "            downsample_padding=downsample_padding\n",
    "        )\n",
    "        self.avg_pool = nn.AvgPool2d(3, stride=1)\n",
    "        self.dropout = nn.Dropout(dropout_p) if dropout_p is not None else None\n",
    "        self.last_linear = nn.Linear(512 * block.expansion, num_classes)\n",
    "\n",
    "    def _make_layer(self, block, planes, blocks, groups, reduction, stride=1,\n",
    "                    downsample_kernel_size=1, downsample_padding=0):\n",
    "        downsample = None\n",
    "        if stride != 1 or self.inplanes != planes * block.expansion:\n",
    "            downsample = nn.Sequential(\n",
    "                nn.Conv2d(self.inplanes, planes * block.expansion,\n",
    "                          kernel_size=downsample_kernel_size, stride=stride,\n",
    "                          padding=downsample_padding, bias=False),\n",
    "                nn.BatchNorm2d(planes * block.expansion),\n",
    "            )\n",
    "\n",
    "        layers = []\n",
    "        layers.append(block(self.inplanes, planes, groups, reduction, stride,\n",
    "                            downsample))\n",
    "        self.inplanes = planes * block.expansion\n",
    "        for i in range(1, blocks):\n",
    "            layers.append(block(self.inplanes, planes, groups, reduction))\n",
    "\n",
    "        return nn.Sequential(*layers)\n",
    "\n",
    "    def features(self, x):\n",
    "        x = self.layer0(x)\n",
    "        x = self.layer1(x)\n",
    "        x = self.layer2(x)\n",
    "        x = self.layer3(x)\n",
    "        x = self.layer4(x)\n",
    "        return x\n",
    "\n",
    "    def logits(self, x):\n",
    "        x = self.avg_pool(x)\n",
    "        if self.dropout is not None:\n",
    "            x = self.dropout(x)\n",
    "        x = x.view(x.size(0), -1)\n",
    "        x = self.last_linear(x)\n",
    "        return x\n",
    "\n",
    "    def forward(self, x):\n",
    "        x = self.features(x)\n",
    "        x = self.logits(x)\n",
    "        return x"
   ]
  },
  {
   "cell_type": "code",
   "execution_count": 4,
   "metadata": {},
   "outputs": [],
   "source": [
    "en_dict = {}\n",
    "path = '../input/train_simp/'\n",
    "\n",
    "filenames = glob.glob(os.path.join(path, '*.csv'))\n",
    "filenames = sorted(filenames)\n",
    "\n",
    "def encode_files():\n",
    "    \"\"\" Encode all label by name of csv_files \"\"\"\n",
    "    counter = 0\n",
    "    for fn in filenames:\n",
    "        en_dict[fn[:-4].split('/')[-1].replace(' ', '_')] = counter\n",
    "        counter += 1\n",
    "        \n",
    "# collect file names and encode label\n",
    "encode_files()\n",
    "\n",
    "dec_dict = {v: k for k, v in en_dict.items()}\n",
    "def decode_labels(label):\n",
    "    return dec_dict[label]\n",
    "\n",
    "def get_label(nfile):\n",
    "    \"\"\" Return encoded label for class by name of csv_files \"\"\"\n",
    "    return en_dict[nfile.replace(' ', '_')[:-4]]\n",
    "\n",
    "def get_label_by_word(word):\n",
    "    if type(word) == str:\n",
    "        return en_dict[word.replace(' ', '_')]\n",
    "    else:\n",
    "        return word"
   ]
  },
  {
   "cell_type": "code",
   "execution_count": 5,
   "metadata": {},
   "outputs": [],
   "source": [
    "class DoodlesDataset(Dataset):\n",
    "    \"\"\"Doodles csv dataset.\"\"\"\n",
    "\n",
    "    def __init__(self, csv_file, root_dir, mode='train', nrows=1000, \n",
    "                 skiprows=None, size=256, transform=None, recognized = False):\n",
    "        self.root_dir = root_dir\n",
    "        file = os.path.join(self.root_dir, csv_file)\n",
    "        self.size = size\n",
    "        self.mode = mode\n",
    "        usecols = ['drawing','word'] if mode == 'train' else ['drawing']\n",
    "        if recognized:\n",
    "            usecols += ['recognized']\n",
    "        self.doodle = pd.read_csv(file, usecols=usecols, nrows=nrows, skiprows=skiprows)\n",
    "        # only recognized\n",
    "        if recognized:\n",
    "#             print(self.doodle.shape)\n",
    "            self.doodle = self.doodle.loc[self.doodle.recognized == True]\n",
    "#             print(self.doodle.shape)\n",
    "        self.transform = transform\n",
    "\n",
    "    @staticmethod\n",
    "    def _draw(raw_strokes, size=256, lw=6, time_color=True):\n",
    "        img = draw_cv2_parts(raw_strokes, size = size, lw = lw)\n",
    "        return np.transpose(img, (2, 0, 1))\n",
    "    \n",
    "    def __len__(self):\n",
    "        return len(self.doodle)\n",
    "\n",
    "    def __getitem__(self, idx):\n",
    "        raw_strokes = json.loads(self.doodle.drawing.iloc[idx])\n",
    "        sample = self._draw(raw_strokes, size=self.size, lw=6, time_color=True)\n",
    "        if self.transform:\n",
    "            sample = self.transform(sample)\n",
    "#         print(sample.shape, sample[None].shape)\n",
    "\n",
    "        if self.mode == 'train':\n",
    "            return (sample/255).astype('float32'), get_label_by_word(self.doodle.word.iloc[idx])\n",
    "        else:\n",
    "            return (sample/255).astype('float32')"
   ]
  },
  {
   "cell_type": "code",
   "execution_count": 6,
   "metadata": {},
   "outputs": [],
   "source": [
    "import ntpath\n",
    "\n",
    "# collect all single csvset in one\n",
    "select_nrows = NUM_EACH_CLASS\n",
    "skip_rows = NUM_EACH_CLASS * 1\n",
    "end_rows = skip_rows + select_nrows\n",
    "\n",
    "def calc_skip(lines):\n",
    "    if lines < end_rows:\n",
    "        ret = abs(end_rows - lines)\n",
    "        if (lines - ret) < select_nrows:\n",
    "            ret = lines - select_nrows\n",
    "        return ret\n",
    "    else:\n",
    "        return skip_rows\n",
    "\n",
    "line_cnt = pd.read_csv('../input/line_cnts.csv')\n",
    "line_cnt['skip_rows'] = line_cnt['line'].apply(calc_skip)\n",
    "line_cnt['val_skip_rows'] = line_cnt['line'].apply(lambda x : x - 100)"
   ]
  },
  {
   "cell_type": "code",
   "execution_count": 7,
   "metadata": {},
   "outputs": [],
   "source": [
    "doodle_all = ConcatDataset([DoodlesDataset(fn.split('/')[-1], path, nrows=select_nrows, size=SIZE,\n",
    "              skiprows=range(1, line_cnt.loc[line_cnt.file == ntpath.split(fn)[1], 'skip_rows'].values[0]),\n",
    "              recognized = True) \n",
    "                            for fn in filenames])"
   ]
  },
  {
   "cell_type": "code",
   "execution_count": 8,
   "metadata": {},
   "outputs": [],
   "source": [
    "validationset = DoodlesDataset('valid.csv', \n",
    "                               root_dir = '../input/', \n",
    "                               nrows=None, size=SIZE)"
   ]
  },
  {
   "cell_type": "code",
   "execution_count": 9,
   "metadata": {},
   "outputs": [
    {
     "name": "stdout",
     "output_type": "stream",
     "text": [
      "Train set: 31205974\n",
      "Validation set: 34000\n"
     ]
    }
   ],
   "source": [
    "# total images in set\n",
    "print('Train set:', len(doodle_all))\n",
    "print('Validation set:', len(validationset))\n",
    "# Use the torch dataluuoader to iterate through the dataset\n",
    "loader = DataLoader(doodle_all, batch_size=batchsize, shuffle=True, num_workers=1)\n",
    "valid_loader = DataLoader(validationset, batch_size=16, shuffle=False, num_workers=1)"
   ]
  },
  {
   "cell_type": "code",
   "execution_count": 10,
   "metadata": {},
   "outputs": [
    {
     "data": {
      "image/png": "[encoded data removed]",
      "text/plain": [
       "<Figure size 1152x1728 with 1 Axes>"
      ]
     },
     "metadata": {},
     "output_type": "display_data"
    },
    {
     "name": "stderr",
     "output_type": "stream",
     "text": [
      "KeyboardInterrupt\n",
      "Process Process-1:\n",
      "Traceback (most recent call last):\n",
      "  File \"/home/kownse/anaconda3/lib/python3.6/multiprocessing/process.py\", line 258, in _bootstrap\n",
      "    self.run()\n",
      "  File \"/home/kownse/anaconda3/lib/python3.6/multiprocessing/process.py\", line 93, in run\n",
      "    self._target(*self._args, **self._kwargs)\n",
      "  File \"/home/kownse/anaconda3/lib/python3.6/site-packages/torch/utils/data/dataloader.py\", line 96, in _worker_loop\n",
      "    r = index_queue.get(timeout=MANAGER_STATUS_CHECK_INTERVAL)\n",
      "  File \"/home/kownse/anaconda3/lib/python3.6/multiprocessing/queues.py\", line 104, in get\n",
      "    if not self._poll(timeout):\n",
      "  File \"/home/kownse/anaconda3/lib/python3.6/multiprocessing/connection.py\", line 257, in poll\n",
      "    return self._poll(timeout)\n",
      "  File \"/home/kownse/anaconda3/lib/python3.6/multiprocessing/connection.py\", line 414, in _poll\n",
      "    r = wait([self], timeout)\n",
      "  File \"/home/kownse/anaconda3/lib/python3.6/multiprocessing/connection.py\", line 911, in wait\n",
      "    ready = selector.select(timeout)\n",
      "  File \"/home/kownse/anaconda3/lib/python3.6/selectors.py\", line 376, in select\n",
      "    fd_event_list = self._poll.poll(timeout)\n"
     ]
    }
   ],
   "source": [
    "# functions to show an image\n",
    "def imshow(img):\n",
    "    npimg = img.numpy()\n",
    "    plt.imshow(np.transpose(npimg, (1, 2, 0)))\n",
    "\n",
    "# get some images \n",
    "dataiter = iter(loader)\n",
    "images, label = dataiter.next()\n",
    "\n",
    "# show images\n",
    "plt.figure(figsize=(16,24))\n",
    "imshow(torchvision.utils.make_grid(images[:24]))"
   ]
  },
  {
   "cell_type": "code",
   "execution_count": 11,
   "metadata": {},
   "outputs": [],
   "source": [
    "# validation function \n",
    "def validation(lossf, scoref):\n",
    "    model.eval()\n",
    "    loss, score = 0, 0\n",
    "    vlen = len(valid_loader)\n",
    "    for x, y in valid_loader:\n",
    "        x, y = x.to(device), y.to(device)\n",
    "        output = model(x)\n",
    "        loss += lossf(output, y).item()\n",
    "        score += scoref(output, y)[0].item()\n",
    "    model.train()\n",
    "    return loss/vlen, score/vlen\n",
    "\n",
    "def accuracy(output, target, topk=(1,)):\n",
    "    \"\"\"Computes the accuracy over the k top predictions for the specified values of k\"\"\"\n",
    "    with torch.no_grad():\n",
    "        maxk = max(topk)\n",
    "        batch_size = target.size(0)\n",
    "\n",
    "        _, pred = output.topk(maxk, 1, True, True)\n",
    "        pred = pred.t()\n",
    "        correct = pred.eq(target.view(1, -1).expand_as(pred))\n",
    "\n",
    "        res = []\n",
    "        for k in topk:\n",
    "            correct_k = correct[:k].view(-1).float().sum(0, keepdim=True)\n",
    "            res.append(correct_k.mul_(100.0 / batch_size))\n",
    "        return res"
   ]
  },
  {
   "cell_type": "code",
   "execution_count": 12,
   "metadata": {},
   "outputs": [],
   "source": [
    "model = SENet(SEResNeXtBottleneck, [3, 4, 6, 3], groups=32, reduction=16,\n",
    "                  dropout_p=None, inplanes=64, input_3x3=False,\n",
    "                  downsample_kernel_size=1, downsample_padding=0,\n",
    "                  num_classes=NCATS)\n",
    "\n"
   ]
  },
  {
   "cell_type": "code",
   "execution_count": 13,
   "metadata": {},
   "outputs": [
    {
     "data": {
      "text/plain": [
       "torch.Size([3, 340])"
      ]
     },
     "execution_count": 13,
     "metadata": {},
     "output_type": "execute_result"
    }
   ],
   "source": [
    "model.cpu()(torch.randn(3,3,size,size)).size() "
   ]
  },
  {
   "cell_type": "code",
   "execution_count": 14,
   "metadata": {},
   "outputs": [
    {
     "name": "stdout",
     "output_type": "stream",
     "text": [
      "models/best_se_resnext50_parts_small71_rec.pth\n"
     ]
    }
   ],
   "source": [
    "model_prefix = 'se_resnext50_parts_small{}_rec'.format(SIZE)\n",
    "MODEL_CKPT = 'models/best_{}.pth'.format(model_prefix)\n",
    "print(MODEL_CKPT)"
   ]
  },
  {
   "cell_type": "code",
   "execution_count": 15,
   "metadata": {},
   "outputs": [],
   "source": [
    "# model.load_state_dict(torch.load('models/best_se_resnext50_parts_all_small.pth', map_location=lambda storage, loc: storage))\n",
    "\n",
    "END_PATH = 'models/se_resnext50_parts_end.pth'\n",
    "if os.path.exists(END_PATH):\n",
    "    print('load from last_path', END_PATH)\n",
    "    model.load_state_dict(torch.load(END_PATH, map_location=lambda storage, loc: storage))\n",
    "elif os.path.exists(MODEL_CKPT):\n",
    "    print('load from check point', MODEL_CKPT)\n",
    "    model.load_state_dict(torch.load(MODEL_CKPT, map_location=lambda storage, loc: storage))"
   ]
  },
  {
   "cell_type": "code",
   "execution_count": 16,
   "metadata": {},
   "outputs": [],
   "source": [
    "# if torch.cuda.device_count() > 1:\n",
    "#   print(\"Let's use\", torch.cuda.device_count(), \"GPUs!\")\n",
    "#   model = nn.DataParallel(model)"
   ]
  },
  {
   "cell_type": "code",
   "execution_count": 17,
   "metadata": {},
   "outputs": [],
   "source": [
    "criterion = nn.CrossEntropyLoss()\n",
    "\n",
    "# Observe that all parameters are being optimized\n",
    "optimizer = optim.Adam(model.parameters(), lr=0.0005 )\n",
    "exp_lr_scheduler = lr_scheduler.ReduceLROnPlateau(optimizer, mode='min', factor=0.5, patience = 2)\n",
    "\n",
    "model = model.to(device)"
   ]
  },
  {
   "cell_type": "code",
   "execution_count": 18,
   "metadata": {
    "scrolled": true
   },
   "outputs": [
    {
     "name": "stdout",
     "output_type": "stream",
     "text": [
      "p_itr 2437\n"
     ]
    },
    {
     "data": {
      "application/vnd.jupyter.widget-view+json": {
       "model_id": "32989c8e117a4ec5af9accef9e2e37ce",
       "version_major": 2,
       "version_minor": 0
      },
      "text/plain": [
       "HBox(children=(IntProgress(value=0, max=121899), HTML(value='')))"
      ]
     },
     "metadata": {},
     "output_type": "display_data"
    },
    {
     "name": "stdout",
     "output_type": "stream",
     "text": [
      "Iteration 2437 -> Train Loss: 0.4291, Accuracy: 86.63%\n",
      "Iteration 2437 -> Validation Loss: 0.8361, Accuracy: 81.54%\n",
      "new best_score81.538 save to models/best_se_resnext50_parts_small71_rec.pth\n",
      "Iteration 4874 -> Train Loss: 0.4234, Accuracy: 86.76%\n",
      "Iteration 4874 -> Validation Loss: 0.8427, Accuracy: 81.61%\n",
      "new best_score81.609 save to models/best_se_resnext50_parts_small71_rec.pth\n",
      "Iteration 7311 -> Train Loss: 0.4202, Accuracy: 86.82%\n",
      "Iteration 7311 -> Validation Loss: 0.8448, Accuracy: 81.55%\n",
      "Iteration 9748 -> Train Loss: 0.4192, Accuracy: 86.89%\n",
      "Iteration 9748 -> Validation Loss: 0.8449, Accuracy: 81.63%\n",
      "new best_score81.626 save to models/best_se_resnext50_parts_small71_rec.pth\n",
      "Iteration 12185 -> Train Loss: 0.4187, Accuracy: 86.84%\n",
      "Iteration 12185 -> Validation Loss: 0.8463, Accuracy: 81.66%\n",
      "new best_score81.665 save to models/best_se_resnext50_parts_small71_rec.pth\n",
      "Iteration 14622 -> Train Loss: 0.4182, Accuracy: 86.90%\n",
      "Iteration 14622 -> Validation Loss: 0.8464, Accuracy: 81.66%\n",
      "new best_score81.665 save to models/best_se_resnext50_parts_small71_rec.pth\n",
      "Iteration 17059 -> Train Loss: 0.4164, Accuracy: 86.97%\n",
      "Iteration 17059 -> Validation Loss: 0.8477, Accuracy: 81.68%\n",
      "new best_score81.682 save to models/best_se_resnext50_parts_small71_rec.pth\n",
      "Iteration 19496 -> Train Loss: 0.4169, Accuracy: 86.90%\n",
      "Iteration 19496 -> Validation Loss: 0.8477, Accuracy: 81.63%\n",
      "Iteration 21933 -> Train Loss: 0.4148, Accuracy: 86.94%\n",
      "Iteration 21933 -> Validation Loss: 0.8527, Accuracy: 81.66%\n",
      "Iteration 24370 -> Train Loss: 0.4162, Accuracy: 86.92%\n",
      "Iteration 24370 -> Validation Loss: 0.8519, Accuracy: 81.68%\n",
      "new best_score81.682 save to models/best_se_resnext50_parts_small71_rec.pth\n",
      "Iteration 26807 -> Train Loss: 0.4170, Accuracy: 86.94%\n",
      "Iteration 26807 -> Validation Loss: 0.8502, Accuracy: 81.64%\n",
      "Iteration 29244 -> Train Loss: 0.4161, Accuracy: 86.95%\n",
      "Iteration 29244 -> Validation Loss: 0.8504, Accuracy: 81.70%\n",
      "new best_score81.697 save to models/best_se_resnext50_parts_small71_rec.pth\n",
      "Iteration 31681 -> Train Loss: 0.4153, Accuracy: 86.93%\n",
      "Iteration 31681 -> Validation Loss: 0.8518, Accuracy: 81.66%\n",
      "Iteration 34118 -> Train Loss: 0.4159, Accuracy: 86.93%\n",
      "Iteration 34118 -> Validation Loss: 0.8512, Accuracy: 81.71%\n",
      "new best_score81.706 save to models/best_se_resnext50_parts_small71_rec.pth\n",
      "Iteration 36555 -> Train Loss: 0.4127, Accuracy: 86.96%\n",
      "Iteration 36555 -> Validation Loss: 0.8531, Accuracy: 81.67%\n",
      "Iteration 38992 -> Train Loss: 0.4137, Accuracy: 86.96%\n",
      "Iteration 38992 -> Validation Loss: 0.8537, Accuracy: 81.74%\n",
      "new best_score81.741 save to models/best_se_resnext50_parts_small71_rec.pth\n",
      "Iteration 41429 -> Train Loss: 0.4156, Accuracy: 86.92%\n",
      "Iteration 41429 -> Validation Loss: 0.8537, Accuracy: 81.66%\n",
      "Iteration 43866 -> Train Loss: 0.4136, Accuracy: 86.99%\n",
      "Iteration 43866 -> Validation Loss: 0.8549, Accuracy: 81.67%\n",
      "Iteration 46303 -> Train Loss: 0.4145, Accuracy: 86.91%\n",
      "Iteration 46303 -> Validation Loss: 0.8539, Accuracy: 81.66%\n",
      "Iteration 48740 -> Train Loss: 0.4127, Accuracy: 86.99%\n",
      "Iteration 48740 -> Validation Loss: 0.8573, Accuracy: 81.73%\n",
      "Iteration 51177 -> Train Loss: 0.4115, Accuracy: 87.01%\n",
      "Iteration 51177 -> Validation Loss: 0.8560, Accuracy: 81.64%\n",
      "Reducing learning rate by 0.5\n",
      "Iteration 53614 -> Train Loss: 0.4135, Accuracy: 86.99%\n",
      "Iteration 53614 -> Validation Loss: 0.8542, Accuracy: 81.66%\n",
      "Iteration 56051 -> Train Loss: 0.4119, Accuracy: 87.02%\n",
      "Iteration 56051 -> Validation Loss: 0.8555, Accuracy: 81.77%\n",
      "new best_score81.774 save to models/best_se_resnext50_parts_small71_rec.pth\n",
      "Iteration 58488 -> Train Loss: 0.4117, Accuracy: 87.01%\n",
      "Iteration 58488 -> Validation Loss: 0.8544, Accuracy: 81.74%\n",
      "Iteration 60925 -> Train Loss: 0.4110, Accuracy: 87.01%\n",
      "Iteration 60925 -> Validation Loss: 0.8559, Accuracy: 81.76%\n",
      "Iteration 63362 -> Train Loss: 0.4117, Accuracy: 87.06%\n",
      "Iteration 63362 -> Validation Loss: 0.8551, Accuracy: 81.72%\n",
      "Iteration 65799 -> Train Loss: 0.4115, Accuracy: 87.00%\n",
      "Iteration 65799 -> Validation Loss: 0.8538, Accuracy: 81.74%\n",
      "Iteration 68236 -> Train Loss: 0.4116, Accuracy: 87.01%\n",
      "Iteration 68236 -> Validation Loss: 0.8550, Accuracy: 81.70%\n",
      "Reducing learning rate by 0.5\n",
      "Iteration 70673 -> Train Loss: 0.4118, Accuracy: 87.01%\n",
      "Iteration 70673 -> Validation Loss: 0.8531, Accuracy: 81.76%\n",
      "Iteration 73110 -> Train Loss: 0.4133, Accuracy: 86.99%\n",
      "Iteration 73110 -> Validation Loss: 0.8557, Accuracy: 81.76%\n",
      "Iteration 75547 -> Train Loss: 0.4137, Accuracy: 87.01%\n",
      "Iteration 75547 -> Validation Loss: 0.8535, Accuracy: 81.74%\n"
     ]
    },
    {
     "name": "stderr",
     "output_type": "stream",
     "text": [
      "Process Process-2:\n",
      "Traceback (most recent call last):\n",
      "  File \"/home/kownse/anaconda3/lib/python3.6/multiprocessing/process.py\", line 258, in _bootstrap\n",
      "    self.run()\n",
      "  File \"/home/kownse/anaconda3/lib/python3.6/multiprocessing/process.py\", line 93, in run\n",
      "    self._target(*self._args, **self._kwargs)\n",
      "  File \"/home/kownse/anaconda3/lib/python3.6/site-packages/torch/utils/data/dataloader.py\", line 96, in _worker_loop\n",
      "    r = index_queue.get(timeout=MANAGER_STATUS_CHECK_INTERVAL)\n",
      "  File \"/home/kownse/anaconda3/lib/python3.6/multiprocessing/queues.py\", line 104, in get\n",
      "    if not self._poll(timeout):\n",
      "  File \"/home/kownse/anaconda3/lib/python3.6/multiprocessing/connection.py\", line 257, in poll\n",
      "    return self._poll(timeout)\n",
      "  File \"/home/kownse/anaconda3/lib/python3.6/multiprocessing/connection.py\", line 414, in _poll\n",
      "    r = wait([self], timeout)\n",
      "  File \"/home/kownse/anaconda3/lib/python3.6/multiprocessing/connection.py\", line 911, in wait\n",
      "    ready = selector.select(timeout)\n",
      "  File \"/home/kownse/anaconda3/lib/python3.6/selectors.py\", line 376, in select\n",
      "    fd_event_list = self._poll.poll(timeout)\n",
      "KeyboardInterrupt\n",
      "Exception ignored in: <Finalize object, dead>\n",
      "Traceback (most recent call last):\n",
      "  File \"/home/kownse/anaconda3/lib/python3.6/multiprocessing/util.py\", line 167, in __call__\n",
      "    def __call__(self, wr=None,\n",
      "  File \"/home/kownse/anaconda3/lib/python3.6/site-packages/torch/utils/data/dataloader.py\", line 227, in handler\n",
      "    _error_if_any_worker_fails()\n",
      "RuntimeError: DataLoader worker (pid 5356) exited unexpectedly with exit code 1. Details are lost due to multiprocessing. Rerunning with num_workers=0 may give better error trace.\n"
     ]
    },
    {
     "ename": "KeyboardInterrupt",
     "evalue": "",
     "output_type": "error",
     "traceback": [
      "\u001b[0;31m---------------------------------------------------------------------------\u001b[0m",
      "\u001b[0;31mKeyboardInterrupt\u001b[0m                         Traceback (most recent call last)",
      "\u001b[0;32m<ipython-input-18-f0745809fe87>\u001b[0m in \u001b[0;36m<module>\u001b[0;34m()\u001b[0m\n\u001b[1;32m     27\u001b[0m         \u001b[0moutput\u001b[0m \u001b[0;34m=\u001b[0m \u001b[0mmodel\u001b[0m\u001b[0;34m(\u001b[0m\u001b[0mx\u001b[0m\u001b[0;34m)\u001b[0m\u001b[0;34m\u001b[0m\u001b[0m\n\u001b[1;32m     28\u001b[0m         \u001b[0mloss\u001b[0m \u001b[0;34m=\u001b[0m \u001b[0mcriterion\u001b[0m\u001b[0;34m(\u001b[0m\u001b[0moutput\u001b[0m\u001b[0;34m,\u001b[0m \u001b[0my\u001b[0m\u001b[0;34m)\u001b[0m\u001b[0;34m\u001b[0m\u001b[0m\n\u001b[0;32m---> 29\u001b[0;31m         \u001b[0mloss\u001b[0m\u001b[0;34m.\u001b[0m\u001b[0mbackward\u001b[0m\u001b[0;34m(\u001b[0m\u001b[0;34m)\u001b[0m\u001b[0;34m\u001b[0m\u001b[0m\n\u001b[0m\u001b[1;32m     30\u001b[0m         \u001b[0moptimizer\u001b[0m\u001b[0;34m.\u001b[0m\u001b[0mstep\u001b[0m\u001b[0;34m(\u001b[0m\u001b[0;34m)\u001b[0m\u001b[0;34m\u001b[0m\u001b[0m\n\u001b[1;32m     31\u001b[0m         \u001b[0mtloss\u001b[0m \u001b[0;34m+=\u001b[0m \u001b[0mloss\u001b[0m\u001b[0;34m.\u001b[0m\u001b[0mitem\u001b[0m\u001b[0;34m(\u001b[0m\u001b[0;34m)\u001b[0m\u001b[0;34m\u001b[0m\u001b[0m\n",
      "\u001b[0;32m~/anaconda3/lib/python3.6/site-packages/torch/tensor.py\u001b[0m in \u001b[0;36mbackward\u001b[0;34m(self, gradient, retain_graph, create_graph)\u001b[0m\n\u001b[1;32m     91\u001b[0m                 \u001b[0mproducts\u001b[0m\u001b[0;34m.\u001b[0m \u001b[0mDefaults\u001b[0m \u001b[0mto\u001b[0m\u001b[0;31m \u001b[0m\u001b[0;31m`\u001b[0m\u001b[0;31m`\u001b[0m\u001b[0;32mFalse\u001b[0m\u001b[0;31m`\u001b[0m\u001b[0;31m`\u001b[0m\u001b[0;34m.\u001b[0m\u001b[0;34m\u001b[0m\u001b[0m\n\u001b[1;32m     92\u001b[0m         \"\"\"\n\u001b[0;32m---> 93\u001b[0;31m         \u001b[0mtorch\u001b[0m\u001b[0;34m.\u001b[0m\u001b[0mautograd\u001b[0m\u001b[0;34m.\u001b[0m\u001b[0mbackward\u001b[0m\u001b[0;34m(\u001b[0m\u001b[0mself\u001b[0m\u001b[0;34m,\u001b[0m \u001b[0mgradient\u001b[0m\u001b[0;34m,\u001b[0m \u001b[0mretain_graph\u001b[0m\u001b[0;34m,\u001b[0m \u001b[0mcreate_graph\u001b[0m\u001b[0;34m)\u001b[0m\u001b[0;34m\u001b[0m\u001b[0m\n\u001b[0m\u001b[1;32m     94\u001b[0m \u001b[0;34m\u001b[0m\u001b[0m\n\u001b[1;32m     95\u001b[0m     \u001b[0;32mdef\u001b[0m \u001b[0mregister_hook\u001b[0m\u001b[0;34m(\u001b[0m\u001b[0mself\u001b[0m\u001b[0;34m,\u001b[0m \u001b[0mhook\u001b[0m\u001b[0;34m)\u001b[0m\u001b[0;34m:\u001b[0m\u001b[0;34m\u001b[0m\u001b[0m\n",
      "\u001b[0;32m~/anaconda3/lib/python3.6/site-packages/torch/autograd/__init__.py\u001b[0m in \u001b[0;36mbackward\u001b[0;34m(tensors, grad_tensors, retain_graph, create_graph, grad_variables)\u001b[0m\n\u001b[1;32m     88\u001b[0m     Variable._execution_engine.run_backward(\n\u001b[1;32m     89\u001b[0m         \u001b[0mtensors\u001b[0m\u001b[0;34m,\u001b[0m \u001b[0mgrad_tensors\u001b[0m\u001b[0;34m,\u001b[0m \u001b[0mretain_graph\u001b[0m\u001b[0;34m,\u001b[0m \u001b[0mcreate_graph\u001b[0m\u001b[0;34m,\u001b[0m\u001b[0;34m\u001b[0m\u001b[0m\n\u001b[0;32m---> 90\u001b[0;31m         allow_unreachable=True)  # allow_unreachable flag\n\u001b[0m\u001b[1;32m     91\u001b[0m \u001b[0;34m\u001b[0m\u001b[0m\n\u001b[1;32m     92\u001b[0m \u001b[0;34m\u001b[0m\u001b[0m\n",
      "\u001b[0;31mKeyboardInterrupt\u001b[0m: "
     ]
    }
   ],
   "source": [
    "epochs = 1\n",
    "lsize = len(loader)\n",
    "itr = 1\n",
    "p_itr = int(lsize / 50) # print every N iteration\n",
    "patience = 5\n",
    "\n",
    "print('p_itr', p_itr)\n",
    "\n",
    "# if os.path.exists(MODEL_CKPT):\n",
    "#     print('load previous trained weights', MODEL_CKPT)\n",
    "#     model.load_state_dict(torch.load(MODEL_CKPT, map_location=lambda storage, loc: storage))\n",
    "model.train()\n",
    "\n",
    "best_score = 0\n",
    "lr_patient = 0\n",
    "valid_patient = 0\n",
    "cycle = 0\n",
    "lr_min = 0.00001\n",
    "lr_max = 0.001\n",
    "lr_rampdown = 65\n",
    "\n",
    "for epoch in range(epochs):\n",
    "    tloss, score = 0, 0\n",
    "    for x, y in tqdm_notebook(loader):\n",
    "        x, y = x.to(device), y.to(device)\n",
    "        optimizer.zero_grad()\n",
    "        output = model(x)\n",
    "        loss = criterion(output, y)\n",
    "        loss.backward()\n",
    "        optimizer.step()\n",
    "        tloss += loss.item()\n",
    "        score += accuracy(output, y)[0].item()\n",
    "        if itr%p_itr==0:\n",
    "            vloss, vscore = validation(criterion, accuracy)\n",
    "            print('Iteration {} -> Train Loss: {:.4f}, Accuracy: {:.2f}%'.format(itr, tloss/p_itr, score/p_itr))\n",
    "            print('Iteration {} -> Validation Loss: {:.4f}, Accuracy: {:.2f}%'.format(itr, vloss, vscore))\n",
    "            time.sleep(0.1)\n",
    "            \n",
    "#             exp_lr_scheduler.step(vscore)\n",
    "            \n",
    "            if vscore >= best_score:\n",
    "                lr_patient = 0\n",
    "                valid_patient = 0\n",
    "                best_score = vscore\n",
    "                \n",
    "                model.eval()\n",
    "                torch.save(model.state_dict(), MODEL_CKPT)\n",
    "                model.train()\n",
    "                \n",
    "                print('new best_score{:.3f}'.format(vscore), 'save to', MODEL_CKPT)\n",
    "            else:\n",
    "                lr_patient += 1\n",
    "                valid_patient += 1\n",
    "                \n",
    "            if valid_patient >=  15:\n",
    "                cycle += 1\n",
    "                lr_patient = 0\n",
    "                valid_patient = 0\n",
    "                \n",
    "                checkpath = 'models/se_resnext50_parts_cycle{}.pth'.format(cycle)\n",
    "                model.eval()\n",
    "                torch.save(model.state_dict(), checkpath)\n",
    "                model.train()\n",
    "\n",
    "                print('rampdown')\n",
    "                for params in optimizer.param_groups:\n",
    "                    params['lr'] = (lr_min + 0.5 * (lr_max - lr_min) *\n",
    "                                   (1 + np.cos(np.pi * t_ / lr_rampdown)))\n",
    "\n",
    "                print('Learning rate set to {:.4}'.format(optimizer.param_groups[0]['lr']))\n",
    "\n",
    "            if lr_patient >= patience:\n",
    "                print('Reducing learning rate by {}'.format(0.5))\n",
    "                for params in optimizer.param_groups:\n",
    "                    params['lr'] *= 0.5\n",
    "                lr_patient = 0\n",
    "                \n",
    "            tloss, score = 0, 0\n",
    "             \n",
    "        itr +=1\n",
    "vloss, vscore = validation(criterion, accuracy)\n",
    "print('Final -> Validation Loss: {:.4f}, Accuracy: {:.2f}%'.format(vloss, vscore))\n",
    "\n",
    "model.eval()\n",
    "torch.save(model.state_dict(), END_PATH)"
   ]
  },
  {
   "cell_type": "code",
   "execution_count": 20,
   "metadata": {},
   "outputs": [],
   "source": [
    "model.load_state_dict(torch.load(MODEL_CKPT, map_location=lambda storage, loc: storage))\n",
    "model = model.eval() "
   ]
  },
  {
   "cell_type": "code",
   "execution_count": 19,
   "metadata": {},
   "outputs": [
    {
     "data": {
      "text/plain": [
       "71"
      ]
     },
     "execution_count": 19,
     "metadata": {},
     "output_type": "execute_result"
    }
   ],
   "source": [
    "SIZE"
   ]
  },
  {
   "cell_type": "code",
   "execution_count": 21,
   "metadata": {},
   "outputs": [],
   "source": [
    "testset = DoodlesDataset('test_simplified.csv', '../input', mode='test', nrows=None, size=SIZE)\n",
    "testloader = DataLoader(testset, batch_size=16, shuffle=False, num_workers=0)"
   ]
  },
  {
   "cell_type": "code",
   "execution_count": 22,
   "metadata": {},
   "outputs": [
    {
     "data": {
      "application/vnd.jupyter.widget-view+json": {
       "model_id": "e1eefb5175754ca88ceee28de467a58b",
       "version_major": 2,
       "version_minor": 0
      },
      "text/plain": [
       "HBox(children=(IntProgress(value=0, max=7013), HTML(value='')))"
      ]
     },
     "metadata": {},
     "output_type": "display_data"
    }
   ],
   "source": [
    "labels = np.empty((0,3))\n",
    "for x in tqdm_notebook(testloader):\n",
    "    x = x.to(device)\n",
    "    output = model(x)\n",
    "    _, pred = output.topk(3, 1, True, True)\n",
    "    labels = np.concatenate([labels, pred], axis = 0)"
   ]
  },
  {
   "cell_type": "code",
   "execution_count": 23,
   "metadata": {},
   "outputs": [
    {
     "data": {
      "application/vnd.jupyter.widget-view+json": {
       "model_id": "59d2973335c14826a375977940a99ae8",
       "version_major": 2,
       "version_minor": 0
      },
      "text/plain": [
       "HBox(children=(IntProgress(value=0, max=112199), HTML(value='')))"
      ]
     },
     "metadata": {},
     "output_type": "display_data"
    }
   ],
   "source": [
    "submission = pd.read_csv('../input/test_simplified.csv', index_col='key_id')\n",
    "submission.drop(['countrycode', 'drawing'], axis=1, inplace=True)\n",
    "submission['word'] = ''\n",
    "prog = tqdm_notebook(total = len(submission))\n",
    "for i, label in enumerate(labels):\n",
    "    prog.update(1)\n",
    "    submission.word.iloc[i] = \" \".join([decode_labels(l) for l in label])"
   ]
  },
  {
   "cell_type": "code",
   "execution_count": 24,
   "metadata": {},
   "outputs": [
    {
     "name": "stdout",
     "output_type": "stream",
     "text": [
      "save result\n",
      "upload result\n",
      "cmd: kaggle competitions submit -c quickdraw-doodle-recognition -f ../result/se-resnet50.csv.7z -m \"submit\"\n"
     ]
    }
   ],
   "source": [
    "import kaggle_util\n",
    "kaggle_util.save_result(submission,  \n",
    "                        '../result/se-resnet50.csv', \n",
    "                         'quickdraw-doodle-recognition', \n",
    "                        send=True, index=True)"
   ]
  },
  {
   "cell_type": "code",
   "execution_count": null,
   "metadata": {},
   "outputs": [],
   "source": [
    "x.shape"
   ]
  },
  {
   "cell_type": "code",
   "execution_count": null,
   "metadata": {},
   "outputs": [],
   "source": [
    "pres = np.empty((0,340))\n",
    "for x in tqdm_notebook(testloader):\n",
    "    x = x.to(device)\n",
    "    output = model(x)\n",
    "    pres = np.concatenate([pres, output.detach().cpu().numpy()], axis = 0)\n",
    "    \n",
    "pres.shape"
   ]
  },
  {
   "cell_type": "code",
   "execution_count": null,
   "metadata": {},
   "outputs": [],
   "source": [
    "swaps = [\n",
    "    (18,19),\n",
    "    (130,129),\n",
    "    (156,155),\n",
    "]\n",
    "\n",
    "for pair in swaps:\n",
    "    temp = np.copy(pres[:,pair[0]])\n",
    "    pres[:,pair[0]] = pres[:,pair[1]]\n",
    "    pres[:,pair[1]] = temp"
   ]
  },
  {
   "cell_type": "code",
   "execution_count": null,
   "metadata": {},
   "outputs": [],
   "source": [
    "def softmax(x):\n",
    "    return np.exp(x) / np.sum(np.exp(x), axis=0)"
   ]
  },
  {
   "cell_type": "code",
   "execution_count": null,
   "metadata": {},
   "outputs": [],
   "source": [
    "pre_softmax = softmax(pres.T).T"
   ]
  },
  {
   "cell_type": "code",
   "execution_count": null,
   "metadata": {},
   "outputs": [],
   "source": [
    "np.save('../result/pre_{}.npy'.format(model_prefix), pre_softmax)"
   ]
  },
  {
   "cell_type": "code",
   "execution_count": null,
   "metadata": {},
   "outputs": [],
   "source": []
  }
 ],
 "metadata": {
  "kernelspec": {
   "display_name": "Python 3",
   "language": "python",
   "name": "python3"
  },
  "language_info": {
   "codemirror_mode": {
    "name": "ipython",
    "version": 3
   },
   "file_extension": ".py",
   "mimetype": "text/x-python",
   "name": "python",
   "nbconvert_exporter": "python",
   "pygments_lexer": "ipython3",
   "version": "3.6.5"
  }
 },
 "nbformat": 4,
 "nbformat_minor": 2
}
